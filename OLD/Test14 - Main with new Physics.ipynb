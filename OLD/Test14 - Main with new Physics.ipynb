{
 "cells": [
  {
   "cell_type": "markdown",
   "metadata": {},
   "source": [
    "# Convergence without training\n",
    "On entraine le réseau de neurones myResNet pour les hyperparamètres.\n",
    "On se place dans l'espace des vecteurs propres de $^tTT$."
   ]
  },
  {
   "cell_type": "code",
   "execution_count": 1,
   "metadata": {},
   "outputs": [],
   "source": [
    "# importation\n",
    "import numpy as np\n",
    "import matplotlib.pyplot as plt\n",
    "import torch\n",
    "import torch.nn as nn\n",
    "import torch.nn.functional as F\n",
    "from torch.autograd import Variable\n",
    "from torch.utils.data import Dataset, TensorDataset\n",
    "from torch.utils.data import DataLoader\n",
    "from torch.utils.data.dataset import random_split\n",
    "import cv2 as cv\n",
    "import matplotlib.pyplot as plt\n",
    "import pandas as pd\n",
    "%matplotlib inline\n",
    "# local\n",
    "from FBResNet.pretreat import LoadDataSet, CreateDataSet\n",
    "from FBResNet.myfunc import Physics\n",
    "from FBResNet.myfunc import MyMatmul\n",
    "from FBResNet.model import MyModel"
   ]
  },
  {
   "cell_type": "markdown",
   "metadata": {},
   "source": [
    "### Etape 0 : parametres"
   ]
  },
  {
   "cell_type": "code",
   "execution_count": 23,
   "metadata": {},
   "outputs": [],
   "source": [
    "a   = 1\n",
    "p   = 1\n",
    "nx  = 20000\n",
    "m   = 500\n",
    "sim = Physics(nx,m,a,p)"
   ]
  },
  {
   "cell_type": "markdown",
   "metadata": {},
   "source": [
    "### Etape 1 : on charge les donnees"
   ]
  },
  {
   "cell_type": "code",
   "execution_count": 24,
   "metadata": {},
   "outputs": [
    {
     "ename": "ValueError",
     "evalue": "too many values to unpack (expected 2)",
     "output_type": "error",
     "traceback": [
      "\u001b[0;31m---------------------------------------------------------------------------\u001b[0m",
      "\u001b[0;31mValueError\u001b[0m                                Traceback (most recent call last)",
      "\u001b[0;32m<ipython-input-24-41ea23db64f0>\u001b[0m in \u001b[0;36m<module>\u001b[0;34m\u001b[0m\n\u001b[1;32m      1\u001b[0m \u001b[0mfolder\u001b[0m  \u001b[0;34m=\u001b[0m \u001b[0;34m'./Datasets/'\u001b[0m\u001b[0;34m\u001b[0m\u001b[0;34m\u001b[0m\u001b[0m\n\u001b[1;32m      2\u001b[0m \u001b[0mnsample\u001b[0m \u001b[0;34m=\u001b[0m \u001b[0;36m50\u001b[0m\u001b[0;34m\u001b[0m\u001b[0;34m\u001b[0m\u001b[0m\n\u001b[0;32m----> 3\u001b[0;31m \u001b[0mtrain_set\u001b[0m\u001b[0;34m,\u001b[0m \u001b[0mval_set\u001b[0m \u001b[0;34m=\u001b[0m \u001b[0mCreateDataSet\u001b[0m\u001b[0;34m(\u001b[0m\u001b[0msim\u001b[0m\u001b[0;34m,\u001b[0m\u001b[0mfolder\u001b[0m\u001b[0;34m,\u001b[0m \u001b[0mnoise\u001b[0m\u001b[0;34m=\u001b[0m\u001b[0;36m0.0\u001b[0m\u001b[0;34m,\u001b[0m \u001b[0msave\u001b[0m\u001b[0;34m=\u001b[0m\u001b[0;34m'yes'\u001b[0m\u001b[0;34m)\u001b[0m\u001b[0;34m\u001b[0m\u001b[0;34m\u001b[0m\u001b[0m\n\u001b[0m",
      "\u001b[0;31mValueError\u001b[0m: too many values to unpack (expected 2)"
     ]
    }
   ],
   "source": [
    "folder  = './Datasets/'\n",
    "nsample = 50\n",
    "train_set, val_set = CreateDataSet(sim,folder, noise=0.0, save='yes')"
   ]
  },
  {
   "cell_type": "markdown",
   "metadata": {},
   "source": [
    "### Etape 2 : test gaussienne"
   ]
  },
  {
   "cell_type": "code",
   "execution_count": null,
   "metadata": {},
   "outputs": [],
   "source": [
    "t   =np.linspace(0,1,nx)\n",
    "x   = np.exp(-(t-0.5)**2/0.01)\n",
    "xc  = sim.BasisChange(x)\n",
    "y   = sim.ComputeAdjoint(sim.Compute(x))\n",
    "y.shape"
   ]
  },
  {
   "cell_type": "code",
   "execution_count": null,
   "metadata": {},
   "outputs": [],
   "source": [
    "alpha = 0.000693\n",
    "rho = 0.5\n",
    "xk  = np.zeros(m)\n",
    "tTT = np.diag(1/sim.eigm**2)\n",
    "tDD = np.diag(sim.eigm**2)\n",
    "for k in range(100):\n",
    "    xk = xk-rho*(tTT.dot(xk)-y + alpha*tDD.dot(xk))\n"
   ]
  },
  {
   "cell_type": "code",
   "execution_count": null,
   "metadata": {},
   "outputs": [],
   "source": [
    "plt.plot(xc)\n",
    "plt.plot(xk)"
   ]
  },
  {
   "cell_type": "code",
   "execution_count": null,
   "metadata": {},
   "outputs": [],
   "source": [
    "xf = sim.BasisChangeInv(xk)        \n",
    "plt.plot(t,xf)\n",
    "plt.plot(t,x)"
   ]
  },
  {
   "cell_type": "markdown",
   "metadata": {},
   "source": [
    "### Etape 3 : definir modele pour gaussienne"
   ]
  },
  {
   "cell_type": "code",
   "execution_count": null,
   "metadata": {},
   "outputs": [],
   "source": [
    "mymodel = MyModel(sim,200)"
   ]
  },
  {
   "cell_type": "code",
   "execution_count": null,
   "metadata": {},
   "outputs": [],
   "source": [
    "t   =np.linspace(0,1,nx)\n",
    "x   = np.exp(-(t-0.5)**2/0.01)\n",
    "y   = sim.ComputeAdjoint(sim.Compute(x))\n",
    "x0 = torch.FloatTensor(np.zeros((1,1,m))).detach()\n",
    "xb = torch.FloatTensor(y.reshape(1,1,-1)).detach()"
   ]
  },
  {
   "cell_type": "code",
   "execution_count": null,
   "metadata": {},
   "outputs": [],
   "source": [
    "with torch.no_grad():\n",
    "    xt = mymodel(x0,xb).detach()\n",
    "xt.numpy()"
   ]
  },
  {
   "cell_type": "code",
   "execution_count": null,
   "metadata": {},
   "outputs": [],
   "source": [
    "#plt.plot(xc,label=\"gauss\")\n",
    "plt.plot(xt[0,0].numpy(),label=\"model\")\n",
    "plt.legend()"
   ]
  },
  {
   "cell_type": "code",
   "execution_count": null,
   "metadata": {},
   "outputs": [],
   "source": [
    "plt.plot(sim.BasisChangeInv(xt[0,0].numpy()),label=\"model\")\n",
    "plt.plot(xf,label = \"dg\")\n",
    "plt.plot(x,label=\"gauss\")\n",
    "plt.plot(np.zeros(nx))\n",
    "plt.legend()"
   ]
  },
  {
   "cell_type": "markdown",
   "metadata": {},
   "source": [
    "### ANNEXE"
   ]
  },
  {
   "cell_type": "code",
   "execution_count": null,
   "metadata": {},
   "outputs": [],
   "source": [
    "mymodel = MyModel(sim,400)"
   ]
  },
  {
   "cell_type": "code",
   "execution_count": null,
   "metadata": {},
   "outputs": [],
   "source": [
    "for i,minibatch in enumerate(train_set):\n",
    "    if i<3:\n",
    "        [x_init, x_true] = minibatch    # get the minibatch\n",
    "#         y  = sim.BasisChangeInv(x_init[0,0].numpy())\n",
    "#         plt.plot(y)        \n",
    "        y  = sim.BasisChangeInv(x_true[0,0].numpy())\n",
    "        plt.plot(y,'+')"
   ]
  },
  {
   "cell_type": "code",
   "execution_count": null,
   "metadata": {},
   "outputs": [],
   "source": [
    "x_init.shape"
   ]
  },
  {
   "cell_type": "code",
   "execution_count": null,
   "metadata": {},
   "outputs": [],
   "source": [
    "x_true.shape"
   ]
  },
  {
   "cell_type": "code",
   "execution_count": null,
   "metadata": {},
   "outputs": [],
   "source": [
    "y  = sim.BasisChangeInv(x_true[0,0].numpy())\n",
    "plt.plot(y)"
   ]
  },
  {
   "cell_type": "code",
   "execution_count": null,
   "metadata": {},
   "outputs": [],
   "source": [
    "with torch.no_grad():\n",
    "    x_test = mymodel(x_init,x_init).detach()"
   ]
  },
  {
   "cell_type": "code",
   "execution_count": null,
   "metadata": {},
   "outputs": [],
   "source": [
    "plt.plot(x_init[0,0].numpy(),'+',label='init')\n",
    "plt.plot(x_test[0,0].numpy(),'+',label='test')\n",
    "plt.plot(x_true[0,0].numpy(),'+',label ='true')\n",
    "plt.legend()"
   ]
  },
  {
   "cell_type": "code",
   "execution_count": null,
   "metadata": {},
   "outputs": [],
   "source": [
    "xi_elt = sim.BasisChangeInv(x_init[0,0].numpy())\n",
    "xt_elt = sim.BasisChangeInv(x_test[0,0].numpy())\n",
    "plt.plot(xt_elt,label='test')\n",
    "plt.plot(y,label ='true')\n",
    "plt.legend()"
   ]
  },
  {
   "cell_type": "code",
   "execution_count": null,
   "metadata": {},
   "outputs": [],
   "source": [
    "xt_elt.min()"
   ]
  },
  {
   "cell_type": "code",
   "execution_count": null,
   "metadata": {},
   "outputs": [],
   "source": [
    "y.min()"
   ]
  },
  {
   "cell_type": "markdown",
   "metadata": {},
   "source": [
    "Comparaison avec le veritable signal (positif du coup)"
   ]
  },
  {
   "cell_type": "code",
   "execution_count": null,
   "metadata": {},
   "outputs": [],
   "source": [
    "dfr = pd.read_csv(folder+'/Signals/data_lisse.csv', sep=',',header=None)\n",
    "real=dfr.values\n",
    "real.shape"
   ]
  },
  {
   "cell_type": "code",
   "execution_count": null,
   "metadata": {},
   "outputs": [],
   "source": [
    "dfl = pd.read_csv(folder+'/Signals/data_lisse_trsf.csv', sep=',',header=None)\n",
    "lisse=dfl.values\n",
    "dfb = pd.read_csv(folder+'/Signals/data_tTblurred.csv', sep=',',header=None)\n",
    "blurred = torch.FloatTensor(dfb.values[12].reshape(1,1,-1))\n",
    "with torch.no_grad():\n",
    "    test = sim.BasisChangeInv(mymodel(blurred,blurred).detach())"
   ]
  },
  {
   "cell_type": "code",
   "execution_count": null,
   "metadata": {},
   "outputs": [],
   "source": [
    "plt.plot(real[12],label='real')\n",
    "plt.plot(sim.BasisChangeInv(lisse[12]),label='true')\n",
    "plt.plot(test[0,0].numpy(),label='test')\n",
    "plt.legend()"
   ]
  },
  {
   "cell_type": "code",
   "execution_count": null,
   "metadata": {},
   "outputs": [],
   "source": []
  },
  {
   "cell_type": "code",
   "execution_count": null,
   "metadata": {},
   "outputs": [],
   "source": []
  }
 ],
 "metadata": {
  "kernelspec": {
   "display_name": "Python 3",
   "language": "python",
   "name": "python3"
  },
  "language_info": {
   "codemirror_mode": {
    "name": "ipython",
    "version": 3
   },
   "file_extension": ".py",
   "mimetype": "text/x-python",
   "name": "python",
   "nbconvert_exporter": "python",
   "pygments_lexer": "ipython3",
   "version": "3.9.1"
  }
 },
 "nbformat": 4,
 "nbformat_minor": 4
}
