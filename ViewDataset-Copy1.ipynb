{
 "cells": [
  {
   "cell_type": "markdown",
   "metadata": {},
   "source": [
    "# View the dataset"
   ]
  },
  {
   "cell_type": "code",
   "execution_count": 7,
   "metadata": {},
   "outputs": [],
   "source": [
    "import numpy as np\n",
    "import math\n",
    "import matplotlib.pyplot as plt\n",
    "from scipy.linalg import inv,pinvh,eig,eigh\n",
    "from scipy.stats import linregress\n",
    "%matplotlib inline"
   ]
  },
  {
   "cell_type": "markdown",
   "metadata": {},
   "source": [
    "# COMPARISON WITH FRACTIONAL POWER"
   ]
  },
  {
   "cell_type": "code",
   "execution_count": 110,
   "metadata": {
    "scrolled": true
   },
   "outputs": [],
   "source": [
    "# Matrice opérateur\n",
    "a   = 0.5\n",
    "nx  = 2000\n",
    "dx  = 1/nx\n",
    "m   = 500\n",
    "T   = np.tri(nx)"
   ]
  },
  {
   "cell_type": "markdown",
   "metadata": {},
   "source": [
    "#### EXPLICIT"
   ]
  },
  {
   "cell_type": "code",
   "execution_count": 189,
   "metadata": {},
   "outputs": [],
   "source": [
    "Ta1 = np.zeros((nx,nx))\n",
    "for i in range(nx):\n",
    "    for j in range(nx):\n",
    "        if j<i:\n",
    "            Ta1[i,j]=1/a*1/(a+1)*dx**(a+1)*(2*(i-j)**(a+1)-(i-j+1)**(a+1)-(i-j-1)**(a+1))\n",
    "        elif i==j:\n",
    "            Ta1[i,j]=1/a*dx**(a)*((i-j+1)**a-(i-j)**a)\n",
    "            \n",
    "#Ta1 = 0.25*np.transpose(Ta1).dot(Ta1)"
   ]
  },
  {
   "cell_type": "markdown",
   "metadata": {},
   "source": [
    "#### AS A POWER OF a=1"
   ]
  },
  {
   "cell_type": "code",
   "execution_count": 190,
   "metadata": {},
   "outputs": [],
   "source": [
    "def power(M,r) :\n",
    "        D,P = eigh(M)\n",
    "        D   = np.diag(D**r)\n",
    "        return P.dot(D).dot(np.transpose(P))\n",
    "T   = dx*np.tri(nx)\n",
    "tTT = np.transpose(T).dot(T)\n",
    "Ta2 = power(tTT,a/2)"
   ]
  },
  {
   "cell_type": "markdown",
   "metadata": {},
   "source": [
    "#### IN EIGENVALUES BASIS"
   ]
  },
  {
   "cell_type": "code",
   "execution_count": 191,
   "metadata": {},
   "outputs": [],
   "source": [
    "base       = np.zeros((m,nx))        \n",
    "eigm       = ((np.linspace(0,m-1,m)+1/2)*np.pi).reshape(-1,1)\n",
    "v1         = ((2*np.linspace(0,nx-1,nx)+1)*dx/2).reshape(1,-1)\n",
    "v2         = (np.ones(nx)/2*dx).reshape(1,-1)\n",
    "base       = 2*np.sqrt(2)/eigm*np.cos(v1*eigm)*np.sin(v2*eigm)\n",
    "Ta3        = np.diag(((np.linspace(0,m-1,m)+1/2)*np.pi)**(-2*a))\n",
    "Ta3        = nx*np.transpose(base).dot(Ta3).dot(base)\n",
    "#Ta3        = np.transpose(Ta3).dot(Ta3)"
   ]
  },
  {
   "cell_type": "markdown",
   "metadata": {},
   "source": [
    "#### COMPUTE AND PLOT"
   ]
  },
  {
   "cell_type": "code",
   "execution_count": 192,
   "metadata": {},
   "outputs": [],
   "source": [
    "t  = np.linspace(0,1-1/nx,nx)\n",
    "x  = np.exp(-(t-0.5)**2/0.1**2)\n",
    "y1 = Ta1.dot(x)\n",
    "y2 = Ta2.dot(x)\n",
    "y3 = Ta3.dot(x)"
   ]
  },
  {
   "cell_type": "code",
   "execution_count": 193,
   "metadata": {},
   "outputs": [
    {
     "data": {
      "text/plain": [
       "<matplotlib.legend.Legend at 0x7fb6028fd550>"
      ]
     },
     "execution_count": 193,
     "metadata": {},
     "output_type": "execute_result"
    },
    {
     "data": {
      "image/png": "[encoded data removed]",
      "text/plain": [
       "<Figure size 432x288 with 1 Axes>"
      ]
     },
     "metadata": {
      "needs_background": "light"
     },
     "output_type": "display_data"
    }
   ],
   "source": [
    "plt.plot(y1,label=\"explicit compute\")\n",
    "plt.plot(y2,label=\"frac power\")\n",
    "plt.plot(y3,label=\"eigenbasis\")\n",
    "plt.legend()"
   ]
  },
  {
   "cell_type": "code",
   "execution_count": null,
   "metadata": {},
   "outputs": [],
   "source": []
  },
  {
   "cell_type": "code",
   "execution_count": null,
   "metadata": {},
   "outputs": [],
   "source": []
  }
 ],
 "metadata": {
  "kernelspec": {
   "display_name": "Python 3",
   "language": "python",
   "name": "python3"
  },
  "language_info": {
   "codemirror_mode": {
    "name": "ipython",
    "version": 3
   },
   "file_extension": ".py",
   "mimetype": "text/x-python",
   "name": "python",
   "nbconvert_exporter": "python",
   "pygments_lexer": "ipython3",
   "version": "3.9.1"
  }
 },
 "nbformat": 4,
 "nbformat_minor": 4
}
