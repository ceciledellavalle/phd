{
 "cells": [
  {
   "cell_type": "code",
   "execution_count": 1,
   "metadata": {},
   "outputs": [],
   "source": [
    "# importation\n",
    "import numpy as np\n",
    "from torch.autograd import Variable\n",
    "import torch\n",
    "import matplotlib.pyplot as plt\n",
    "%matplotlib inline\n",
    "# local\n",
    "from FBResNet.myfunc import Physics"
   ]
  },
  {
   "cell_type": "code",
   "execution_count": 13,
   "metadata": {},
   "outputs": [],
   "source": [
    "### KALMAN FILTER #################################################################################\n",
    "\n",
    "def Kalman_filter(y,alpha=0.1,a=1, nx=50):\n",
    "    \"\"\" Comnpute nx steps of Kalman filter \n",
    "    to reconstruct the initial condition :\n",
    "    obs        -- real measurement (eventually noisy) (1 x nx)\n",
    "    std_dev    -- standart deviation\n",
    "    \"\"\"\n",
    "    obs = np.flip(y)\n",
    "    ### INITIALISATION\n",
    "    # Construction of the observer (equal zero for the initial condition taken as parameter)\n",
    "    # Moment a = 1\n",
    "    if a==1:\n",
    "         op_1 = 1/nx*np.ones(nx)\n",
    "    # Moment a = 1/2\n",
    "    if a==0.5:\n",
    "         op_1 = 1/nx*np.linspace(1/nx,1,nx)**(a-1)\n",
    "    #\n",
    "    obs_kalman = np.vstack((op_1, np.zeros(nx))).reshape(1,2*nx)\n",
    "\n",
    "\n",
    "    # Construction of the new dynamic (identity for the initial condition)\n",
    "    flow = np.diag(np.ones(nx-1),-1)\n",
    "    flow_kalman = np.concatenate((\\\n",
    "                np.concatenate((flow,np.zeros((nx,nx))),axis=1),\\\n",
    "                np.concatenate((np.zeros((nx,nx)),np.eye(nx)),axis=1)))\n",
    "\n",
    "    # Construction of the norm of the two spaces\n",
    "    inv_norm_obs = alpha/nx*np.eye(1)\n",
    "\n",
    "\n",
    "    # Initialisation of the covariance matrix\n",
    "    cov_op_m = np.kron(np.ones((2,2)),np.eye(nx))\n",
    "    cov_op_p = cov_op_m.copy()\n",
    "\n",
    "    # Initialisation of the state\n",
    "    state_m = np.zeros(2*nx)\n",
    "    state_p = state_m.copy()\n",
    "    state_kalman = np.zeros((2*nx,nx))\n",
    "\n",
    "    ### KALMAN FILTER\n",
    "    for k in range(0,nx):\n",
    "\n",
    "        ### CORRECTION\n",
    "        # Covariance computation +\n",
    "        interim_matrix = inv_norm_obs + obs_kalman.dot(cov_op_m).dot(obs_kalman.transpose())\n",
    "        kalman_gain = cov_op_m.dot(obs_kalman.transpose()).dot(np.linalg.inv(interim_matrix))\n",
    "\n",
    "        cov_op_p = (np.eye(2*nx) - kalman_gain.dot(obs_kalman)).dot(cov_op_m)\\\n",
    "        .dot(np.transpose((np.eye(2*nx) - kalman_gain.dot(obs_kalman)))) \\\n",
    "        + kalman_gain.dot(inv_norm_obs).dot(np.transpose(kalman_gain))\n",
    "\n",
    "        # State correction computation +\n",
    "        state_p = state_m + kalman_gain\\\n",
    "        .dot(obs[k]- np.dot(obs_kalman,state_m))\n",
    "                    \n",
    "\n",
    "        ### PREDICTION\n",
    "        # Covariance computation -\n",
    "        cov_op_m = flow_kalman.dot(cov_op_p).dot(flow_kalman.transpose())\n",
    "\n",
    "        # State prediction computation -\n",
    "        state_m = np.dot(flow_kalman,state_p)\n",
    "        \n",
    "        # Saving the solution\n",
    "        state_kalman[:,k] = state_m.copy()\n",
    "\n",
    "    return state_kalman[nx:,-1]"
   ]
  },
  {
   "cell_type": "code",
   "execution_count": 19,
   "metadata": {},
   "outputs": [],
   "source": [
    "def test_gauss(noise = 0.1,alpha = 0.002, order=1, constr='cube'):\n",
    "    # Gaussienne \n",
    "    physics = Physics(nx=50,m=50,a=order)\n",
    "    nx    = physics.nx\n",
    "    m     = physics.m\n",
    "    fmax  = m//2\n",
    "    t     = np.linspace(0,1,nx)\n",
    "    gauss = np.exp(-(t-0.5)**2/(0.1)**(2))\n",
    "    if constr == 'cube':\n",
    "        gauss = gauss/np.amax(gauss)\n",
    "    if constr == 'slab':\n",
    "        u      = 1/nx**2*np.linspace(1,nx,nx)\n",
    "        gauss = 0.5*gauss/np.dot(u,gauss)\n",
    "    # obtenir les images bruitees par l' operateur d' ordre a\n",
    "    # transform\n",
    "    x_blurred  = physics.Compute(gauss)\n",
    "    yp         = physics.BasisChange(x_blurred)\n",
    "    # Etape 4 : noise \n",
    "    vn          = np.zeros(m)\n",
    "    vn[fmax//2:]= np.random.randn(m-fmax//2)\n",
    "    vn          = noise*np.linalg.norm(yp)*vn/np.linalg.norm(vn)\n",
    "    xbn        = x_blurred + physics.BasisChangeInv(vn)\n",
    "    # plot\n",
    "    plt.plot(x_blurred)\n",
    "    plt.plot(xbn)\n",
    "    plt.show()\n",
    "    #\n",
    "    xp         = Kalman_filter(xbn,alpha,order,nx)\n",
    "    # plot\n",
    "    plt.plot(t,gauss)\n",
    "    plt.plot(t,xp)\n",
    "    plt.show()\n",
    "    print(\"x-xp/x =\",np.linalg.norm(xp-gauss)/np.linalg.norm(gauss))\n",
    "    return xp\n"
   ]
  },
  {
   "cell_type": "code",
   "execution_count": 20,
   "metadata": {},
   "outputs": [],
   "source": [
    "#x1 = test_gauss(noise = 0.1,alpha = 5)"
   ]
  },
  {
   "cell_type": "code",
   "execution_count": 30,
   "metadata": {},
   "outputs": [
    {
     "data": {
      "image/png": "[encoded data removed]",
      "text/plain": [
       "<Figure size 432x288 with 1 Axes>"
      ]
     },
     "metadata": {
      "needs_background": "light"
     },
     "output_type": "display_data"
    },
    {
     "data": {
      "image/png": "[encoded data removed]",
      "text/plain": [
       "<Figure size 432x288 with 1 Axes>"
      ]
     },
     "metadata": {
      "needs_background": "light"
     },
     "output_type": "display_data"
    },
    {
     "name": "stdout",
     "output_type": "stream",
     "text": [
      "x-xp/x = 0.2202810612129819\n"
     ]
    }
   ],
   "source": [
    "x05 = test_gauss(noise = 0.05,alpha = 0.08)"
   ]
  },
  {
   "cell_type": "code",
   "execution_count": 31,
   "metadata": {},
   "outputs": [],
   "source": [
    "from FBResNet.posttreat import Export_Data\n",
    "from scipy.interpolate import interp1d\n",
    "# interpolation\n",
    "def reduce(f,n1,n2):\n",
    "    t      = np.linspace(0,1,n1, endpoint=True)\n",
    "    te     = np.linspace(0,1,n2,endpoint=True)\n",
    "    g      = interp1d(t,f)\n",
    "    f_red  = g(te)\n",
    "    return te,f_red\n",
    "t1,f1 = reduce(x05,50,500)\n",
    "Export_Data(t1,f1,'./Redaction/data','gauss_pred_a1_kalman')"
   ]
  },
  {
   "cell_type": "code",
   "execution_count": 7,
   "metadata": {},
   "outputs": [],
   "source": [
    "#x01 = test_gauss(noise = 0.01,alpha=0.5)"
   ]
  },
  {
   "cell_type": "code",
   "execution_count": 8,
   "metadata": {},
   "outputs": [],
   "source": [
    "# t = np.linspace(0,1,500)\n",
    "# from FBResNet.posttreat import Export_Data\n",
    "# Export_Data(t,x1,'./Redaction/data','gauss_kal_a1_1')\n",
    "# Export_Data(t,x05,'./Redaction/data','gauss_kal_a1_05')\n",
    "# Export_Data(t,x01,'./Redaction/data','gauss_kal_a1_01')"
   ]
  },
  {
   "cell_type": "code",
   "execution_count": 9,
   "metadata": {},
   "outputs": [],
   "source": [
    "#x1 = test_gauss(noise = 0.1,alpha = 5.1, order=0.5)"
   ]
  },
  {
   "cell_type": "code",
   "execution_count": 10,
   "metadata": {},
   "outputs": [],
   "source": [
    "#x05 = test_gauss(noise = 0.05,alpha = 1.5)"
   ]
  },
  {
   "cell_type": "code",
   "execution_count": 11,
   "metadata": {},
   "outputs": [],
   "source": [
    "#x01 = test_gauss(noise = 0.01,alpha=0.5)"
   ]
  },
  {
   "cell_type": "code",
   "execution_count": null,
   "metadata": {},
   "outputs": [],
   "source": []
  },
  {
   "cell_type": "code",
   "execution_count": null,
   "metadata": {},
   "outputs": [],
   "source": []
  }
 ],
 "metadata": {
  "kernelspec": {
   "display_name": "Python 3",
   "language": "python",
   "name": "python3"
  },
  "language_info": {
   "codemirror_mode": {
    "name": "ipython",
    "version": 3
   },
   "file_extension": ".py",
   "mimetype": "text/x-python",
   "name": "python",
   "nbconvert_exporter": "python",
   "pygments_lexer": "ipython3",
   "version": "3.9.4"
  }
 },
 "nbformat": 4,
 "nbformat_minor": 4
}
