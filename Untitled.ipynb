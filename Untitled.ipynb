{
 "cells": [
  {
   "cell_type": "markdown",
   "id": "7568a9a7",
   "metadata": {},
   "source": [
    "# PLOT pour a=1"
   ]
  },
  {
   "cell_type": "code",
   "execution_count": 1,
   "id": "214703b6",
   "metadata": {},
   "outputs": [],
   "source": [
    "# importation\n",
    "import numpy as np\n",
    "from torch.autograd import Variable\n",
    "import torch\n",
    "import matplotlib.pyplot as plt\n",
    "from scipy.interpolate import interp1d\n",
    "%matplotlib inline\n",
    "# local\n",
    "from FBResNet.myfunc import Physics\n",
    "from FBResNet.myfunc import MyMatmul\n",
    "from FBResNet.main import FBRestNet\n",
    "from FBResNet.model import MyModel\n",
    "from FBResNet.posttreat import Export_hyper"
   ]
  },
  {
   "cell_type": "code",
   "execution_count": 2,
   "id": "9642d82c",
   "metadata": {},
   "outputs": [],
   "source": [
    "def MyPlot(exp,fx,fb,idx):\n",
    "    # Select 3 curves number 15, 24, 30\n",
    "    x_true = fx[idx]\n",
    "    y = torch.FloatTensor(fb[idx]).view(-1,1,exp.physics.m)\n",
    "    x_bias  = Variable(y,requires_grad=False)\n",
    "    fmax = exp.physics.m//3\n",
    "    # definition of the initialisation tensor\n",
    "    x_init   = torch.zeros(x_bias.size())\n",
    "    inv      = np.diag(exp.physics.eigm**(2*exp.physics.a))\n",
    "    tTTinv   = MyMatmul(inv)\n",
    "    x_init[:,:,:fmax]   = tTTinv(y)[:,:,:fmax]\n",
    "    x_init   = Variable(x_init,requires_grad=False) \n",
    "    with torch.no_grad():\n",
    "        exp.model.eval() \n",
    "        # prediction\n",
    "        x_pred  = exp.model(x_init,x_bias).detach()\n",
    "        xpc     = x_pred.detach().numpy()[0,0,:]\n",
    "        x_out   = exp.physics.BasisChangeInv(xpc)\n",
    "    plt.plot(x_out)\n",
    "    plt.plot(x_true)\n",
    "    return x_out,x_true"
   ]
  },
  {
   "cell_type": "code",
   "execution_count": 3,
   "id": "3ff88f0a",
   "metadata": {},
   "outputs": [],
   "source": [
    "def Export_Data(ydata,name):\n",
    "    \"\"\"\n",
    "    Save a function in a chose folder\n",
    "    for plot purpose.\n",
    "    \"\"\"\n",
    "    Npoint = 200\n",
    "    # interpolate\n",
    "    t  = np.linspace(0,1,2000)\n",
    "    ti = np.linspace(0,1,200)\n",
    "    f  = interp1d(t,ydata)\n",
    "    yi = f(ti)\n",
    "    #\n",
    "    folder='./Redaction/data'\n",
    "    with open(folder+'/'+name+'.txt', 'w') as f:\n",
    "        f.writelines('xdata ydata \\n')\n",
    "        for i in range(Npoint):\n",
    "            web_browsers = ['{0}'.format(ti[i]),' ','{0} \\n'.format(yi[i])]\n",
    "            f.writelines(web_browsers)"
   ]
  },
  {
   "cell_type": "code",
   "execution_count": 4,
   "id": "afbeeda7",
   "metadata": {},
   "outputs": [],
   "source": [
    "# Load database\n",
    "import pandas as pd\n",
    "folder = './Datasets/Signals'"
   ]
  },
  {
   "cell_type": "markdown",
   "id": "0b19a6da",
   "metadata": {},
   "source": [
    "# SLAB"
   ]
  },
  {
   "cell_type": "code",
   "execution_count": null,
   "id": "7ed48921",
   "metadata": {},
   "outputs": [],
   "source": [
    "# Load database\n",
    "import pandas as pd\n",
    "folder = './Datasets/Signals'\n",
    "dfxs1 = pd.read_csv(folder+'/'+'data_l_a1_slab.csv', sep=',',header=None)\n",
    "dfys1 = pd.read_csv(folder+'/'+'data_tTb_a1_slab_n0.05.csv', sep=',',header=None)\n",
    "dfxs5 = pd.read_csv(folder+'/'+'data_l_a0.5_slab.csv', sep=',',header=None)\n",
    "dfys5 = pd.read_csv(folder+'/'+'data_tTb_a0.5_slab_n0.05.csv', sep=',',header=None)\n",
    "# numpy array\n",
    "fxs1 = np.array(dfxs1) # initial - elt basis\n",
    "fys1 = np.array(dfys1)\n",
    "fxs5 = np.array(dfxs5) # initial - elt basis\n",
    "fys5 = np.array(dfys5)"
   ]
  },
  {
   "cell_type": "code",
   "execution_count": 13,
   "id": "1a472171",
   "metadata": {},
   "outputs": [],
   "source": [
    "# a=1, p=1\n",
    "exps1 = FBRestNet(experimentation=Physics(2000,50,1,1), nb_blocks=20, noise = 0.05,\\\n",
    "                 constraint = 'slab',\\\n",
    "                 folder = './', im_set=\"Set1\",batch_size=[60,1],\\\n",
    "                 lr=1e-3, nb_epochs=[10,1])\n",
    "# load parameters\n",
    "exps1.LoadParam()"
   ]
  },
  {
   "cell_type": "code",
   "execution_count": null,
   "id": "769570a7",
   "metadata": {},
   "outputs": [],
   "source": [
    "# a=0.5, p=1\n",
    "exps5 = FBRestNet(experimentation=Physics(2000,50,0.5,1), nb_blocks=20, noise = 0.05,\\\n",
    "                 constraint = 'slab',\\\n",
    "                 folder = './', im_set=\"Set1\",batch_size=[60,1],\\\n",
    "                 lr=1e-3, nb_epochs=[10,1])\n",
    "# load parameters\n",
    "exps5.LoadParam()"
   ]
  },
  {
   "cell_type": "code",
   "execution_count": 14,
   "id": "b6e361e0",
   "metadata": {},
   "outputs": [
    {
     "ename": "NameError",
     "evalue": "name 'fb5' is not defined",
     "output_type": "error",
     "traceback": [
      "\u001b[0;31m---------------------------------------------------------------------------\u001b[0m",
      "\u001b[0;31mNameError\u001b[0m                                 Traceback (most recent call last)",
      "\u001b[0;32m<ipython-input-14-ef8efdb11318>\u001b[0m in \u001b[0;36m<module>\u001b[0;34m\u001b[0m\n\u001b[0;32m----> 1\u001b[0;31m \u001b[0mMyPlot\u001b[0m\u001b[0;34m(\u001b[0m\u001b[0mexps\u001b[0m\u001b[0;34m,\u001b[0m\u001b[0mfle\u001b[0m\u001b[0;34m,\u001b[0m\u001b[0mfb5\u001b[0m\u001b[0;34m,\u001b[0m\u001b[0;36m12\u001b[0m\u001b[0;34m)\u001b[0m\u001b[0;34m\u001b[0m\u001b[0;34m\u001b[0m\u001b[0m\n\u001b[0m",
      "\u001b[0;31mNameError\u001b[0m: name 'fb5' is not defined"
     ]
    }
   ],
   "source": [
    "x_o,x_t = MyPlot(exps1,fxs1,fys1,15)\n",
    "Export_Data(x_o,'a1sn5_signal15_o')\n",
    "Export_Data(x_t,'a1sn5_signal15_t')\n",
    "#\n",
    "x_o,x_t = MyPlot(exps1,fxs1,fys1,15)\n",
    "Export_Data(x_o,'a1sn5_signal15_o')\n",
    "Export_Data(x_t,'a1sn5_signal15_t')\n",
    "#\n",
    "x_o,x_t = MyPlot(exps1,fxs1,fys1,15)\n",
    "Export_Data(x_o,'a1sn5_signal15_o')\n",
    "Export_Data(x_t,'a1sn5_signal15_t')"
   ]
  },
  {
   "cell_type": "code",
   "execution_count": null,
   "id": "1ee64930",
   "metadata": {},
   "outputs": [],
   "source": [
    "x_o,x_t = MyPlot(exps5,fxs5,fys5,15)\n",
    "Export_Data(x_o,'a05sn5_signal15_o')\n",
    "Export_Data(x_t,'a05sn5_signal15_t')\n",
    "#\n",
    "x_o,x_t = MyPlot(exps5,fxs5,fys5,24)\n",
    "Export_Data(x_o,'a05sn5_signal24_o')\n",
    "Export_Data(x_t,'a05sn5_signal24_t')\n",
    "#\n",
    "x_o,x_t = MyPlot(exps5,fle,fTbn,30)\n",
    "Export_Data(x_o,'a05sn5_signal30_o')\n",
    "Export_Data(x_t,'a05sn5_signal30_t')"
   ]
  },
  {
   "cell_type": "markdown",
   "id": "549cd0cf",
   "metadata": {},
   "source": [
    "## CUBE"
   ]
  },
  {
   "cell_type": "code",
   "execution_count": 5,
   "id": "46607801",
   "metadata": {},
   "outputs": [],
   "source": [
    "dfxc1  = pd.read_csv(folder+'/'+'data_l_a1_cube.csv', sep=',',header=None)\n",
    "dfyc1 = pd.read_csv(folder+'/'+'data_tTb_a1_cube_n0.05.csv', sep=',',header=None)\n",
    "dfxc5  = pd.read_csv(folder+'/'+'data_l_a0.5_cube.csv', sep=',',header=None)\n",
    "dfyc5 = pd.read_csv(folder+'/'+'data_tTb_a0.5_cube_n0.05.csv', sep=',',header=None)\n",
    "# numpy array\n",
    "fxc1 = np.array(dfxc1) # initial - elt basis\n",
    "fyc1 = np.array(dfyc1)\n",
    "fxc5 = np.array(dfxc5)\n",
    "fyc5 = np.array(dfyc5)"
   ]
  },
  {
   "cell_type": "code",
   "execution_count": 6,
   "id": "fc3e23d1",
   "metadata": {},
   "outputs": [],
   "source": [
    "# a=1, p=1\n",
    "expc1 = FBRestNet(experimentation=Physics(2000,50,1,1), nb_blocks=20, noise = 0.05,\\\n",
    "                 folder = './', im_set=\"Set1\",batch_size=[1,1],\\\n",
    "                 lr=1e-3, nb_epochs=[10,1])\n",
    "# load parameters\n",
    "expc1.LoadParam()"
   ]
  },
  {
   "cell_type": "code",
   "execution_count": 7,
   "id": "803a31de",
   "metadata": {},
   "outputs": [],
   "source": [
    "# a=0.5, p=1\n",
    "expc5 = FBRestNet(experimentation=Physics(2000,50,0.5,1), nb_blocks=20, noise = 0.05,\\\n",
    "                 folder = './', im_set=\"Set1\",batch_size=[1,1],\\\n",
    "                 lr=1e-3, nb_epochs=[10,1])\n",
    "# load parameters\n",
    "expc5.LoadParam()"
   ]
  },
  {
   "cell_type": "code",
   "execution_count": 13,
   "id": "e9bfe5a0",
   "metadata": {},
   "outputs": [
    {
     "data": {
      "image/png": "[encoded data removed]",
      "text/plain": [
       "<Figure size 432x288 with 1 Axes>"
      ]
     },
     "metadata": {
      "needs_background": "light"
     },
     "output_type": "display_data"
    }
   ],
   "source": [
    "x_o,x_t = MyPlot(expc,fxc1,fyc1,15)\n",
    "Export_Data(x_o,'a1cn5_signal15_o')\n",
    "Export_Data(x_t,'a1cn5_signal15_t')\n",
    "x_o,x_t = MyPlot(expc,fle,fTbn,24)\n",
    "Export_Data(x_o,'a1cn5_signal24_o')\n",
    "Export_Data(x_t,'a1cn5_signal24_t')\n",
    "x_o,x_t = MyPlot(expc,fle,fTbn,30)\n",
    "Export_Data(x_o,'a1cn5_signal30_o')\n",
    "Export_Data(x_t,'a1cn5_signal30_t')"
   ]
  },
  {
   "cell_type": "code",
   "execution_count": 14,
   "id": "6e7175ec",
   "metadata": {},
   "outputs": [
    {
     "data": {
      "image/png": "[encoded data removed]",
      "text/plain": [
       "<Figure size 432x288 with 1 Axes>"
      ]
     },
     "metadata": {
      "needs_background": "light"
     },
     "output_type": "display_data"
    }
   ],
   "source": []
  },
  {
   "cell_type": "code",
   "execution_count": 15,
   "id": "964ba796",
   "metadata": {},
   "outputs": [
    {
     "data": {
      "image/png": "[encoded data removed]",
      "text/plain": [
       "<Figure size 432x288 with 1 Axes>"
      ]
     },
     "metadata": {
      "needs_background": "light"
     },
     "output_type": "display_data"
    }
   ],
   "source": []
  },
  {
   "cell_type": "code",
   "execution_count": null,
   "id": "f3203e2d",
   "metadata": {},
   "outputs": [],
   "source": []
  }
 ],
 "metadata": {
  "kernelspec": {
   "display_name": "Python 3",
   "language": "python",
   "name": "python3"
  },
  "language_info": {
   "codemirror_mode": {
    "name": "ipython",
    "version": 3
   },
   "file_extension": ".py",
   "mimetype": "text/x-python",
   "name": "python",
   "nbconvert_exporter": "python",
   "pygments_lexer": "ipython3",
   "version": "3.9.4"
  }
 },
 "nbformat": 4,
 "nbformat_minor": 5
}
