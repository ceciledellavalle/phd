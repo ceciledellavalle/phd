{
 "cells": [
  {
   "cell_type": "markdown",
   "metadata": {},
   "source": [
    "# Deep learning with tensorflow for linear inverse problem"
   ]
  },
  {
   "cell_type": "markdown",
   "metadata": {},
   "source": [
    "### Importation"
   ]
  },
  {
   "cell_type": "code",
   "execution_count": 2,
   "metadata": {},
   "outputs": [],
   "source": [
    "import numpy as np\n",
    "import math\n",
    "import random\n",
    "from scipy.optimize import minimize\n",
    "import matplotlib.pyplot as plt\n",
    "%matplotlib inline"
   ]
  },
  {
   "cell_type": "code",
   "execution_count": 3,
   "metadata": {},
   "outputs": [],
   "source": [
    "import tensorflow as tf"
   ]
  },
  {
   "cell_type": "code",
   "execution_count": 4,
   "metadata": {},
   "outputs": [
    {
     "data": {
      "text/plain": [
       "'1.3.0'"
      ]
     },
     "execution_count": 4,
     "metadata": {},
     "output_type": "execute_result"
    }
   ],
   "source": [
    "tf.__version__"
   ]
  },
  {
   "cell_type": "markdown",
   "metadata": {},
   "source": [
    "### Data\n",
    "\n",
    "We are going to solve numerically with neural network a very simple inverse problem.\n",
    "Let us consider the linear bounded operator \n",
    "$ K: \\mathscr{X} \\to \\mathscr{Y}$ with $\\mathscr{X}$ and $\\mathscr{Y}$ two Hilbert space.\n",
    "Knowing an image $y$, we want to reconstruct $x$ such that $x = Ky$.\n",
    "\n",
    "We suppose that $\\mathscr{X} = L^2(a,b)$, $\\mathscr{Y} = L^2(a,b)$, with $a,b \\in \\mathbb{R}^+$,  \n",
    "$$ y (t) = K x = \\int_0^t \\;  x(s) \\mathrm{d} \\; s $$\n",
    "This problem is ill-posed of order 1.\n",
    "Moreover, if $y$ is known with an error $\\delta$\n",
    "such that $\\| y^\\delta -y \\|_{L^2} < \\delta$,\n",
    "then the optimal regularization method for $x \\in H^1(a,b)$ \n",
    "gives a reconstruction with an error in $ O (\\delta)$."
   ]
  },
  {
   "cell_type": "markdown",
   "metadata": {},
   "source": [
    "Let us construct a list of data. \n",
    "We suppose that $x$ is a gaussian distribution and compute the different integral $y = Kx$."
   ]
  },
  {
   "cell_type": "code",
   "execution_count": 5,
   "metadata": {},
   "outputs": [],
   "source": [
    "# Physical data\n",
    "a = 0\n",
    "b = 10"
   ]
  },
  {
   "cell_type": "markdown",
   "metadata": {},
   "source": [
    "Let $(s_i)$ be a regular mesh of the segment $[a,b]$ with N+1 nodes and a step $ds$, \n",
    "and $X_i = x(s_i)$ an approximation of the function $x$.\n",
    "The integral is approximated with the trapezoidal rule\n",
    "$$ Y_i = \\frac{1}{2} X_0 \\; ds + \\sum_{j=1}^{i-1}X_j \\; ds + \\frac{1}{2} X_i \\; ds $$"
   ]
  },
  {
   "cell_type": "code",
   "execution_count": 6,
   "metadata": {},
   "outputs": [],
   "source": [
    "# Numerical data\n",
    "N = 100 # N intervals, N+1 nodes\n",
    "ds = (b-a)/N\n",
    "s_grid = np.linspace(a,b,N+1)"
   ]
  },
  {
   "cell_type": "code",
   "execution_count": 7,
   "metadata": {},
   "outputs": [
    {
     "name": "stdout",
     "output_type": "stream",
     "text": [
      "(101, 101)\n"
     ]
    }
   ],
   "source": [
    "# Integral operator\n",
    "K = ds*(np.tri(N+1,N+1) - 1/2*np.eye(N+1))\n",
    "K[:,0] = 1/2*ds\n",
    "print(K.shape)"
   ]
  },
  {
   "cell_type": "code",
   "execution_count": 8,
   "metadata": {},
   "outputs": [],
   "source": [
    "# Data set for training and testing\n",
    "ndata = 50\n",
    "label = np.zeros((ndata,N+1))\n",
    "data = np.zeros((ndata,N+1))\n",
    "for i in range(0,ndata):\n",
    "    mu = random.uniform(0.01*(b-a),0.9*(b-a))\n",
    "    sigma = random.uniform(1,5)\n",
    "    label[i,:]=(sigma*np.sqrt(2*np.pi))**-1*np.exp(-(s_grid-mu)**2/2*sigma**2)\n",
    "    data[i,:] =(K.dot(label[i,:]))"
   ]
  },
  {
   "cell_type": "code",
   "execution_count": 9,
   "metadata": {},
   "outputs": [
    {
     "data": {
      "text/plain": [
       "<matplotlib.legend.Legend at 0x1023f73b38>"
      ]
     },
     "execution_count": 9,
     "metadata": {},
     "output_type": "execute_result"
    },
    {
     "data": {
      "image/png": "[encoded data removed]",
      "text/plain": [
       "<Figure size 432x288 with 1 Axes>"
      ]
     },
     "metadata": {
      "needs_background": "light"
     },
     "output_type": "display_data"
    }
   ],
   "source": [
    "plt.plot(s_grid,label[10],label='x')\n",
    "plt.plot(s_grid,K.dot(label[10]),label='Kx')\n",
    "plt.plot(s_grid,data[10],label='y')\n",
    "plt.legend()"
   ]
  },
  {
   "cell_type": "markdown",
   "metadata": {},
   "source": [
    "We suppose that we measure $y$ with $N+1$ measurements,\n",
    "and usually we want to reconstruct $x$ on only a certain percentage of the points (circa $25\\%$), \n",
    "and we interpolate the result on a grid."
   ]
  },
  {
   "cell_type": "code",
   "execution_count": 10,
   "metadata": {},
   "outputs": [],
   "source": [
    "from sklearn.model_selection import train_test_split"
   ]
  },
  {
   "cell_type": "code",
   "execution_count": 11,
   "metadata": {},
   "outputs": [],
   "source": [
    "y_train, y_test, x_train, x_test = train_test_split(data,label,test_size=0.3,random_state=101)"
   ]
  },
  {
   "cell_type": "code",
   "execution_count": 12,
   "metadata": {},
   "outputs": [
    {
     "data": {
      "text/plain": [
       "<matplotlib.legend.Legend at 0x1a24d09588>"
      ]
     },
     "execution_count": 12,
     "metadata": {},
     "output_type": "execute_result"
    },
    {
     "data": {
      "image/png": "[encoded data removed]",
      "text/plain": [
       "<Figure size 432x288 with 1 Axes>"
      ]
     },
     "metadata": {
      "needs_background": "light"
     },
     "output_type": "display_data"
    }
   ],
   "source": [
    "plt.plot(s_grid,x_train[5],label='x')\n",
    "plt.plot(s_grid,K.dot(x_train[5]),label='Kx')\n",
    "plt.plot(s_grid,y_train[5],label='y')\n",
    "plt.legend()\n"
   ]
  },
  {
   "cell_type": "markdown",
   "metadata": {},
   "source": [
    "### Neural network\n",
    "\n",
    "We use an approximation of relu as activation function, it helps imposing the positivity of the solution."
   ]
  },
  {
   "cell_type": "code",
   "execution_count": 13,
   "metadata": {},
   "outputs": [],
   "source": [
    "#Placeholder\n",
    "y=tf.placeholder(tf.float32,shape=[None,N+1])\n",
    "# We create two layers\n",
    "#Variables\n",
    "W1=tf.Variable(tf.truncated_normal([N+1,101],stddev=0.1))\n",
    "b1=tf.Variable(tf.zeros([101]))\n",
    "W2=tf.Variable(tf.truncated_normal([101,101],stddev=0.1))\n",
    "b2=tf.Variable(tf.zeros([101]))\n",
    "W3=tf.Variable(tf.truncated_normal([101,N+1],stddev=0.1))\n",
    "b3=tf.Variable(tf.zeros([N+1]))\n",
    "#Graph 1\n",
    "x1= tf.nn.relu6(tf.matmul(y,W1)+b1)\n",
    "#Graph 2\n",
    "x2= tf.nn.relu6(tf.matmul(x1,W2)+b2)\n",
    "#Graph 3\n",
    "x= tf.nn.relu6(tf.matmul(x2,W3)+b3)\n",
    "#Loss function\n",
    "x_true = tf.placeholder(tf.float32,[None,N+1])\n",
    "loss = tf.reduce_sum((x-x_true)**2)\n",
    "#Optimizer\n",
    "optimizer=tf.train.GradientDescentOptimizer(learning_rate=0.001)\n",
    "train = optimizer.minimize(loss)\n",
    "init = tf.global_variables_initializer()"
   ]
  },
  {
   "cell_type": "code",
   "execution_count": 14,
   "metadata": {},
   "outputs": [
    {
     "name": "stdout",
     "output_type": "stream",
     "text": [
      "Step 0, loss = 21.79062843322754\n",
      "Step 1000, loss = 6.225551605224609\n",
      "Step 2000, loss = 5.690273284912109\n",
      "Step 3000, loss = 5.527693271636963\n",
      "Step 4000, loss = 5.448545455932617\n",
      "Step 5000, loss = 5.396428108215332\n",
      "Step 6000, loss = 5.356197357177734\n",
      "Step 7000, loss = 5.328861236572266\n",
      "Step 8000, loss = 5.304812431335449\n",
      "Step 9000, loss = 5.283141613006592\n"
     ]
    },
    {
     "data": {
      "image/png": "[encoded data removed]",
      "text/plain": [
       "<Figure size 432x288 with 1 Axes>"
      ]
     },
     "metadata": {
      "needs_background": "light"
     },
     "output_type": "display_data"
    }
   ],
   "source": [
    "#Create session\n",
    "Niter=10000\n",
    "with tf.Session() as sess:\n",
    "    sess.run(init)\n",
    "    for step in range(Niter):\n",
    "        sess.run(train,feed_dict={y:y_train,x_true:x_train})\n",
    "        if step%1000==0:\n",
    "            loss_train = sess.run(loss,feed_dict={y:data,x_true:label})\n",
    "            print(\"Step {0}, loss = {1}\".format(step,loss_train))\n",
    "    x_pred = sess.run(x,feed_dict={y:data})\n",
    "    plt.plot(s_grid,x_pred[5],label='x_pred')\n",
    "    plt.plot(s_grid,label[5,:],label ='x')"
   ]
  },
  {
   "cell_type": "markdown",
   "metadata": {},
   "source": [
    "### Comparaison with gradient descent for classical Tikhonov method\n",
    "\n",
    "Here we predict the minimum of\n",
    "$$ J(x) = \\|Kx-y\\|_{L^2(a,b)} + \\alpha \\|x\\|_{L^2(a,b)}$$\n",
    "(since we supposed that we know $y$ exactly, we could restrain ourselves with $\\alpha =0$)."
   ]
  },
  {
   "cell_type": "code",
   "execution_count": 30,
   "metadata": {},
   "outputs": [],
   "source": [
    "# Data\n",
    "mu = random.uniform(0.01*(b-a),0.9*(b-a))\n",
    "sigma = random.uniform(1,5)\n",
    "x_true =(sigma*np.sqrt(2*np.pi))**-1*np.exp(-(s_grid-mu)**2/2*sigma**2)\n",
    "y =(K.dot(x_true))\n"
   ]
  },
  {
   "cell_type": "code",
   "execution_count": 36,
   "metadata": {},
   "outputs": [],
   "source": [
    "# Function and gradient \n",
    "def J(x,K,y,alpha):\n",
    "    return np.linalg.norm(K.dot(x)-y)+alpha*np.linalg.norm(x)\n",
    "def dJ(x,K,y,alpha):\n",
    "    return 2*K.T.dot(K.dot(x)-y)+2*alpha*x"
   ]
  },
  {
   "cell_type": "code",
   "execution_count": 37,
   "metadata": {},
   "outputs": [
    {
     "name": "stdout",
     "output_type": "stream",
     "text": [
      "Warning: Desired error not necessarily achieved due to precision loss.\n",
      "         Current function value: 0.000795\n",
      "         Iterations: 32\n",
      "         Function evaluations: 113\n",
      "         Gradient evaluations: 101\n"
     ]
    },
    {
     "data": {
      "text/plain": [
       "<matplotlib.legend.Legend at 0x1a254efd30>"
      ]
     },
     "execution_count": 37,
     "metadata": {},
     "output_type": "execute_result"
    },
    {
     "data": {
      "image/png": "[encoded data removed]",
      "text/plain": [
       "<Figure size 432x288 with 1 Axes>"
      ]
     },
     "metadata": {
      "needs_background": "light"
     },
     "output_type": "display_data"
    }
   ],
   "source": [
    "### GRADIENT PARAMETER\n",
    "alpha = 0.001\n",
    "# initial zeta\n",
    "x0 = np.zeros(N+1)\n",
    "resultat = minimize(J, x0,\\\n",
    "args =(K,y,alpha),\\\n",
    "method='BFGS',\\\n",
    "jac=dJ, \\\n",
    "tol=1e-6, \\\n",
    "options={'maxiter':120,'disp': True})\n",
    "\n",
    "\n",
    "### Plots\n",
    "plt.xlabel(u'$x$', fontsize=5)\n",
    "plt.ylabel(u'$y$', fontsize=5, rotation=0)\n",
    "plt.plot(s_grid, x_true, label= \"x_true\")\n",
    "plt.plot(s_grid, resultat.x, label= \"x_pred\")\n",
    "plt.legend()"
   ]
  },
  {
   "cell_type": "code",
   "execution_count": null,
   "metadata": {},
   "outputs": [],
   "source": []
  },
  {
   "cell_type": "code",
   "execution_count": null,
   "metadata": {},
   "outputs": [],
   "source": []
  }
 ],
 "metadata": {
  "kernelspec": {
   "display_name": "Python 3",
   "language": "python",
   "name": "python3"
  },
  "language_info": {
   "codemirror_mode": {
    "name": "ipython",
    "version": 3
   },
   "file_extension": ".py",
   "mimetype": "text/x-python",
   "name": "python",
   "nbconvert_exporter": "python",
   "pygments_lexer": "ipython3",
   "version": "3.5.6"
  }
 },
 "nbformat": 4,
 "nbformat_minor": 4
}
