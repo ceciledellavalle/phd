{
 "cells": [
  {
   "cell_type": "markdown",
   "metadata": {},
   "source": [
    "# Calcul des paramètres utilisés dans l'algorithme\n",
    "\n",
    "1 - Lambda\n",
    "\n",
    "$$ \\lambda = \\frac{\\text{softplus}(b_k) \\sigma(x)}{ \\eta(x) + \\text{softplus}(c_k)}$$\n",
    "on apprend les paramètres $b_k$ et $c_k$\n",
    "\n",
    "\n",
    "2 - Mu\n",
    "\n",
    "$$ \\mu = \\text{softplus} \\circ W (16\\times 1) \\circ \\text{Avgpool} $$"
   ]
  },
  {
   "cell_type": "code",
   "execution_count": 1,
   "metadata": {},
   "outputs": [],
   "source": [
    "from torch.autograd import Variable\n",
    "import torch.nn as nn\n",
    "import torch.nn.functional as F\n",
    "import numpy as np\n",
    "import torch\n",
    "from torch.nn.modules.loss import _Loss\n",
    "from math import ceil\n",
    "import os"
   ]
  },
  {
   "cell_type": "markdown",
   "metadata": {},
   "source": [
    "### Lambda"
   ]
  },
  {
   "cell_type": "markdown",
   "metadata": {},
   "source": [
    "Model\n",
    "Loss function\n",
    "Optimizer\n",
    "Training\n",
    "Dataset\n",
    "Evaluation\n",
    "Conclusion"
   ]
  },
  {
   "cell_type": "markdown",
   "metadata": {},
   "source": [
    "### Mu"
   ]
  },
  {
   "cell_type": "code",
   "execution_count": 36,
   "metadata": {},
   "outputs": [
    {
     "data": {
      "text/plain": [
       "torch.Size([1, 1, 22])"
      ]
     },
     "execution_count": 36,
     "metadata": {},
     "output_type": "execute_result"
    }
   ],
   "source": [
    "# INPUT SIZE NxCxL = 1x1xL\n",
    "t1 = torch.tensor([[[1.,2,3,4,5,6,7,8,21,5,3,9,13,4,9,4,33,5,22,4,6,7]]])\n",
    "t1.size()"
   ]
  },
  {
   "cell_type": "code",
   "execution_count": 37,
   "metadata": {},
   "outputs": [],
   "source": [
    "# kernel_size = 3\n",
    "# stride of the window = 2\n",
    "# implicit zero padding to be added on both sides\n",
    "# Lout = floor [(L - kernel_size)/stride +1 ]\n",
    "m = nn.AvgPool1d(3, stride=2)"
   ]
  },
  {
   "cell_type": "code",
   "execution_count": 38,
   "metadata": {},
   "outputs": [],
   "source": [
    "a,b,c = m(t1).shape"
   ]
  },
  {
   "cell_type": "code",
   "execution_count": 39,
   "metadata": {},
   "outputs": [
    {
     "data": {
      "text/plain": [
       "1"
      ]
     },
     "execution_count": 39,
     "metadata": {},
     "output_type": "execute_result"
    }
   ],
   "source": [
    "a"
   ]
  },
  {
   "cell_type": "code",
   "execution_count": 40,
   "metadata": {},
   "outputs": [
    {
     "data": {
      "text/plain": [
       "3.5"
      ]
     },
     "execution_count": 40,
     "metadata": {},
     "output_type": "execute_result"
    }
   ],
   "source": [
    "(8-3)/2+1"
   ]
  },
  {
   "cell_type": "code",
   "execution_count": 81,
   "metadata": {},
   "outputs": [],
   "source": [
    "class Model(nn.Module):\n",
    "    def __init__(self):\n",
    "        super().__init__()\n",
    "        N,C,L = 1,1,22\n",
    "        self.fa0 = nn.AvgPool1d(3, stride=2)\n",
    "        L0 = np.floor((L-3)/2 +1)\n",
    "        self.fa1 = nn.AvgPool1d(3, stride=2)\n",
    "        L1 = int(np.floor((L0-3)/2 +1))\n",
    "        self.fc = nn.Linear(L1, 1)            # hidden layer\n",
    "        \n",
    "    def forward(self, x):\n",
    "        y0 = self.fa0(x)\n",
    "        y1 = self.fa1(y0)\n",
    "        y2 =self.fc(y1)\n",
    "        y_pred = nn.Softplus(y2)\n",
    "        return y_pred"
   ]
  },
  {
   "cell_type": "code",
   "execution_count": 82,
   "metadata": {},
   "outputs": [],
   "source": [
    "m = Model()"
   ]
  },
  {
   "cell_type": "code",
   "execution_count": 83,
   "metadata": {},
   "outputs": [
    {
     "data": {
      "text/plain": [
       "Softplus(beta=tensor([[[4.8099]]], grad_fn=<AddBackward0>), threshold=20)"
      ]
     },
     "execution_count": 83,
     "metadata": {},
     "output_type": "execute_result"
    }
   ],
   "source": [
    "m(t1)"
   ]
  },
  {
   "cell_type": "code",
   "execution_count": 84,
   "metadata": {},
   "outputs": [
    {
     "data": {
      "text/plain": [
       "tensor([0.3971, 0.8500])"
      ]
     },
     "execution_count": 84,
     "metadata": {},
     "output_type": "execute_result"
    }
   ],
   "source": [
    "m = nn.Softplus()\n",
    "input = torch.randn(2)\n",
    "output = m(input)\n",
    "output"
   ]
  },
  {
   "cell_type": "code",
   "execution_count": null,
   "metadata": {},
   "outputs": [],
   "source": []
  }
 ],
 "metadata": {
  "kernelspec": {
   "display_name": "Python 3",
   "language": "python",
   "name": "python3"
  },
  "language_info": {
   "codemirror_mode": {
    "name": "ipython",
    "version": 3
   },
   "file_extension": ".py",
   "mimetype": "text/x-python",
   "name": "python",
   "nbconvert_exporter": "python",
   "pygments_lexer": "ipython3",
   "version": "3.6.8"
  }
 },
 "nbformat": 4,
 "nbformat_minor": 4
}
