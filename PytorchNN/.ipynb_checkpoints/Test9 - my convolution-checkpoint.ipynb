{
 "cells": [
  {
   "cell_type": "code",
   "execution_count": 2,
   "metadata": {},
   "outputs": [],
   "source": [
    "from torch.autograd import Variable\n",
    "import torch\n",
    "import torch.nn as nn\n",
    "import numpy as np\n",
    "from numpy.fft import fft2, fftshift, ifft2, ifftshift\n",
    "import os\n",
    "from torchvision import transforms\n",
    "from PIL import Image\n",
    "import torch.nn as nn\n",
    "from torch.utils.data import Dataset\n",
    "import torch.nn.functional as F\n",
    "import scipy.io as sio"
   ]
  },
  {
   "cell_type": "code",
   "execution_count": null,
   "metadata": {},
   "outputs": [],
   "source": [
    "class MyConv2d(nn.Module):\n",
    "    \"\"\"\n",
    "    Performs circular convolution on images with a constant filter.\n",
    "    Attributes\n",
    "    ----------\n",
    "        kernel (torch.FloatTensor): size c*c*h*w filter\n",
    "        mode                 (str): 'single' or 'batch'\n",
    "        stride               (int): dilation factor\n",
    "        padding                   : instance of CircularPadding or torch.nn.ReplicationPad2d\n",
    "    \"\"\"\n",
    "    def __init__(self, kernel, mode, pad_type = 'replicate', padding=0, stride=1):\n",
    "        \"\"\"\n",
    "        Parameters\n",
    "        ----------\n",
    "            gpu                  (str): gpu id\n",
    "            kernel (torch.FloatTensor): convolution filter\n",
    "            mode                 (str): indicates if the input is a single image of a batch of images\n",
    "            pad_type             (str): padding type (default is 'circular')\n",
    "            padding              (int): padding size (default is 0)\n",
    "            stride               (int): dilation factor (default is 1)\n",
    "        \"\"\"\n",
    "        super(MyConv2d, self).__init__()\n",
    "        self.kernel   = nn.Parameter(kernel,requires_grad=False)   \n",
    "        self.mode     = mode #'single' or 'batch'\n",
    "        self.stride   = stride\n",
    "        if padding==0:\n",
    "            size_padding = int((kernel[0,0].size(0)-1)/2)\n",
    "        else:\n",
    "            size_padding = padding\n",
    "        if pad_type == 'replicate':\n",
    "            self.padding = nn.ReplicationPad1d(size_padding)\n",
    "        if pad_type == 'reflect':\n",
    "            self.padding = nn.ReflectionPad1d(size_padding)\n",
    "        if pad_type == 'replicate':\n",
    "            self.padding = nn.ConstantPad1d(size_padding,0)\n",
    "            \n",
    "    def forward(self, x): \n",
    "        \"\"\"\n",
    "        Performs a 2-D circular convolution.\n",
    "        Parameters\n",
    "        ----------\n",
    "            x (torch.FloatTensor): image(s), size n*c*h*w \n",
    "        Returns\n",
    "        -------\n",
    "            (torch.FloatTensor): result of the convolution, size n*c*h*w if mode='single', \n",
    "                                 size c*h*w if mode='batch'\n",
    "        \"\"\"\n",
    "        if self.mode == 'single':\n",
    "            return F.conv1d(self.padding(x.unsqueeze(0)), self.kernel, stride=self.stride).data[0]\n",
    "        if self.mode == 'batch':\n",
    "            return F.conv1d(self.padding(x.data), self.kernel, stride=self.stride)"
   ]
  }
 ],
 "metadata": {
  "kernelspec": {
   "display_name": "Python 3",
   "language": "python",
   "name": "python3"
  },
  "language_info": {
   "codemirror_mode": {
    "name": "ipython",
    "version": 3
   },
   "file_extension": ".py",
   "mimetype": "text/x-python",
   "name": "python",
   "nbconvert_exporter": "python",
   "pygments_lexer": "ipython3",
   "version": "3.6.9"
  }
 },
 "nbformat": 4,
 "nbformat_minor": 4
}
