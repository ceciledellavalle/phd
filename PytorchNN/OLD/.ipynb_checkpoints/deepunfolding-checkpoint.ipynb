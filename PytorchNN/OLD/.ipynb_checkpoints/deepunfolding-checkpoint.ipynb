{
 "cells": [
  {
   "cell_type": "markdown",
   "metadata": {},
   "source": [
    "# ODEnet multi-classification example\n",
    "\n",
    "An implementation of the deep unfolding IPM method, solution of an inverse problem diagonal landweber regularization\n",
    "\n",
    "Author: Cecile Della Valle\n",
    "\n",
    "Date: 20.06.2020\n",
    "\n",
    "Last updated: 20.06.2020 \n",
    "\n",
    "We start with importing all the relevant libraries."
   ]
  },
  {
   "cell_type": "code",
   "execution_count": 1,
   "metadata": {},
   "outputs": [],
   "source": [
    "%matplotlib inline\n",
    "import os\n",
    "import torch\n",
    "import torch.optim as optim\n",
    "import torch.nn as nn\n",
    "import torchvision\n",
    "import torchvision.transforms as transforms\n",
    "from torchvision import datasets, transforms\n",
    "import matplotlib.pyplot as plt\n",
    "import numpy as np"
   ]
  },
  {
   "cell_type": "markdown",
   "metadata": {},
   "source": [
    "Next, we load the training and test samples of the MNIST dataset."
   ]
  },
  {
   "cell_type": "code",
   "execution_count": 2,
   "metadata": {},
   "outputs": [],
   "source": [
    "training_batch_size = 100\n",
    "test_batch_size = 10000\n",
    "\n",
    "# MNIST Train dataset and dataloader declaration\n",
    "train_loader = torch.utils.data.DataLoader(\n",
    "    datasets.MNIST('data', train=True, download=True, transform=transforms.Compose([\n",
    "            transforms.ToTensor(),\n",
    "            ])), \n",
    "        batch_size=training_batch_size, shuffle=True)\n",
    "\n",
    "# MNIST Test dataset and dataloader declaration\n",
    "test_loader = torch.utils.data.DataLoader(\n",
    "    datasets.MNIST('data', train=False, download=True, transform=transforms.Compose([\n",
    "            transforms.ToTensor(),\n",
    "            ])), \n",
    "        batch_size=test_batch_size, shuffle=True)"
   ]
  },
  {
   "cell_type": "markdown",
   "metadata": {},
   "source": [
    "We now define the ODEnet class that allows to initialise instances of ODEnet. Parameters are the dimensions of the weight matrices *weight_dimensions*, the number of classes *number_of_classes* and the number of layers *number_of_layers*. Note that this class implements the forward Euler discretisation of the ODEnet, i.e.\n",
    "\n",
    "$ y^{[j + 1]} = y^{[j]} + \\alpha^{[j]} \\sigma( K^{[j]} y^{[j]} + \\beta^{[j]} ) \\, , $\n",
    "\n",
    "for the point-wise activation function $ \\sigma(x) = \\tanh(x) $ and parameters $ K^{[j]} \\in \\mathbb{R}^{\\text{weight_dimensions} \\times \\text{weight_dimensions}} $ , $ \\beta^{[j]} \\in \\mathbb{R}^{\\text{weight_dimensions}} $ , for $ j = 1, \\ldots, \\text{number_of_layers} $ , and $ \\alpha \\in \\mathbb{R}^{\\text{number_of_layers}} $. The initial value is specified via $ y^{[0]} = x $ where $ x $ denotes the input. The forward Euler discretisation is performed via the function call *ode_forward*, whereas *forward* evaluates the network and maps its output $ y^{[\\text{number_of_layers}]} $ onto $ W y^{[\\text{number_of_layers}]} $ for $ W \\in \\mathbb{R}^{\\text{number_of_classes} \\times \\text{weight_dimensions}} $."
   ]
  },
  {
   "cell_type": "code",
   "execution_count": 3,
   "metadata": {},
   "outputs": [],
   "source": [
    "class ODEnet(nn.Module):\n",
    "    def __init__(self, weight_dimensions, number_of_classes, number_of_layers):\n",
    "        super(ODEnet, self).__init__()\n",
    "        self.affine_transformations = nn.ModuleList([nn.Linear(weight_dimensions, \\\n",
    "                                            weight_dimensions) for k in range(number_of_layers)])\n",
    "        self.linear_output_transformation = nn.Linear(weight_dimensions, number_of_classes, \\\n",
    "                                                      bias=False)\n",
    "        self.activation_function = nn.Tanh()        \n",
    "        self.step_sizes = nn.Parameter(1/number_of_layers * torch.ones(number_of_layers))\n",
    "        self.number_of_layers = number_of_layers\n",
    "    \n",
    "    def ode_forward(self, x):\n",
    "        y = x\n",
    "        for k in range(self.number_of_layers):\n",
    "            y = y + self.step_sizes[k] * self.activation_function(self.affine_transformations[k](y))\n",
    "        return y\n",
    "    \n",
    "    def forward(self, x):\n",
    "        y = self.ode_forward(x)\n",
    "        return self.linear_output_transformation(y)"
   ]
  },
  {
   "cell_type": "markdown",
   "metadata": {},
   "source": [
    "Furthermore, we define a function that computes the classification accuracy of the outputs *outputs* of a network for given labels *labels*."
   ]
  },
  {
   "cell_type": "code",
   "execution_count": null,
   "metadata": {},
   "outputs": [],
   "source": [
    "def accuracy(outputs, labels):\n",
    "    prediction = outputs.max(1, keepdim=True)[1].squeeze()\n",
    "    prediction_comparison = torch.eq(prediction, labels)\n",
    "    return 100 * (prediction_comparison.sum().numpy() / torch.numel(prediction_comparison))"
   ]
  },
  {
   "cell_type": "markdown",
   "metadata": {},
   "source": [
    "Next, we initialise an instance *ode_net* of the class *ODEnet* for the parameters specified below."
   ]
  },
  {
   "cell_type": "code",
   "execution_count": 4,
   "metadata": {},
   "outputs": [],
   "source": [
    "number_of_pixels = 784\n",
    "number_of_classes = 10\n",
    "number_of_layers = 10\n",
    "ode_net = ODEnet(number_of_pixels, number_of_classes, number_of_layers)"
   ]
  },
  {
   "cell_type": "markdown",
   "metadata": {},
   "source": [
    "We train the ODEnet based on the MNIST training samples by minimising the cross entropy loss of the network output and the labels of the training data with stochastic gradient descent for the parameters specified in the code below."
   ]
  },
  {
   "cell_type": "code",
   "execution_count": 5,
   "metadata": {},
   "outputs": [
    {
     "name": "stdout",
     "output_type": "stream",
     "text": [
      "Epoch [1/150], Loss: 0.2506, Accuracy: 96.00 % / 91.47 %\n",
      "Epoch [2/150], Loss: 0.2202, Accuracy: 93.00 % / 91.99 %\n",
      "Epoch [3/150], Loss: 0.4191, Accuracy: 92.00 % / 92.56 %\n",
      "Epoch [4/150], Loss: 0.1213, Accuracy: 95.00 % / 94.04 %\n",
      "Epoch [5/150], Loss: 0.3792, Accuracy: 88.00 % / 96.19 %\n",
      "Epoch [6/150], Loss: 0.1000, Accuracy: 97.00 % / 96.83 %\n",
      "Epoch [7/150], Loss: 0.0701, Accuracy: 97.00 % / 97.16 %\n",
      "Epoch [8/150], Loss: 0.0876, Accuracy: 95.00 % / 96.69 %\n",
      "Epoch [9/150], Loss: 0.0489, Accuracy: 99.00 % / 97.56 %\n",
      "Epoch [10/150], Loss: 0.0329, Accuracy: 99.00 % / 97.56 %\n",
      "Epoch [11/150], Loss: 0.0777, Accuracy: 97.00 % / 97.22 %\n",
      "Epoch [12/150], Loss: 0.0028, Accuracy: 100.00 % / 97.48 %\n",
      "Epoch [13/150], Loss: 0.0013, Accuracy: 100.00 % / 97.97 %\n",
      "Epoch [14/150], Loss: 0.0067, Accuracy: 100.00 % / 97.88 %\n",
      "Epoch [15/150], Loss: 0.0020, Accuracy: 100.00 % / 97.94 %\n",
      "Epoch [16/150], Loss: 0.0023, Accuracy: 100.00 % / 97.76 %\n",
      "Epoch [17/150], Loss: 0.0007, Accuracy: 100.00 % / 98.05 %\n",
      "Epoch [18/150], Loss: 0.0142, Accuracy: 99.00 % / 97.95 %\n",
      "Epoch [19/150], Loss: 0.0240, Accuracy: 99.00 % / 98.05 %\n",
      "Epoch [20/150], Loss: 0.0018, Accuracy: 100.00 % / 98.21 %\n",
      "Epoch [21/150], Loss: 0.0072, Accuracy: 100.00 % / 98.12 %\n",
      "Epoch [22/150], Loss: 0.0308, Accuracy: 99.00 % / 97.85 %\n",
      "Epoch [23/150], Loss: 0.0009, Accuracy: 100.00 % / 98.44 %\n",
      "Epoch [24/150], Loss: 0.0002, Accuracy: 100.00 % / 98.08 %\n",
      "Epoch [25/150], Loss: 0.0002, Accuracy: 100.00 % / 97.97 %\n",
      "Epoch [26/150], Loss: 0.0002, Accuracy: 100.00 % / 98.36 %\n",
      "Epoch [27/150], Loss: 0.0000, Accuracy: 100.00 % / 97.99 %\n",
      "Epoch [28/150], Loss: 0.0002, Accuracy: 100.00 % / 98.15 %\n",
      "Epoch [29/150], Loss: 0.0001, Accuracy: 100.00 % / 98.41 %\n",
      "Epoch [30/150], Loss: 0.0000, Accuracy: 100.00 % / 98.53 %\n",
      "Epoch [31/150], Loss: 0.0006, Accuracy: 100.00 % / 98.39 %\n",
      "Epoch [32/150], Loss: 0.0001, Accuracy: 100.00 % / 98.53 %\n",
      "Epoch [33/150], Loss: 0.0000, Accuracy: 100.00 % / 98.48 %\n",
      "Epoch [34/150], Loss: 0.0000, Accuracy: 100.00 % / 98.52 %\n",
      "Epoch [35/150], Loss: 0.0000, Accuracy: 100.00 % / 98.52 %\n",
      "Epoch [36/150], Loss: 0.0000, Accuracy: 100.00 % / 98.54 %\n",
      "Epoch [37/150], Loss: 0.0000, Accuracy: 100.00 % / 98.54 %\n",
      "Epoch [38/150], Loss: 0.0000, Accuracy: 100.00 % / 98.53 %\n",
      "Epoch [39/150], Loss: 0.0000, Accuracy: 100.00 % / 98.54 %\n",
      "Epoch [40/150], Loss: 0.0000, Accuracy: 100.00 % / 98.54 %\n",
      "Epoch [41/150], Loss: 0.0000, Accuracy: 100.00 % / 98.53 %\n",
      "Epoch [42/150], Loss: 0.0000, Accuracy: 100.00 % / 98.54 %\n",
      "Epoch [43/150], Loss: 0.0000, Accuracy: 100.00 % / 98.54 %\n",
      "Epoch [44/150], Loss: 0.0000, Accuracy: 100.00 % / 98.55 %\n",
      "Epoch [45/150], Loss: 0.0000, Accuracy: 100.00 % / 98.55 %\n",
      "Epoch [46/150], Loss: 0.0000, Accuracy: 100.00 % / 98.55 %\n",
      "Epoch [47/150], Loss: 0.0000, Accuracy: 100.00 % / 98.55 %\n",
      "Epoch [48/150], Loss: 0.0000, Accuracy: 100.00 % / 98.56 %\n",
      "Epoch [49/150], Loss: 0.0000, Accuracy: 100.00 % / 98.56 %\n",
      "Epoch [50/150], Loss: 0.0000, Accuracy: 100.00 % / 98.56 %\n",
      "Epoch [51/150], Loss: 0.0000, Accuracy: 100.00 % / 98.56 %\n",
      "Epoch [52/150], Loss: 0.0000, Accuracy: 100.00 % / 98.56 %\n",
      "Epoch [53/150], Loss: 0.0000, Accuracy: 100.00 % / 98.56 %\n",
      "Epoch [54/150], Loss: 0.0000, Accuracy: 100.00 % / 98.56 %\n",
      "Epoch [55/150], Loss: 0.0000, Accuracy: 100.00 % / 98.56 %\n",
      "Epoch [56/150], Loss: 0.0000, Accuracy: 100.00 % / 98.56 %\n",
      "Epoch [57/150], Loss: 0.0000, Accuracy: 100.00 % / 98.55 %\n",
      "Epoch [58/150], Loss: 0.0000, Accuracy: 100.00 % / 98.55 %\n",
      "Epoch [59/150], Loss: 0.0000, Accuracy: 100.00 % / 98.55 %\n",
      "Epoch [60/150], Loss: 0.0000, Accuracy: 100.00 % / 98.55 %\n",
      "Epoch [61/150], Loss: 0.0000, Accuracy: 100.00 % / 98.55 %\n",
      "Epoch [62/150], Loss: 0.0000, Accuracy: 100.00 % / 98.55 %\n",
      "Epoch [63/150], Loss: 0.0000, Accuracy: 100.00 % / 98.55 %\n",
      "Epoch [64/150], Loss: 0.0000, Accuracy: 100.00 % / 98.55 %\n",
      "Epoch [65/150], Loss: 0.0000, Accuracy: 100.00 % / 98.55 %\n",
      "Epoch [66/150], Loss: 0.0000, Accuracy: 100.00 % / 98.55 %\n",
      "Epoch [67/150], Loss: 0.0000, Accuracy: 100.00 % / 98.55 %\n",
      "Epoch [68/150], Loss: 0.0000, Accuracy: 100.00 % / 98.56 %\n",
      "Epoch [69/150], Loss: 0.0000, Accuracy: 100.00 % / 98.56 %\n",
      "Epoch [70/150], Loss: 0.0000, Accuracy: 100.00 % / 98.56 %\n",
      "Epoch [71/150], Loss: 0.0000, Accuracy: 100.00 % / 98.57 %\n",
      "Epoch [72/150], Loss: 0.0000, Accuracy: 100.00 % / 98.57 %\n",
      "Epoch [73/150], Loss: 0.0000, Accuracy: 100.00 % / 98.57 %\n",
      "Epoch [74/150], Loss: 0.0000, Accuracy: 100.00 % / 98.58 %\n",
      "Epoch [75/150], Loss: 0.0000, Accuracy: 100.00 % / 98.58 %\n",
      "Epoch [76/150], Loss: 0.0000, Accuracy: 100.00 % / 98.58 %\n",
      "Epoch [77/150], Loss: 0.0000, Accuracy: 100.00 % / 98.58 %\n",
      "Epoch [78/150], Loss: 0.0000, Accuracy: 100.00 % / 98.58 %\n",
      "Epoch [79/150], Loss: 0.0000, Accuracy: 100.00 % / 98.58 %\n",
      "Epoch [80/150], Loss: 0.0000, Accuracy: 100.00 % / 98.58 %\n",
      "Epoch [81/150], Loss: 0.0000, Accuracy: 100.00 % / 98.58 %\n",
      "Epoch [82/150], Loss: 0.0000, Accuracy: 100.00 % / 98.58 %\n",
      "Epoch [83/150], Loss: 0.0000, Accuracy: 100.00 % / 98.58 %\n",
      "Epoch [84/150], Loss: 0.0000, Accuracy: 100.00 % / 98.58 %\n",
      "Epoch [85/150], Loss: 0.0000, Accuracy: 100.00 % / 98.58 %\n",
      "Epoch [86/150], Loss: 0.0000, Accuracy: 100.00 % / 98.58 %\n",
      "Epoch [87/150], Loss: 0.0000, Accuracy: 100.00 % / 98.58 %\n",
      "Epoch [88/150], Loss: 0.0000, Accuracy: 100.00 % / 98.58 %\n",
      "Epoch [89/150], Loss: 0.0000, Accuracy: 100.00 % / 98.58 %\n",
      "Epoch [90/150], Loss: 0.0000, Accuracy: 100.00 % / 98.58 %\n",
      "Epoch [91/150], Loss: 0.0000, Accuracy: 100.00 % / 98.58 %\n",
      "Epoch [92/150], Loss: 0.0000, Accuracy: 100.00 % / 98.58 %\n",
      "Epoch [93/150], Loss: 0.0000, Accuracy: 100.00 % / 98.58 %\n",
      "Epoch [94/150], Loss: 0.0000, Accuracy: 100.00 % / 98.58 %\n",
      "Epoch [95/150], Loss: 0.0000, Accuracy: 100.00 % / 98.58 %\n",
      "Epoch [96/150], Loss: 0.0000, Accuracy: 100.00 % / 98.58 %\n",
      "Epoch [97/150], Loss: 0.0000, Accuracy: 100.00 % / 98.58 %\n",
      "Epoch [98/150], Loss: 0.0000, Accuracy: 100.00 % / 98.58 %\n",
      "Epoch [99/150], Loss: 0.0000, Accuracy: 100.00 % / 98.58 %\n",
      "Epoch [100/150], Loss: 0.0000, Accuracy: 100.00 % / 98.58 %\n",
      "Epoch [101/150], Loss: 0.0000, Accuracy: 100.00 % / 98.58 %\n",
      "Epoch [102/150], Loss: 0.0000, Accuracy: 100.00 % / 98.58 %\n",
      "Epoch [103/150], Loss: 0.0000, Accuracy: 100.00 % / 98.58 %\n",
      "Epoch [104/150], Loss: 0.0000, Accuracy: 100.00 % / 98.58 %\n",
      "Epoch [105/150], Loss: 0.0000, Accuracy: 100.00 % / 98.58 %\n",
      "Epoch [106/150], Loss: 0.0000, Accuracy: 100.00 % / 98.58 %\n",
      "Epoch [107/150], Loss: 0.0000, Accuracy: 100.00 % / 98.58 %\n",
      "Epoch [108/150], Loss: 0.0000, Accuracy: 100.00 % / 98.58 %\n",
      "Epoch [109/150], Loss: 0.0000, Accuracy: 100.00 % / 98.58 %\n",
      "Epoch [110/150], Loss: 0.0000, Accuracy: 100.00 % / 98.58 %\n",
      "Epoch [111/150], Loss: 0.0000, Accuracy: 100.00 % / 98.58 %\n",
      "Epoch [112/150], Loss: 0.0000, Accuracy: 100.00 % / 98.58 %\n",
      "Epoch [113/150], Loss: 0.0000, Accuracy: 100.00 % / 98.57 %\n",
      "Epoch [114/150], Loss: 0.0000, Accuracy: 100.00 % / 98.57 %\n",
      "Epoch [115/150], Loss: 0.0000, Accuracy: 100.00 % / 98.57 %\n",
      "Epoch [116/150], Loss: 0.0000, Accuracy: 100.00 % / 98.57 %\n",
      "Epoch [117/150], Loss: 0.0000, Accuracy: 100.00 % / 98.57 %\n",
      "Epoch [118/150], Loss: 0.0000, Accuracy: 100.00 % / 98.58 %\n",
      "Epoch [119/150], Loss: 0.0000, Accuracy: 100.00 % / 98.58 %\n",
      "Epoch [120/150], Loss: 0.0000, Accuracy: 100.00 % / 98.58 %\n",
      "Epoch [121/150], Loss: 0.0000, Accuracy: 100.00 % / 98.58 %\n",
      "Epoch [122/150], Loss: 0.0000, Accuracy: 100.00 % / 98.58 %\n",
      "Epoch [123/150], Loss: 0.0000, Accuracy: 100.00 % / 98.58 %\n",
      "Epoch [124/150], Loss: 0.0000, Accuracy: 100.00 % / 98.58 %\n",
      "Epoch [125/150], Loss: 0.0000, Accuracy: 100.00 % / 98.58 %\n",
      "Epoch [126/150], Loss: 0.0000, Accuracy: 100.00 % / 98.58 %\n",
      "Epoch [127/150], Loss: 0.0000, Accuracy: 100.00 % / 98.58 %\n",
      "Epoch [128/150], Loss: 0.0000, Accuracy: 100.00 % / 98.58 %\n",
      "Epoch [129/150], Loss: 0.0000, Accuracy: 100.00 % / 98.58 %\n",
      "Epoch [130/150], Loss: 0.0000, Accuracy: 100.00 % / 98.58 %\n",
      "Epoch [131/150], Loss: 0.0000, Accuracy: 100.00 % / 98.58 %\n",
      "Epoch [132/150], Loss: 0.0000, Accuracy: 100.00 % / 98.58 %\n",
      "Epoch [133/150], Loss: 0.0000, Accuracy: 100.00 % / 98.58 %\n",
      "Epoch [134/150], Loss: 0.0000, Accuracy: 100.00 % / 98.58 %\n",
      "Epoch [135/150], Loss: 0.0000, Accuracy: 100.00 % / 98.58 %\n",
      "Epoch [136/150], Loss: 0.0000, Accuracy: 100.00 % / 98.58 %\n",
      "Epoch [137/150], Loss: 0.0000, Accuracy: 100.00 % / 98.58 %\n",
      "Epoch [138/150], Loss: 0.0000, Accuracy: 100.00 % / 98.58 %\n",
      "Epoch [139/150], Loss: 0.0000, Accuracy: 100.00 % / 98.58 %\n",
      "Epoch [140/150], Loss: 0.0000, Accuracy: 100.00 % / 98.58 %\n",
      "Epoch [141/150], Loss: 0.0000, Accuracy: 100.00 % / 98.58 %\n",
      "Epoch [142/150], Loss: 0.0000, Accuracy: 100.00 % / 98.58 %\n",
      "Epoch [143/150], Loss: 0.0000, Accuracy: 100.00 % / 98.58 %\n",
      "Epoch [144/150], Loss: 0.0000, Accuracy: 100.00 % / 98.58 %\n",
      "Epoch [145/150], Loss: 0.0000, Accuracy: 100.00 % / 98.58 %\n",
      "Epoch [146/150], Loss: 0.0000, Accuracy: 100.00 % / 98.58 %\n",
      "Epoch [147/150], Loss: 0.0000, Accuracy: 100.00 % / 98.58 %\n",
      "Epoch [148/150], Loss: 0.0000, Accuracy: 100.00 % / 98.58 %\n",
      "Epoch [149/150], Loss: 0.0000, Accuracy: 100.00 % / 98.58 %\n",
      "Epoch [150/150], Loss: 0.0000, Accuracy: 100.00 % / 98.58 %\n",
      "Epoch [150/150] completed, Loss: 0.0000, Training accuracy: 100.00 % / 98.58 %\n"
     ]
    }
   ],
   "source": [
    "criterion = nn.CrossEntropyLoss()\n",
    "number_of_epochs = 150\n",
    "step_size = 0.1\n",
    "momentum_parameter = 0.7\n",
    "optimiser = optim.SGD(ode_net.parameters(), lr=step_size, momentum=momentum_parameter)\n",
    "\n",
    "running_loss = []\n",
    "running_training_accuracy = []\n",
    "running_training_accuracy.append(10)\n",
    "running_test_accuracy = []\n",
    "running_test_accuracy.append(10)\n",
    "\n",
    "for k in range(number_of_epochs):\n",
    "    \n",
    "    # for data, target in train_loader:   \n",
    "    for j, (images, labels) in enumerate(train_loader):\n",
    "        \n",
    "        optimiser.zero_grad()        \n",
    "        outputs = ode_net(images.view(-1, number_of_pixels))\n",
    "        loss = criterion(outputs, labels)\n",
    "        # ode_net.zero_grad()\n",
    "        loss.backward()\n",
    "        optimiser.step() \n",
    "        \n",
    "    running_loss.append(loss.item())    \n",
    "    training_accuracy = accuracy(outputs, labels)\n",
    "    running_training_accuracy.append(training_accuracy)\n",
    "    \n",
    "    test_images, test_labels = iter(test_loader).next()\n",
    "    test_outputs = ode_net(test_images.view(-1, number_of_pixels))\n",
    "    test_accuracy = accuracy(test_outputs, test_labels)\n",
    "    running_test_accuracy.append(test_accuracy)\n",
    "        \n",
    "    print('Epoch [%d/%d], Loss: %.4f, Accuracy: %.2f %% / %.2f %%' \n",
    "                   %(k + 1, number_of_epochs, loss.item(), training_accuracy, test_accuracy))\n",
    "\n",
    "print('Epoch [%d/%d] completed, Loss: %.4f, Training accuracy: %.2f %% / %.2f %%' \n",
    "                   %(k + 1, number_of_epochs, loss.item(), training_accuracy, test_accuracy))"
   ]
  },
  {
   "cell_type": "markdown",
   "metadata": {},
   "source": [
    "We then store the trained model parameters in the file 'trained_ode_net' for later re-use."
   ]
  },
  {
   "cell_type": "code",
   "execution_count": 6,
   "metadata": {},
   "outputs": [],
   "source": [
    "torch.save(ode_net.state_dict(), 'trained_ode_net')"
   ]
  },
  {
   "cell_type": "markdown",
   "metadata": {},
   "source": [
    "The following plots visualise the loss of the cross entropy over the course of all epochs and the classification accuracy on the training as well as the test dataset."
   ]
  },
  {
   "cell_type": "code",
   "execution_count": 7,
   "metadata": {},
   "outputs": [
    {
     "data": {
      "text/plain": [
       "[<matplotlib.lines.Line2D at 0x1092f9b70>,\n",
       " <matplotlib.lines.Line2D at 0x1220940b8>]"
      ]
     },
     "execution_count": 7,
     "metadata": {},
     "output_type": "execute_result"
    },
    {
     "data": {
      "image/png": "[encoded data removed]",
      "text/plain": [
       "<Figure size 432x288 with 2 Axes>"
      ]
     },
     "metadata": {
      "needs_background": "light"
     },
     "output_type": "display_data"
    }
   ],
   "source": [
    "plt.subplot(1, 2, 1)\n",
    "plt.plot(np.arange(number_of_epochs), running_loss)\n",
    "plt.subplot(1, 2, 2)\n",
    "plt.plot(np.arange(number_of_epochs + 1), running_training_accuracy, \\\n",
    "         np.arange(number_of_epochs + 1), running_test_accuracy)"
   ]
  },
  {
   "cell_type": "markdown",
   "metadata": {},
   "source": [
    "In case we have pre-trained the network and stored its parameters in 'trained_ode_net' we can load the network with the following command."
   ]
  },
  {
   "cell_type": "code",
   "execution_count": null,
   "metadata": {},
   "outputs": [],
   "source": [
    "ode_net.load_state_dict(torch.load('trained_ode_net'))"
   ]
  },
  {
   "cell_type": "markdown",
   "metadata": {},
   "source": [
    "In the next plot we visualise the learned values of the step-size parameter $\\alpha \\in \\mathbb{R}^{\\text{number_of_layers}}$."
   ]
  },
  {
   "cell_type": "code",
   "execution_count": 8,
   "metadata": {},
   "outputs": [
    {
     "data": {
      "text/plain": [
       "[<matplotlib.lines.Line2D at 0x1096006a0>]"
      ]
     },
     "execution_count": 8,
     "metadata": {},
     "output_type": "execute_result"
    },
    {
     "data": {
      "image/png": "[encoded data removed]",
      "text/plain": [
       "<Figure size 432x288 with 1 Axes>"
      ]
     },
     "metadata": {
      "needs_background": "light"
     },
     "output_type": "display_data"
    }
   ],
   "source": [
    "ode_net.eval()\n",
    "parameter_list = list(ode_net.parameters())\n",
    "plt.plot(np.arange(number_of_layers), parameter_list[0].detach().numpy())\n",
    "plt.xlabel('No. of layers')\n",
    "plt.ylabel($\\alpha^{[j]}$)"
   ]
  },
  {
   "cell_type": "markdown",
   "metadata": {},
   "source": [
    "Last but not least, we load images and labels from the MNIST test dataset, store them in *test_images* and *test_labels* and apply the forward-pass of the ODEnet (via *ode_net.ode_forward*) to *test_images* and store the output in *intermediate_outputs*."
   ]
  },
  {
   "cell_type": "code",
   "execution_count": 9,
   "metadata": {},
   "outputs": [],
   "source": [
    "test_images, test_labels = iter(test_loader).next()\n",
    "intermediate_outputs = ode_net.ode_forward(test_images.view(-1, number_of_pixels)).view(-1, 28, 28)"
   ]
  },
  {
   "cell_type": "markdown",
   "metadata": {},
   "source": [
    "We visualise one particular test input and the corresponding intermediate output together with the subsequent application of $ W $ and the softmax function *torch.nn.functional.softmax* onto the intermediate output that shows the class prediction for the input images."
   ]
  },
  {
   "cell_type": "code",
   "execution_count": 10,
   "metadata": {},
   "outputs": [
    {
     "data": {
      "image/png": "[encoded data removed]",
      "text/plain": [
       "<Figure size 432x288 with 5 Axes>"
      ]
     },
     "metadata": {
      "needs_background": "light"
     },
     "output_type": "display_data"
    }
   ],
   "source": [
    "plt.subplot(1, 3, 1)\n",
    "plt.imshow(test_images[2][0].numpy())\n",
    "plt.colorbar()\n",
    "plt.subplot(1, 3, 2)\n",
    "plt.imshow(intermediate_outputs[2].detach().numpy())\n",
    "plt.colorbar()\n",
    "plt.subplot(1, 3, 3)\n",
    "plt.plot(torch.nn.functional.softmax(torch.mv(parameter_list[len(parameter_list) - 1], \\\n",
    "                            intermediate_outputs[2].view(-1)), dim=0).detach().numpy())\n",
    "plt.tight_layout()"
   ]
  }
 ],
 "metadata": {
  "kernelspec": {
   "display_name": "Python 3",
   "language": "python",
   "name": "python3"
  },
  "language_info": {
   "codemirror_mode": {
    "name": "ipython",
    "version": 3
   },
   "file_extension": ".py",
   "mimetype": "text/x-python",
   "name": "python",
   "nbconvert_exporter": "python",
   "pygments_lexer": "ipython3",
   "version": "3.7.4"
  }
 },
 "nbformat": 4,
 "nbformat_minor": 4
}
