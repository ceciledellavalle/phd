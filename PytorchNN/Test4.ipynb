{
 "cells": [
  {
   "cell_type": "markdown",
   "metadata": {},
   "source": [
    "# Modèle non linéaire - LOSS FUNCTION\n",
    "\n",
    "Ici on reprend tout ce qu'on a fait, mais on change la loss.\n",
    "\n",
    "On utilise la distance de Wasserstein (transport optimal), calculé par un algorithme de Sinkorhn. \n",
    "\n",
    "Elle est directement reprise d'un repo dans adaptation, elle ne correspond pas à notre modèle.\n",
    "\n",
    "In these variables, Sinkhorn algorithm can be interpreted as an alternate maximization algorithm, to solve the following \"dual\" problem:\n",
    "$$\n",
    "\\max_{f\\in R^n, g \\in R^m} F(f,g) =  \\sum_{i=1}^n f_i a_i + \\sum_{j=1}^m g_j b_j - \\epsilon \\sum_{i,j} a_ib_j \\exp \\left( (f_i + g_j -C_{ij})/\\epsilon \\right).\n",
    "$$\n",
    "\n",
    "In these variables, the algorithm is initialized with $g = 0_m$ and the updates read\n",
    "$$\n",
    "f_i \\longleftarrow - \\epsilon \\log \\sum_{j} b_j \\exp ((g_j - C_{ij})/\\epsilon),\\, \\forall i \\\\\n",
    "g_j \\longleftarrow - \\epsilon \\log \\sum_{i} a_i \\exp ((f_i - C_{ij})/\\epsilon),\\, \\forall j\n",
    "$$"
   ]
  },
  {
   "cell_type": "code",
   "execution_count": 3,
   "metadata": {},
   "outputs": [],
   "source": [
    "import numpy as np\n",
    "# pytorch\n",
    "import torch\n",
    "import torch.optim as optim\n",
    "import torch.nn as nn\n",
    "from torch.utils.data import Dataset, TensorDataset\n",
    "from torch.utils.data import DataLoader\n",
    "from torch.utils.data.dataset import random_split\n",
    "from torch.nn.modules.loss import _Loss\n",
    "import torch\n",
    "from torch.autograd import Variable\n",
    "# matplotlib\n",
    "import matplotlib.pyplot as plt\n",
    "%matplotlib inline\n"
   ]
  },
  {
   "cell_type": "code",
   "execution_count": 5,
   "metadata": {},
   "outputs": [],
   "source": [
    "# Physical data\n",
    "l = 200\n",
    "tau = 100\n",
    "dep = 2\n",
    "# Numerical data\n",
    "nx = 200\n",
    "dx = l/(nx+1)\n",
    "nt = 200\n",
    "dt = tau/nt\n",
    "T_operator = 1/100*dx*np.tri(nt, nx, 0, dtype=int)\n",
    "# Data sample\n",
    "nsamp = 400\n",
    "x_dagger = np.zeros((nsamp,nx))\n",
    "y = np.zeros((nsamp,nt))\n",
    "x_grid = np.linspace(0,l,nx)\n",
    "#\n",
    "x_sample = np.zeros((nsamp,nx))\n",
    "#\n",
    "for i in range(0,nsamp):\n",
    "    mu = l/2\n",
    "    sigma = 0.1\n",
    "    x_dagger[i] = (sigma*np.sqrt(2*np.pi))**-1*np.exp(-(x_grid-mu)**2/2*sigma**2)\n",
    "    x_dagger[i] = x_dagger[i]/x_dagger[i].sum()\n",
    "    y[i] = T_operator.dot(x_dagger[i]) \n",
    "    xi = np.random.uniform(-0.005,0.005,nt)\n",
    "    y[i] += xi*np.linalg.norm(y[i])/np.linalg.norm(xi)\n",
    "    x_sample[i] = np.transpose(T_operator).dot(y[i])"
   ]
  },
  {
   "cell_type": "code",
   "execution_count": 6,
   "metadata": {},
   "outputs": [],
   "source": [
    "# Regularisation operator\n",
    "D_operator = np.diag(np.ones(nx-1),1)+ np.diag(np.ones(nx-1),-1)-2*np.eye(nx)"
   ]
  },
  {
   "cell_type": "code",
   "execution_count": 7,
   "metadata": {},
   "outputs": [],
   "source": [
    "x_tensor = torch.from_numpy(x_sample)\n",
    "y_tensor = torch.from_numpy(x_dagger)\n",
    "\n",
    "dataset = TensorDataset(x_tensor, y_tensor)\n",
    "\n",
    "train_dataset, val_dataset = random_split(dataset, [300, 100])\n",
    "\n",
    "train_loader = DataLoader(dataset=train_dataset, batch_size=16)\n",
    "val_loader = DataLoader(dataset=val_dataset, batch_size=20)"
   ]
  },
  {
   "cell_type": "markdown",
   "metadata": {},
   "source": [
    "## Model"
   ]
  },
  {
   "cell_type": "code",
   "execution_count": 8,
   "metadata": {},
   "outputs": [],
   "source": [
    "class MyModel(nn.Module):\n",
    "    def __init__(self, number_of_layers, T, D, nx):\n",
    "        super().__init__()\n",
    "        self.alpha = [nn.Parameter(torch.randn(1, requires_grad=True, dtype=torch.float))\\\n",
    "                      for k in range(number_of_layers)]\n",
    "#         self.linear_output_transformation = nn.Linear(weight_dimensions, number_of_classes,\\\n",
    "#                                                       bias=False)\n",
    "        self.activation_function = nn.Tanh()  \n",
    "        self.activation_function_ter = nn.ReLU() \n",
    "        self.number_of_layers = number_of_layers\n",
    "        # Physical model\n",
    "        self.T = torch.from_numpy(np.transpose(T).dot(T))\n",
    "        self.D = torch.from_numpy(np.transpose(D).dot(D))\n",
    "        self.nx = nx\n",
    "        \n",
    "    \n",
    "    def forward(self, x):\n",
    "        y = torch.transpose(x,0,-1)\n",
    "        for k in range(self.number_of_layers):\n",
    "            tensor_grad = torch.eye(nx)\\\n",
    "              - self.T \\\n",
    "              - self.alpha[k]*self.D\n",
    "            y = torch.matmul(tensor_grad,y)\n",
    "            y = self.activation_function(y)\n",
    "        y = self.activation_function_ter(y)\n",
    "        y = y/torch.sum(y)\n",
    "        return torch.transpose(y,0,-1)"
   ]
  },
  {
   "cell_type": "code",
   "execution_count": 9,
   "metadata": {},
   "outputs": [],
   "source": [
    "model = MyModel(10, T_operator, D_operator, nx)"
   ]
  },
  {
   "cell_type": "code",
   "execution_count": 10,
   "metadata": {},
   "outputs": [],
   "source": [
    "y_pred = model(train_dataset[0][0])\n",
    "y_test = train_dataset[0][1]"
   ]
  },
  {
   "cell_type": "code",
   "execution_count": 11,
   "metadata": {},
   "outputs": [
    {
     "data": {
      "text/plain": [
       "<matplotlib.legend.Legend at 0x11bfbf650>"
      ]
     },
     "execution_count": 11,
     "metadata": {},
     "output_type": "execute_result"
    },
    {
     "data": {
      "image/png": "[encoded data removed]",
      "text/plain": [
       "<Figure size 432x288 with 1 Axes>"
      ]
     },
     "metadata": {
      "needs_background": "light"
     },
     "output_type": "display_data"
    }
   ],
   "source": [
    "plt.plot(y_pred.detach().numpy(),label=\"a\")\n",
    "plt.plot(y_test,label=\"a\")\n",
    "plt.legend()"
   ]
  },
  {
   "cell_type": "markdown",
   "metadata": {},
   "source": [
    "## Loss function"
   ]
  },
  {
   "cell_type": "code",
   "execution_count": 169,
   "metadata": {},
   "outputs": [],
   "source": [
    "\"\"\"\n",
    "sinkhorn_pointcloud.py\n",
    "Discrete OT : Sinkhorn algorithm for point cloud marginals.\n",
    "\"\"\"\n",
    "\n",
    "\n",
    "def sinkhorn_normalized(x, y, epsilon, n, niter):\n",
    "\n",
    "    Wxy = sinkhorn_loss(x, y, epsilon, n, niter)\n",
    "    Wxx = sinkhorn_loss(x, x, epsilon, n, niter)\n",
    "    Wyy = sinkhorn_loss(y, y, epsilon, n, niter)\n",
    "    return 2 * Wxy - Wxx - Wyy\n",
    "\n",
    "\n",
    "def sinkhorn_loss(x, y, epsilon, n, niter):\n",
    "    \"\"\"\n",
    "    Given two emprical measures with n points each with locations x and y\n",
    "    outputs an approximation of the OT cost with regularization parameter epsilon\n",
    "    niter is the max. number of steps in sinkhorn loop\n",
    "    \"\"\"\n",
    "\n",
    "    # The Sinkhorn algorithm takes as input three variables :\n",
    "    C = Variable(cost_matrix(x, y))  # Wasserstein cost function\n",
    "\n",
    "    # both marginals are fixed with equal weights\n",
    "    # mu = Variable(1. / n * torch.cuda.FloatTensor(n).fill_(1), requires_grad=False)\n",
    "    # nu = Variable(1. / n * torch.cuda.FloatTensor(n).fill_(1), requires_grad=False)\n",
    "    mu = Variable(1. / n * torch.FloatTensor(n).fill_(1), requires_grad=False)\n",
    "    nu = Variable(1. / n * torch.FloatTensor(n).fill_(1), requires_grad=False)\n",
    "\n",
    "    # Parameters of the Sinkhorn algorithm.\n",
    "    rho = 1  # (.5) **2          # unbalanced transport\n",
    "    tau = -.8  # nesterov-like acceleration\n",
    "    lam = rho / (rho + epsilon)  # Update exponent\n",
    "    thresh = 10**(-1)  # stopping criterion\n",
    "\n",
    "    # Elementary operations .....................................................................\n",
    "    def ave(u, u1):\n",
    "        \"Barycenter subroutine, used by kinetic acceleration through extrapolation.\"\n",
    "        return tau * u + (1 - tau) * u1\n",
    "\n",
    "    def M(u, v):\n",
    "        \"Modified cost for logarithmic updates\"\n",
    "        \"$M_{ij} = (-c_{ij} + u_i + v_j) / \\epsilon$\"\n",
    "        return (-C + u.unsqueeze(1) + v.unsqueeze(0)) / epsilon\n",
    "\n",
    "    def lse(A):\n",
    "        \"log-sum-exp\"\n",
    "        return torch.log(torch.exp(A).sum(1, keepdim=True) + 1e-6)  # add 10^-6 to prevent NaN\n",
    "\n",
    "    # Actual Sinkhorn loop ......................................................................\n",
    "    u, v, err = 0. * mu, 0. * nu, 0.\n",
    "    actual_nits = 0  # to check if algorithm terminates because of threshold or max iterations reached\n",
    "\n",
    "    for i in range(niter):\n",
    "        u1 = u  # useful to check the update\n",
    "        u = epsilon * (torch.log(mu) - lse(M(u, v)).squeeze()) + u\n",
    "        v = epsilon * (torch.log(nu) - lse(M(u, v).t()).squeeze()) + v\n",
    "        # accelerated unbalanced iterations\n",
    "        # u = ave( u, lam * ( epsilon * ( torch.log(mu) - lse(M(u,v)).squeeze()   ) + u ) )\n",
    "        # v = ave( v, lam * ( epsilon * ( torch.log(nu) - lse(M(u,v).t()).squeeze() ) + v ) )\n",
    "        err = (u - u1).abs().sum()\n",
    "\n",
    "        actual_nits += 1\n",
    "        if (err < thresh).data.numpy():\n",
    "            break\n",
    "    U, V = u, v\n",
    "    pi = torch.exp(M(U, V))  # Transport plan pi = diag(a)*K*diag(b)\n",
    "    C_ter = cost_matrix(x, y)\n",
    "    cost = torch.sum(pi * C_ter)  # Sinkhorn cost\n",
    "\n",
    "    return cost\n",
    "\n",
    "\n",
    "def cost_matrix(x, y, p=2):\n",
    "    \"Returns the matrix of $|x_i-y_j|^p$.\"\n",
    "    x_col = x.unsqueeze(1)\n",
    "    y_lin = y.unsqueeze(0)\n",
    "    c = torch.sum((torch.abs(x_col - y_lin)) ** p, 1) # Attention dimension de la somme à vérifier\n",
    "    return c"
   ]
  },
  {
   "cell_type": "code",
   "execution_count": 170,
   "metadata": {},
   "outputs": [],
   "source": [
    "class My_loss(_Loss):\n",
    "    def __init__(self): \n",
    "        super(My_loss, self).__init__()\n",
    "        self.epsilon = 0.01\n",
    "        self.n = 1\n",
    "        self.niter = 1000\n",
    " \n",
    "    def forward(self, output, target):\n",
    "        computed_loss = sinkhorn_loss(output, target, self.epsilon, self.n, self.niter)\n",
    "        return computed_loss"
   ]
  },
  {
   "cell_type": "code",
   "execution_count": 171,
   "metadata": {},
   "outputs": [],
   "source": [
    "loss_fn = My_loss()"
   ]
  },
  {
   "cell_type": "code",
   "execution_count": 172,
   "metadata": {},
   "outputs": [
    {
     "data": {
      "text/plain": [
       "tensor(3.2011e-98, dtype=torch.float64, grad_fn=<SumBackward0>)"
      ]
     },
     "execution_count": 172,
     "metadata": {},
     "output_type": "execute_result"
    }
   ],
   "source": [
    "y_pred = model(train_dataset[12][0])\n",
    "y_test = train_dataset[12][1]\n",
    "loss_fn(y_pred,y_test)"
   ]
  },
  {
   "cell_type": "markdown",
   "metadata": {},
   "source": [
    "## Training"
   ]
  },
  {
   "cell_type": "code",
   "execution_count": 173,
   "metadata": {},
   "outputs": [],
   "source": [
    "lr = 1e-1\n",
    "# Defines a SGD optimizer to update the parameters\n",
    "optimizer = optim.SGD(model.alpha, lr=lr)"
   ]
  },
  {
   "cell_type": "code",
   "execution_count": 174,
   "metadata": {},
   "outputs": [],
   "source": [
    "def make_train_step(model, loss_fn, optimizer):\n",
    "    # Builds function that performs a step in the train loop\n",
    "    def train_step(x, y):\n",
    "        # Sets model to TRAIN mode\n",
    "        model.train()\n",
    "        # Makes predictions\n",
    "        yhat = model(x)\n",
    "        # Computes loss\n",
    "        loss = loss_fn(y, yhat)\n",
    "        # Computes gradients\n",
    "        loss.backward()\n",
    "        # Updates parameters and zeroes gradients\n",
    "        optimizer.step()\n",
    "        optimizer.zero_grad()\n",
    "        # Returns the loss\n",
    "        return loss.item()\n",
    "    \n",
    "    # Returns the function that will be called inside the train loop\n",
    "    return train_step"
   ]
  },
  {
   "cell_type": "code",
   "execution_count": 175,
   "metadata": {},
   "outputs": [],
   "source": [
    "# Creates the train_step function for our model, \n",
    "# loss function and optimizer\n",
    "train_step = make_train_step(model, loss_fn, optimizer)"
   ]
  },
  {
   "cell_type": "code",
   "execution_count": 176,
   "metadata": {},
   "outputs": [],
   "source": [
    "losses = []\n",
    "val_losses = []\n",
    "n_epochs = 10\n",
    "device = 'cuda' if torch.cuda.is_available() else 'cpu'\n",
    "\n",
    "for epoch in range(n_epochs):\n",
    "    for x_batch, y_batch in train_loader:\n",
    "        x_batch = x_batch.to(device)\n",
    "        y_batch = y_batch.to(device)\n",
    "\n",
    "        loss = train_step(x_batch, y_batch)\n",
    "        losses.append(loss)\n",
    "        \n",
    "    with torch.no_grad():\n",
    "        for x_val, y_val in val_loader:\n",
    "            x_val = x_val.to(device)\n",
    "            y_val = y_val.to(device)\n",
    "            \n",
    "            model.eval()\n",
    "\n",
    "            yhat = model(x_val)\n",
    "            val_loss = loss_fn(y_val, yhat)\n",
    "            val_losses.append(val_loss.item())"
   ]
  },
  {
   "cell_type": "code",
   "execution_count": 177,
   "metadata": {},
   "outputs": [
    {
     "data": {
      "text/plain": [
       "[<matplotlib.lines.Line2D at 0x124cdb710>]"
      ]
     },
     "execution_count": 177,
     "metadata": {},
     "output_type": "execute_result"
    },
    {
     "data": {
      "image/png": "[encoded data removed]",
      "text/plain": [
       "<Figure size 432x288 with 1 Axes>"
      ]
     },
     "metadata": {
      "needs_background": "light"
     },
     "output_type": "display_data"
    }
   ],
   "source": [
    "plt.plot(losses)"
   ]
  },
  {
   "cell_type": "code",
   "execution_count": 178,
   "metadata": {},
   "outputs": [
    {
     "data": {
      "text/plain": [
       "[<matplotlib.lines.Line2D at 0x129904f90>]"
      ]
     },
     "execution_count": 178,
     "metadata": {},
     "output_type": "execute_result"
    },
    {
     "data": {
      "image/png": "[encoded data removed]",
      "text/plain": [
       "<Figure size 432x288 with 1 Axes>"
      ]
     },
     "metadata": {
      "needs_background": "light"
     },
     "output_type": "display_data"
    }
   ],
   "source": [
    "plt.plot(val_losses)"
   ]
  },
  {
   "cell_type": "code",
   "execution_count": null,
   "metadata": {},
   "outputs": [],
   "source": []
  }
 ],
 "metadata": {
  "kernelspec": {
   "display_name": "Python 3",
   "language": "python",
   "name": "python3"
  },
  "language_info": {
   "codemirror_mode": {
    "name": "ipython",
    "version": 3
   },
   "file_extension": ".py",
   "mimetype": "text/x-python",
   "name": "python",
   "nbconvert_exporter": "python",
   "pygments_lexer": "ipython3",
   "version": "3.7.4"
  }
 },
 "nbformat": 4,
 "nbformat_minor": 4
}
