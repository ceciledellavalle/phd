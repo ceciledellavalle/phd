{
 "cells": [
  {
   "cell_type": "code",
   "execution_count": 1,
   "metadata": {},
   "outputs": [],
   "source": [
    "# importation\n",
    "import numpy as np\n",
    "from torch.autograd import Variable\n",
    "import torch\n",
    "import matplotlib.pyplot as plt\n",
    "%matplotlib inline\n",
    "# local\n",
    "from FBResNet.myfunc import Physics\n",
    "from FBResNet.myfunc import MyMatmul\n",
    "from FBResNet.main import FBRestNet\n",
    "from FBResNet.model import MyModel\n",
    "from FBResNet.posttreat import Export_hyper"
   ]
  },
  {
   "cell_type": "code",
   "execution_count": 2,
   "metadata": {},
   "outputs": [],
   "source": [
    "exp1 = FBRestNet(experimentation=Physics(2000,50,1,1), constraint = 'slab',\\\n",
    "                 nb_blocks=20, noise = 0.05,\\\n",
    "                 folder = './', im_set=\"Set1\",batch_size=[300,1],\\\n",
    "                 lr=1e-3, nb_epochs=[20,1])"
   ]
  },
  {
   "cell_type": "code",
   "execution_count": 3,
   "metadata": {},
   "outputs": [],
   "source": [
    "train_set, val_set = exp1.CreateDataSet()"
   ]
  },
  {
   "cell_type": "code",
   "execution_count": null,
   "metadata": {},
   "outputs": [
    {
     "name": "stdout",
     "output_type": "stream",
     "text": [
      "epoch :  0  -----  validation :  0.002647129588538776\n",
      "           ----- initial error : 0.11423984619628902\n",
      "epoch :  1  -----  validation :  0.002600747052356107\n",
      "           ----- initial error : 0.11423984619628902\n",
      "epoch :  2  -----  validation :  0.002516587155549481\n",
      "           ----- initial error : 0.11423984619628902\n",
      "epoch :  3  -----  validation :  0.0024646422512667027\n",
      "           ----- initial error : 0.11423984619628902\n",
      "epoch :  4  -----  validation :  0.0024082766704859844\n",
      "           ----- initial error : 0.11423984619628902\n",
      "epoch :  5  -----  validation :  0.002328780284968694\n",
      "           ----- initial error : 0.11423984619628902\n",
      "epoch :  6  -----  validation :  0.0022694385119430447\n",
      "           ----- initial error : 0.11423984619628902\n"
     ]
    }
   ],
   "source": [
    "exp1.train(train_set,val_set,save_model=True)"
   ]
  },
  {
   "cell_type": "markdown",
   "metadata": {},
   "source": [
    "### Gaussian"
   ]
  },
  {
   "cell_type": "code",
   "execution_count": null,
   "metadata": {},
   "outputs": [],
   "source": [
    "exp1.test_gauss(noise=0.01)"
   ]
  },
  {
   "cell_type": "markdown",
   "metadata": {},
   "source": [
    "### Testing set"
   ]
  },
  {
   "cell_type": "code",
   "execution_count": null,
   "metadata": {},
   "outputs": [],
   "source": [
    "avrg_loss = exp1.test(train_set)"
   ]
  },
  {
   "cell_type": "markdown",
   "metadata": {},
   "source": [
    "### Lipschitz"
   ]
  },
  {
   "cell_type": "code",
   "execution_count": null,
   "metadata": {},
   "outputs": [],
   "source": [
    "exp1.model.Lipschitz(opt1=\"semi\",opt2=\"entree11\")"
   ]
  },
  {
   "cell_type": "code",
   "execution_count": null,
   "metadata": {},
   "outputs": [],
   "source": [
    "exp1.model.Lipschitz(opt1=\"semi\",opt2=\"entree01\")"
   ]
  },
  {
   "cell_type": "code",
   "execution_count": null,
   "metadata": {},
   "outputs": [],
   "source": []
  }
 ],
 "metadata": {
  "kernelspec": {
   "display_name": "Python 3",
   "language": "python",
   "name": "python3"
  },
  "language_info": {
   "codemirror_mode": {
    "name": "ipython",
    "version": 3
   },
   "file_extension": ".py",
   "mimetype": "text/x-python",
   "name": "python",
   "nbconvert_exporter": "python",
   "pygments_lexer": "ipython3",
   "version": "3.9.4"
  }
 },
 "nbformat": 4,
 "nbformat_minor": 4
}
