{
 "cells": [
  {
   "cell_type": "markdown",
   "metadata": {},
   "source": [
    "# TEST du modèle physique"
   ]
  },
  {
   "cell_type": "code",
   "execution_count": 1,
   "metadata": {},
   "outputs": [],
   "source": [
    "from torch.autograd import Variable\n",
    "import torch\n",
    "import torch.nn as nn\n",
    "import numpy as np\n",
    "import torch.nn as nn\n",
    "import torch.nn.functional as F\n",
    "# Local import\n",
    "from MyResNet.model import MyModel\n",
    "from MyResNet.myfunc import MyMatmul"
   ]
  },
  {
   "cell_type": "code",
   "execution_count": 2,
   "metadata": {},
   "outputs": [
    {
     "data": {
      "text/plain": [
       "tensor([0.])"
      ]
     },
     "execution_count": 2,
     "metadata": {},
     "output_type": "execute_result"
    }
   ],
   "source": [
    "torch.zeros(1)"
   ]
  },
  {
   "cell_type": "markdown",
   "metadata": {},
   "source": [
    "### Définition des paramètres"
   ]
  },
  {
   "cell_type": "code",
   "execution_count": 3,
   "metadata": {},
   "outputs": [],
   "source": [
    "nx = 20# taille du signal\n",
    "D  = 1/nx**2*(np.diag(np.ones(nx)) - np.diag(np.ones(nx-1),-1) - np.diag(np.ones(nx-1),1))# matrice de dérivation\n",
    "T  = 1/nx*np.tri(nx, nx, 0, dtype=int) # matrice de convolution\n",
    "operator = MyMatmul(torch.FloatTensor(T.T))"
   ]
  },
  {
   "cell_type": "code",
   "execution_count": 4,
   "metadata": {},
   "outputs": [],
   "source": [
    "DtD = torch.FloatTensor(np.transpose(D).dot(D))\n",
    "TtT = torch.FloatTensor(np.transpose(T).dot(T))\n",
    "tensor_list = [DtD,TtT]"
   ]
  },
  {
   "cell_type": "code",
   "execution_count": 5,
   "metadata": {},
   "outputs": [
    {
     "data": {
      "text/plain": [
       "torch.Size([20])"
      ]
     },
     "execution_count": 5,
     "metadata": {},
     "output_type": "execute_result"
    }
   ],
   "source": [
    "mass = 1\n",
    "vector = torch.FloatTensor(np.ones(nx))\n",
    "vector.size()"
   ]
  },
  {
   "cell_type": "markdown",
   "metadata": {},
   "source": [
    "### Définition du modèle"
   ]
  },
  {
   "cell_type": "code",
   "execution_count": 6,
   "metadata": {},
   "outputs": [],
   "source": [
    "nL = 12\n",
    "m  = MyModel(tensor_list,mass,vector,nL)"
   ]
  },
  {
   "cell_type": "code",
   "execution_count": 7,
   "metadata": {},
   "outputs": [],
   "source": [
    "x   = torch.rand(1,1,nx)\n",
    "x_b = operator(x)\n",
    "x_0 = torch.zeros(1,1,nx)"
   ]
  },
  {
   "cell_type": "code",
   "execution_count": 8,
   "metadata": {},
   "outputs": [
    {
     "name": "stdout",
     "output_type": "stream",
     "text": [
      "torch.Size([1, 1, 20])\n",
      "torch.Size([1, 1, 256])\n",
      "torch.Size([1, 1, 20])\n",
      "torch.Size([1, 1, 256])\n",
      "torch.Size([1, 1, 20])\n",
      "torch.Size([1, 1, 256])\n",
      "torch.Size([1, 1, 20])\n",
      "torch.Size([1, 1, 256])\n",
      "torch.Size([1, 1, 20])\n",
      "torch.Size([1, 1, 256])\n",
      "torch.Size([1, 1, 20])\n",
      "torch.Size([1, 1, 256])\n",
      "torch.Size([1, 1, 20])\n",
      "torch.Size([1, 1, 256])\n",
      "torch.Size([1, 1, 20])\n",
      "torch.Size([1, 1, 256])\n",
      "torch.Size([1, 1, 20])\n",
      "torch.Size([1, 1, 256])\n",
      "torch.Size([1, 1, 20])\n",
      "torch.Size([1, 1, 256])\n",
      "torch.Size([1, 1, 20])\n",
      "torch.Size([1, 1, 256])\n",
      "torch.Size([1, 1, 20])\n",
      "torch.Size([1, 1, 256])\n",
      "torch.Size([1, 1, 20])\n",
      "torch.Size([1, 1, 256])\n",
      "torch.Size([1, 1, 20])\n",
      "torch.Size([1, 1, 256])\n",
      "torch.Size([1, 1, 20])\n",
      "torch.Size([1, 1, 256])\n",
      "torch.Size([1, 1, 20])\n",
      "torch.Size([1, 1, 256])\n",
      "torch.Size([1, 1, 20])\n",
      "torch.Size([1, 1, 256])\n",
      "torch.Size([1, 1, 20])\n",
      "torch.Size([1, 1, 256])\n",
      "torch.Size([1, 1, 20])\n",
      "torch.Size([1, 1, 256])\n",
      "torch.Size([1, 1, 20])\n",
      "torch.Size([1, 1, 256])\n",
      "torch.Size([1, 1, 20])\n",
      "torch.Size([1, 1, 256])\n",
      "torch.Size([1, 1, 20])\n",
      "torch.Size([1, 1, 256])\n",
      "torch.Size([1, 1, 20])\n",
      "torch.Size([1, 1, 256])\n",
      "torch.Size([1, 1, 20])\n",
      "torch.Size([1, 1, 256])\n"
     ]
    }
   ],
   "source": [
    "a=m(x_0,x_b)"
   ]
  },
  {
   "cell_type": "markdown",
   "metadata": {},
   "source": [
    "### Calcul de Loss"
   ]
  },
  {
   "cell_type": "code",
   "execution_count": 9,
   "metadata": {},
   "outputs": [],
   "source": [
    "from MyResNet.loss_ot import WASS_loss\n",
    "from MyResNet.myfunc import Sinkhorn_loss"
   ]
  },
  {
   "cell_type": "code",
   "execution_count": 10,
   "metadata": {},
   "outputs": [
    {
     "ename": "NameError",
     "evalue": "name 'sinkhorn_loss' is not defined",
     "output_type": "error",
     "traceback": [
      "\u001b[0;31m---------------------------------------------------------------------------\u001b[0m",
      "\u001b[0;31mNameError\u001b[0m                                 Traceback (most recent call last)",
      "\u001b[0;32m<ipython-input-10-c066040fcc7c>\u001b[0m in \u001b[0;36m<module>\u001b[0;34m\u001b[0m\n\u001b[0;32m----> 1\u001b[0;31m \u001b[0msinkhorn_loss\u001b[0m\u001b[0;34m(\u001b[0m\u001b[0ma\u001b[0m\u001b[0;34m,\u001b[0m\u001b[0mx_b\u001b[0m\u001b[0;34m)\u001b[0m\u001b[0;34m\u001b[0m\u001b[0;34m\u001b[0m\u001b[0m\n\u001b[0m",
      "\u001b[0;31mNameError\u001b[0m: name 'sinkhorn_loss' is not defined"
     ]
    }
   ],
   "source": [
    "Sinkhorn_loss(a,x_b)"
   ]
  },
  {
   "cell_type": "code",
   "execution_count": null,
   "metadata": {},
   "outputs": [],
   "source": [
    "a"
   ]
  },
  {
   "cell_type": "code",
   "execution_count": null,
   "metadata": {},
   "outputs": [],
   "source": []
  }
 ],
 "metadata": {
  "kernelspec": {
   "display_name": "Python 3",
   "language": "python",
   "name": "python3"
  },
  "language_info": {
   "codemirror_mode": {
    "name": "ipython",
    "version": 3
   },
   "file_extension": ".py",
   "mimetype": "text/x-python",
   "name": "python",
   "nbconvert_exporter": "python",
   "pygments_lexer": "ipython3",
   "version": "3.6.9"
  }
 },
 "nbformat": 4,
 "nbformat_minor": 4
}
