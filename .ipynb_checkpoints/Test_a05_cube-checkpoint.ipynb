{
 "cells": [
  {
   "cell_type": "code",
   "execution_count": 1,
   "metadata": {},
   "outputs": [],
   "source": [
    "# importation\n",
    "import numpy as np\n",
    "from torch.autograd import Variable\n",
    "import torch\n",
    "import matplotlib.pyplot as plt\n",
    "%matplotlib inline\n",
    "# local\n",
    "from FBResNet.myfunc import Physics\n",
    "from FBResNet.myfunc import MyMatmul\n",
    "from FBResNet.main import FBRestNet\n",
    "from FBResNet.model import MyModel\n",
    "from FBResNet.posttreat import Export_hyper"
   ]
  },
  {
   "cell_type": "markdown",
   "metadata": {},
   "source": [
    "### Parametres - experimental conditions"
   ]
  },
  {
   "cell_type": "code",
   "execution_count": 2,
   "metadata": {},
   "outputs": [],
   "source": [
    "exp1 = FBRestNet(experimentation=Physics(2000,50,0.5,1), constraint = 'cube',\\\n",
    "                 nb_blocks=20, noise = 0.01,\\\n",
    "                 folder = './', im_set=\"Set1\",batch_size=[600,1],\\\n",
    "                 lr=1e-3, nb_epochs=[30,1])"
   ]
  },
  {
   "cell_type": "markdown",
   "metadata": {},
   "source": [
    "### Synthetic dataset"
   ]
  },
  {
   "cell_type": "code",
   "execution_count": 3,
   "metadata": {},
   "outputs": [],
   "source": [
    "train_set, val_set = exp1.CreateDataSet()"
   ]
  },
  {
   "cell_type": "markdown",
   "metadata": {},
   "source": [
    "### Training"
   ]
  },
  {
   "cell_type": "code",
   "execution_count": null,
   "metadata": {},
   "outputs": [
    {
     "name": "stdout",
     "output_type": "stream",
     "text": [
      "epoch :  0  -----  validation :  5.050383669844103e-06\n",
      "epoch :  1  -----  validation :  4.876834693229499e-06\n",
      "epoch :  2  -----  validation :  4.7229536355175625e-06\n",
      "epoch :  3  -----  validation :  4.5899812739982514e-06\n",
      "epoch :  4  -----  validation :  4.472133701681138e-06\n",
      "epoch :  5  -----  validation :  4.382911565893271e-06\n",
      "epoch :  6  -----  validation :  4.31668492390042e-06\n",
      "epoch :  7  -----  validation :  4.264149185300125e-06\n",
      "epoch :  8  -----  validation :  4.218714389425894e-06\n",
      "epoch :  9  -----  validation :  4.1864452486147436e-06\n",
      "epoch :  10  -----  validation :  4.161355687829566e-06\n",
      "epoch :  11  -----  validation :  4.1394458916233335e-06\n",
      "epoch :  12  -----  validation :  4.12411362908391e-06\n",
      "epoch :  13  -----  validation :  4.1130388600646966e-06\n",
      "epoch :  14  -----  validation :  4.104106668037915e-06\n",
      "epoch :  15  -----  validation :  4.095196711785494e-06\n",
      "epoch :  16  -----  validation :  4.087884488355722e-06\n",
      "epoch :  17  -----  validation :  4.08266628935496e-06\n",
      "epoch :  18  -----  validation :  4.079811606004283e-06\n",
      "epoch :  19  -----  validation :  4.0777323700048275e-06\n",
      "epoch :  20  -----  validation :  4.07342976851812e-06\n",
      "epoch :  21  -----  validation :  4.071238159363774e-06\n"
     ]
    }
   ],
   "source": [
    "exp1.train(train_set,val_set,save_model=True)"
   ]
  },
  {
   "cell_type": "markdown",
   "metadata": {},
   "source": [
    "### Gaussian test"
   ]
  },
  {
   "cell_type": "code",
   "execution_count": null,
   "metadata": {},
   "outputs": [],
   "source": [
    "exp1.test_gauss()"
   ]
  },
  {
   "cell_type": "markdown",
   "metadata": {},
   "source": [
    "### Lipschitz constant"
   ]
  },
  {
   "cell_type": "code",
   "execution_count": null,
   "metadata": {},
   "outputs": [],
   "source": [
    "exp1.model.Lipschitz(opt1=\"semi\",opt2=\"entree11\")"
   ]
  },
  {
   "cell_type": "code",
   "execution_count": null,
   "metadata": {},
   "outputs": [],
   "source": [
    "exp1.model.Lipschitz(opt1=\"semi\",opt2=\"entree01\")"
   ]
  },
  {
   "cell_type": "code",
   "execution_count": null,
   "metadata": {},
   "outputs": [],
   "source": []
  }
 ],
 "metadata": {
  "kernelspec": {
   "display_name": "Python 3",
   "language": "python",
   "name": "python3"
  },
  "language_info": {
   "codemirror_mode": {
    "name": "ipython",
    "version": 3
   },
   "file_extension": ".py",
   "mimetype": "text/x-python",
   "name": "python",
   "nbconvert_exporter": "python",
   "pygments_lexer": "ipython3",
   "version": "3.9.1"
  }
 },
 "nbformat": 4,
 "nbformat_minor": 4
}
