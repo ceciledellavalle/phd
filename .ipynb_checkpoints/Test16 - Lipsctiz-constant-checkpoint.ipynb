{
 "cells": [
  {
   "cell_type": "markdown",
   "metadata": {},
   "source": [
    "# Calcul de la constante de Lifschitz mais sans training\n",
    "On a implementé le module de la class model qui pour un modele donne calcul sa constante de Lipschitz.\n",
    "On compare le resultats avec deux entrées proches à une perturbation près, pour voir si on retombe sur nos pieds."
   ]
  },
  {
   "cell_type": "code",
   "execution_count": 1,
   "metadata": {},
   "outputs": [],
   "source": [
    "# importation\n",
    "import numpy as np\n",
    "import matplotlib.pyplot as plt\n",
    "import torch\n",
    "import torch.nn as nn\n",
    "import torch.nn.functional as F\n",
    "from torch.autograd import Variable\n",
    "from torch.utils.data import Dataset, TensorDataset\n",
    "from torch.utils.data import DataLoader\n",
    "from torch.utils.data.dataset import random_split\n",
    "import cv2 as cv\n",
    "import matplotlib.pyplot as plt\n",
    "import pandas as pd\n",
    "%matplotlib inline\n",
    "# local\n",
    "from FBResNet.pretreat import LoadDataSet, CreateDataSet\n",
    "from FBResNet.myfunc import Physics\n",
    "from FBResNet.myfunc import MyMatmul\n",
    "from FBResNet.model import MyModel"
   ]
  },
  {
   "cell_type": "code",
   "execution_count": 2,
   "metadata": {},
   "outputs": [],
   "source": [
    "a   = 1\n",
    "p   = 1\n",
    "nx  = 2000\n",
    "m   = 20\n",
    "sim = Physics(nx,m,a,p)"
   ]
  },
  {
   "cell_type": "code",
   "execution_count": 3,
   "metadata": {},
   "outputs": [],
   "source": [
    "folder  = './Datasets'\n",
    "nsample = 50\n",
    "train_set, val_set = CreateDataSet(sim,folder, noise=0.0, nsample=50, save='yes')"
   ]
  },
  {
   "cell_type": "code",
   "execution_count": 4,
   "metadata": {},
   "outputs": [
    {
     "data": {
      "text/plain": [
       "(20,)"
      ]
     },
     "execution_count": 4,
     "metadata": {},
     "output_type": "execute_result"
    }
   ],
   "source": [
    "# Gaussian\n",
    "t   = np.linspace(0,1,nx)\n",
    "x   = np.exp(-(t-0.5)**2/0.01)\n",
    "xc  = sim.BasisChange(x)\n",
    "y   = sim.ComputeAdjoint(sim.Compute(x))\n",
    "y.shape"
   ]
  },
  {
   "cell_type": "code",
   "execution_count": 5,
   "metadata": {},
   "outputs": [],
   "source": [
    "nLayers = 100"
   ]
  },
  {
   "cell_type": "markdown",
   "metadata": {},
   "source": [
    "### Descente de gradient"
   ]
  },
  {
   "cell_type": "code",
   "execution_count": 6,
   "metadata": {},
   "outputs": [],
   "source": [
    "gamma = 0.913\n",
    "xk = y.copy()\n",
    "tDD, tTT, Peig, Pelt = sim.Operators()\n",
    "y2  = tTT.dot(sim.BasisChange(x))\n",
    "for _ in range(nLayers):\n",
    "    xk = xk-gamma*(tTT.dot(xk)-y2)"
   ]
  },
  {
   "cell_type": "code",
   "execution_count": 7,
   "metadata": {},
   "outputs": [
    {
     "data": {
      "text/plain": [
       "array([-1.15564927e-04,  3.04008622e-05, -1.47471991e-05,  1.08688705e-05,\n",
       "       -9.14016473e-06,  7.40029862e-06, -6.07031417e-06,  5.28525676e-06,\n",
       "       -4.71814650e-06,  4.21385101e-06, -3.79799667e-06,  3.46986292e-06,\n",
       "       -3.19565155e-06,  2.95837447e-06, -2.75362336e-06,  2.57604915e-06,\n",
       "       -2.42001340e-06,  2.28167559e-06, -2.15829216e-06,  2.04758131e-06])"
      ]
     },
     "execution_count": 7,
     "metadata": {},
     "output_type": "execute_result"
    }
   ],
   "source": [
    "tTT.dot(xc)-y"
   ]
  },
  {
   "cell_type": "code",
   "execution_count": 8,
   "metadata": {},
   "outputs": [
    {
     "data": {
      "text/plain": [
       "array([0., 0., 0., 0., 0., 0., 0., 0., 0., 0., 0., 0., 0., 0., 0., 0., 0.,\n",
       "       0., 0., 0.])"
      ]
     },
     "execution_count": 8,
     "metadata": {},
     "output_type": "execute_result"
    }
   ],
   "source": [
    "tTT.dot(xc)-y2"
   ]
  },
  {
   "cell_type": "code",
   "execution_count": 9,
   "metadata": {},
   "outputs": [],
   "source": [
    "eigm=(np.linspace(0,m-1,m)+1/2)*np.pi"
   ]
  },
  {
   "cell_type": "markdown",
   "metadata": {},
   "source": [
    "### Modele non entrainé"
   ]
  },
  {
   "cell_type": "code",
   "execution_count": 10,
   "metadata": {},
   "outputs": [],
   "source": [
    "mymodel = MyModel(sim,nL=100)"
   ]
  },
  {
   "cell_type": "code",
   "execution_count": 11,
   "metadata": {},
   "outputs": [],
   "source": [
    "x0 = torch.FloatTensor(np.zeros((1,1,m))).detach()\n",
    "xb = torch.FloatTensor(y.reshape(1,1,-1)).detach()"
   ]
  },
  {
   "cell_type": "code",
   "execution_count": 12,
   "metadata": {},
   "outputs": [
    {
     "data": {
      "text/plain": [
       "tensor([[[ 0.2353, -0.1365,  0.0625, -0.0483,  0.0501, -0.0424,  0.0331,\n",
       "          -0.0292,  0.0273, -0.0247,  0.0222, -0.0205,  0.0191, -0.0178,\n",
       "           0.0167, -0.0156,  0.0144, -0.0135,  0.0131, -0.0103]]])"
      ]
     },
     "execution_count": 12,
     "metadata": {},
     "output_type": "execute_result"
    }
   ],
   "source": [
    "with torch.no_grad():\n",
    "    xt = mymodel(xb,xb).detach()\n",
    "xt"
   ]
  },
  {
   "cell_type": "code",
   "execution_count": 13,
   "metadata": {},
   "outputs": [
    {
     "data": {
      "text/plain": [
       "<matplotlib.legend.Legend at 0x7fa413bba670>"
      ]
     },
     "execution_count": 13,
     "metadata": {},
     "output_type": "execute_result"
    },
    {
     "data": {
      "image/png": "[encoded data removed]",
      "text/plain": [
       "<Figure size 432x288 with 1 Axes>"
      ]
     },
     "metadata": {
      "needs_background": "light"
     },
     "output_type": "display_data"
    }
   ],
   "source": [
    "plt.xlim((0,30))\n",
    "plt.plot(xt[0,0].numpy(),label=\"model\")\n",
    "plt.plot(xk,label=\"lin\")\n",
    "plt.plot(xc,label=\"best\")\n",
    "plt.plot(x,label=\"gauss\")\n",
    "plt.plot(np.zeros(nx))\n",
    "plt.legend()"
   ]
  },
  {
   "cell_type": "code",
   "execution_count": 14,
   "metadata": {},
   "outputs": [
    {
     "data": {
      "text/plain": [
       "<matplotlib.legend.Legend at 0x7fa413fe4820>"
      ]
     },
     "execution_count": 14,
     "metadata": {},
     "output_type": "execute_result"
    },
    {
     "data": {
      "image/png": "[encoded data removed]",
      "text/plain": [
       "<Figure size 432x288 with 1 Axes>"
      ]
     },
     "metadata": {
      "needs_background": "light"
     },
     "output_type": "display_data"
    }
   ],
   "source": [
    "plt.plot(sim.BasisChangeInv(xt[0,0].numpy()),label=\"model\")\n",
    "plt.plot(sim.BasisChangeInv(xk),label=\"lin\")\n",
    "plt.plot(sim.BasisChangeInv(xb[0,0].numpy()),label=\"init\")\n",
    "plt.plot(sim.BasisChangeInv(sim.BasisChange(x)),label=\"best\")\n",
    "#plt.plot(x,label=\"gauss\")\n",
    "plt.plot(np.zeros(nx))\n",
    "plt.legend()"
   ]
  },
  {
   "cell_type": "code",
   "execution_count": 15,
   "metadata": {},
   "outputs": [
    {
     "data": {
      "text/plain": [
       "1.5796331554796404e+88"
      ]
     },
     "execution_count": 15,
     "metadata": {},
     "output_type": "execute_result"
    }
   ],
   "source": [
    "mymodel.Lipschitz()"
   ]
  },
  {
   "cell_type": "code",
   "execution_count": 16,
   "metadata": {},
   "outputs": [
    {
     "data": {
      "text/plain": [
       "0.40528473456935116"
      ]
     },
     "execution_count": 16,
     "metadata": {},
     "output_type": "execute_result"
    }
   ],
   "source": [
    "(2/np.pi)**2"
   ]
  },
  {
   "cell_type": "code",
   "execution_count": 17,
   "metadata": {},
   "outputs": [],
   "source": [
    "soft = nn.Softplus()"
   ]
  },
  {
   "cell_type": "code",
   "execution_count": 18,
   "metadata": {},
   "outputs": [
    {
     "data": {
      "text/plain": [
       "tensor([0.9130])"
      ]
     },
     "execution_count": 18,
     "metadata": {},
     "output_type": "execute_result"
    }
   ],
   "source": [
    "soft(torch.FloatTensor([0.4]))"
   ]
  },
  {
   "cell_type": "code",
   "execution_count": null,
   "metadata": {},
   "outputs": [],
   "source": []
  }
 ],
 "metadata": {
  "kernelspec": {
   "display_name": "Python 3",
   "language": "python",
   "name": "python3"
  },
  "language_info": {
   "codemirror_mode": {
    "name": "ipython",
    "version": 3
   },
   "file_extension": ".py",
   "mimetype": "text/x-python",
   "name": "python",
   "nbconvert_exporter": "python",
   "pygments_lexer": "ipython3",
   "version": "3.9.1"
  }
 },
 "nbformat": 4,
 "nbformat_minor": 4
}
