{
 "cells": [
  {
   "cell_type": "markdown",
   "id": "0449835d",
   "metadata": {},
   "source": [
    "# PLOT pour a=1"
   ]
  },
  {
   "cell_type": "code",
   "execution_count": 1,
   "id": "6d5b5ffb",
   "metadata": {},
   "outputs": [],
   "source": [
    "# importation\n",
    "import numpy as np\n",
    "from torch.autograd import Variable\n",
    "import torch\n",
    "import matplotlib.pyplot as plt\n",
    "%matplotlib inline\n",
    "# local\n",
    "from FBResNet.myfunc import Physics\n",
    "from FBResNet.myfunc import MyMatmul\n",
    "from FBResNet.main import FBRestNet\n",
    "from FBResNet.model import MyModel\n",
    "from FBResNet.posttreat import Export_hyper"
   ]
  },
  {
   "cell_type": "code",
   "execution_count": 2,
   "id": "64900883",
   "metadata": {},
   "outputs": [],
   "source": [
    "def MyPlot(exp,fx,fb,idx):\n",
    "    # Select 3 curves number 15, 24, 30\n",
    "    x_true = fx[idx]\n",
    "    y = torch.FloatTensor(fb[idx]).view(-1,1,exp.physics.m)\n",
    "    x_bias  = Variable(y,requires_grad=False)\n",
    "    # definition of the initialisation tensor\n",
    "    x_init   = torch.zeros(x_bias.size())\n",
    "    inv      = np.diag(exp.physics.eigm**(2*exp.physics.a))\n",
    "    tTTinv   = MyMatmul(inv)\n",
    "    x_init   = tTTinv(y) # no filtration of high frequences\n",
    "    x_init   = Variable(x_init,requires_grad=False) \n",
    "    with torch.no_grad():\n",
    "        exp.model.eval() \n",
    "        # prediction\n",
    "        x_pred  = exp.model(x_init,x_bias).detach()\n",
    "        xpc     = x_pred.detach().numpy()[0,0,:]\n",
    "        x_out   = exp.physics.BasisChangeInv(xpc)\n",
    "    plt.plot(x_out)\n",
    "    plt.plot(x_true)"
   ]
  },
  {
   "cell_type": "markdown",
   "id": "e9595ddc",
   "metadata": {},
   "source": [
    "# SLAB"
   ]
  },
  {
   "cell_type": "code",
   "execution_count": null,
   "id": "f3e140cc",
   "metadata": {},
   "outputs": [],
   "source": [
    "# Load database\n",
    "import pandas as pd\n",
    "folder = './Datasets/Signals'\n",
    "dfle = pd.read_csv(folder+'/'+'data_l_a1_slab.csv', sep=',',header=None)\n",
    "dfTbn = pd.read_csv(folder+'/'+'data_tTb_a1_slab_n0.05.csv', sep=',',header=None)\n",
    "# numpy array\n",
    "fle = np.array(dfle) # initial - elt basis\n",
    "fTbn = np.array(dfTbn)"
   ]
  },
  {
   "cell_type": "code",
   "execution_count": null,
   "id": "d1773d96",
   "metadata": {},
   "outputs": [],
   "source": [
    "# a=1, p=1\n",
    "exp0 = FBRestNet(experimentation=Physics(2000,50,1,1), nb_blocks=20, noise = 0.05,\\\n",
    "                 constr = 'slab',\\\n",
    "                 folder = './', im_set=\"Set1\",batch_size=[60,1],\\\n",
    "                 lr=1e-3, nb_epochs=[10,1])"
   ]
  },
  {
   "cell_type": "markdown",
   "id": "7e009183",
   "metadata": {},
   "source": [
    "## CUBE"
   ]
  },
  {
   "cell_type": "code",
   "execution_count": 10,
   "id": "8aa0ebae",
   "metadata": {},
   "outputs": [],
   "source": [
    "# Load database\n",
    "import pandas as pd\n",
    "folder = './Datasets/Signals'\n",
    "dfle = pd.read_csv(folder+'/'+'data_l_a1_cube.csv', sep=',',header=None)\n",
    "dfTbn = pd.read_csv(folder+'/'+'data_tTb_a1_cube_n0.05.csv', sep=',',header=None)\n",
    "# numpy array\n",
    "fle = np.array(dfle) # initial - elt basis\n",
    "fTbn = np.array(dfTbn)"
   ]
  },
  {
   "cell_type": "code",
   "execution_count": 11,
   "id": "da89ae65",
   "metadata": {},
   "outputs": [],
   "source": [
    "# a=1, p=1\n",
    "exp0 = FBRestNet(experimentation=Physics(2000,50,1,1), nb_blocks=20, noise = 0.05,\\\n",
    "                 folder = './', im_set=\"Set1\",batch_size=[60,1],\\\n",
    "                 lr=1e-3, nb_epochs=[10,1])"
   ]
  },
  {
   "cell_type": "code",
   "execution_count": 14,
   "id": "fdb69482",
   "metadata": {},
   "outputs": [],
   "source": [
    "# load parameters\n",
    "exp0.LoadParam()"
   ]
  },
  {
   "cell_type": "code",
   "execution_count": 15,
   "id": "46bf217f",
   "metadata": {},
   "outputs": [
    {
     "data": {
      "image/png": "[encoded data removed]",
      "text/plain": [
       "<Figure size 432x288 with 1 Axes>"
      ]
     },
     "metadata": {
      "needs_background": "light"
     },
     "output_type": "display_data"
    }
   ],
   "source": [
    "MyPlot(exp0,fle,fTbn,15)"
   ]
  },
  {
   "cell_type": "code",
   "execution_count": null,
   "id": "3f5b8c67",
   "metadata": {},
   "outputs": [],
   "source": []
  }
 ],
 "metadata": {
  "kernelspec": {
   "display_name": "Python 3",
   "language": "python",
   "name": "python3"
  },
  "language_info": {
   "codemirror_mode": {
    "name": "ipython",
    "version": 3
   },
   "file_extension": ".py",
   "mimetype": "text/x-python",
   "name": "python",
   "nbconvert_exporter": "python",
   "pygments_lexer": "ipython3",
   "version": "3.9.4"
  }
 },
 "nbformat": 4,
 "nbformat_minor": 5
}
