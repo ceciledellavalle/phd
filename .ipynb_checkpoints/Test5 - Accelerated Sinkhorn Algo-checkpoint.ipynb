{
 "cells": [
  {
   "cell_type": "markdown",
   "metadata": {},
   "source": [
    "# Modèle non linéaire - Accelerated Sinkhorn RNA\n",
    "\n",
    "Ici on reprend tout ce qu'on a fait, mais on change la loss.\n",
    "On utilise la distance de Wasserstein (transport optimal), calculé par un algorithme de Sinkorhn. \n",
    "On veut transpoter une distribution a en b.\n",
    "\n",
    "We consider (for stabilization purpose)\n",
    "the variables $f = \\epsilon \\log(u/a)$ and $g = \\epsilon \\log(v/b)$.\n",
    "In these variables, Sinkhorn algorithm can be interpreted as an alternate maximization algorithm, to solve the following \"dual\" problem:\n",
    "$$\n",
    "\\max_{f\\in R^n, g \\in R^m} F(f,g) =  \\sum_{i=1}^n f_i a_i + \\sum_{j=1}^m g_j b_j - \\epsilon \\sum_{i,j} a_ib_j \\exp \\left( (f_i + g_j -C_{ij})/\\epsilon \\right).\n",
    "$$\n",
    "\n",
    "In these variables, the algorithm is initialized with $g = 0_m$ and the updates read\n",
    "$$\n",
    "f_i \\longleftarrow - \\epsilon \\log \\sum_{j} b_j \\exp ((g_j - C_{ij})/\\epsilon),\\, \\forall i \\\\\n",
    "g_j \\longleftarrow - \\epsilon \\log \\sum_{i} a_i \\exp ((f_i - C_{ij})/\\epsilon),\\, \\forall j\n",
    "$$\n",
    "\n",
    "The optimal transport plan $P=(P_{ij})_{\\substack{i=1\\dots n\\\\j=1\\dots m}}$ can be recovered as \n",
    "$$\n",
    "P_{ij} = a_ib_j\\exp\\left( (f_i+g_j - C_{ij})/\\epsilon \\right).\n",
    "$$\n",
    "\n",
    "On voit tout de suite une difficulté :\n",
    "\n",
    "- The Gibbs kernel K is a Gaussian convolution,\n",
    "$$ \n",
    "\\begin{cases}\n",
    "C_{i,j} = i/N-j/N)^2 , \\\\\n",
    " K_{i,j} = e^{ -(i/N-j/N)^2/\\epsilon }, \n",
    "\\end{cases}\n",
    " $$\n",
    "et est indépendant de a et b\n",
    "\n",
    "- Le coût final est \n",
    "$$ W = \\langle P,C \\rangle $$ \n",
    "la loss sera donc calculée à partir des dérivées des plan de transport u et v.\n",
    "En effet\n",
    "$$\n",
    "\\begin{split}\n",
    "\\frac{\\partial W}{\\partial a} = & \\frac{\\partial \\langle P,C \\rangle}{\\partial a} \\\\ \n",
    "                = &  \\langle\\frac{\\partial \\text{exp} (-C_{ij} + u_i + v_j) / \\epsilon) }{\\partial a}, C \\rangle \\\\\n",
    "                = &  \\langle\\frac{\\partial \\text{exp} (u_i) / \\epsilon) }{\\partial a}, C \\rangle \n",
    "                 + \\langle\\frac{\\partial \\text{exp} (v_j) / \\epsilon) }{\\partial a}, C \\rangle \\\\\n",
    "\\end{split}\n",
    "$$\n",
    "Et donc à travers toutes les itérations... d'où le besoin d'accélérer l'algo."
   ]
  },
  {
   "cell_type": "markdown",
   "metadata": {},
   "source": [
    "## Importation"
   ]
  },
  {
   "cell_type": "code",
   "execution_count": 2,
   "metadata": {},
   "outputs": [],
   "source": [
    "import numpy as np\n",
    "# pytorch\n",
    "import torch\n",
    "import torch.optim as optim\n",
    "import torch.nn as nn\n",
    "from torch.utils.data import Dataset, TensorDataset\n",
    "from torch.utils.data import DataLoader\n",
    "from torch.utils.data.dataset import random_split\n",
    "from torch.nn.modules.loss import _Loss\n",
    "import torch\n",
    "from torch.autograd import Variable\n",
    "# matplotlib\n",
    "import matplotlib.pyplot as plt\n",
    "%matplotlib inline"
   ]
  },
  {
   "cell_type": "markdown",
   "metadata": {},
   "source": [
    "## Data"
   ]
  },
  {
   "cell_type": "code",
   "execution_count": 3,
   "metadata": {},
   "outputs": [],
   "source": [
    "# Physical data\n",
    "l = 1\n",
    "tau = 1\n",
    "dep = 1\n",
    "# Numerical data\n",
    "nx = 200\n",
    "dx = l/(nx+1)\n",
    "nt = 200\n",
    "dt = tau/nt\n",
    "T_operator = 1/100*dx*np.tri(nt, nx, 0, dtype=int)\n",
    "# Data sample\n",
    "nsamp = 400\n",
    "x_dagger = np.zeros((nsamp,nx))\n",
    "y = np.zeros((nsamp,nt))\n",
    "x_grid = np.linspace(0,l,nx)\n",
    "#\n",
    "x_sample = np.zeros((nsamp,nx))\n",
    "#\n",
    "for i in range(0,nsamp):\n",
    "    mu = l/2\n",
    "    sigma = 10*l\n",
    "    x_dagger[i] = (sigma*np.sqrt(2*np.pi))**-1*np.exp(-(x_grid-mu)**2/2*sigma**2)\n",
    "    x_dagger[i] = x_dagger[i]/x_dagger[i].sum()\n",
    "    y[i] = T_operator.dot(x_dagger[i]) \n",
    "    xi = np.random.uniform(-0.005,0.005,nt)\n",
    "    y[i] += xi*np.linalg.norm(y[i])/np.linalg.norm(xi)\n",
    "    x_sample[i] = np.transpose(T_operator).dot(y[i])"
   ]
  },
  {
   "cell_type": "code",
   "execution_count": 4,
   "metadata": {},
   "outputs": [],
   "source": [
    "# Regularisation operator\n",
    "D_operator = np.diag(np.ones(nx-1),1)+ np.diag(np.ones(nx-1),-1)-2*np.eye(nx)"
   ]
  },
  {
   "cell_type": "code",
   "execution_count": 5,
   "metadata": {},
   "outputs": [],
   "source": [
    "x_tensor = torch.from_numpy(x_sample)\n",
    "y_tensor = torch.from_numpy(x_dagger)\n",
    "\n",
    "dataset = TensorDataset(x_tensor, y_tensor)\n",
    "\n",
    "train_dataset, val_dataset = random_split(dataset, [300, 100])\n",
    "\n",
    "train_loader = DataLoader(dataset=train_dataset, batch_size=5)\n",
    "val_loader = DataLoader(dataset=val_dataset, batch_size=5)"
   ]
  },
  {
   "cell_type": "markdown",
   "metadata": {},
   "source": [
    "## Loss"
   ]
  },
  {
   "cell_type": "code",
   "execution_count": 63,
   "metadata": {},
   "outputs": [],
   "source": [
    "def sinkhorn_loss(a, b, epsilon, niter=100):\n",
    "    \"\"\"\n",
    "    Given two emprical measures defined on a uniform grid xi = yi = i/n \n",
    "    (they are thue often refered to as \"histograms\"),\n",
    "    outputs an approximation of the OT cost with regularization parameter epsilon\n",
    "    niter is the max. number of steps in sinkhorn loop\n",
    "    \"\"\"\n",
    "\n",
    "    # Definition of the cost matrix :\n",
    "    n = a.shape[0]\n",
    "    t = np.linspace(0,1,n)\n",
    "    [Y,X] = np.meshgrid(t,t)\n",
    "    C_np = (X-Y)**2\n",
    "    C = Variable(torch.from_numpy(C_np), requires_grad=False)\n",
    "\n",
    "    # Parameters of the Sinkhorn algorithm.\n",
    "    tau = -.8  # nesterov-like acceleration\n",
    "    thresh = 10**(-1)  # stopping criterion\n",
    "\n",
    "    # Elementary operations \n",
    "    # .....................................................................\n",
    "    def ave(u, u1):\n",
    "        \"Over-relaxation to accelerate the convergence of the fixed-point algorithm.\" \n",
    "        \"It consists in replacing the update by a linear combination of the new and previous iterate. \"\n",
    "        return tau * u + (1 - tau) * u1\n",
    "\n",
    "    def M(u, v):\n",
    "        \"Modified cost for logarithmic updates\"\n",
    "        \"$M_{ij} = (-c_{ij} + u_i + v_j) / \\epsilon$\"\n",
    "        return (-C + u.unsqueeze(0) + v.unsqueeze(1)) / epsilon\n",
    "\n",
    "    def lse(A):\n",
    "        \"log-sum-exp\"\n",
    "        return torch.log(torch.exp(A).sum(1, keepdim=True) + 1e-6)  # add 10^-6 to prevent NaN\n",
    "\n",
    "    # Actual Sinkhorn loop \n",
    "    # ......................................................................\n",
    "    f = torch.zeros_like(a)\n",
    "    g = torch.zeros_like(a)\n",
    "    actual_nits = 0 \n",
    "    err = 0.\n",
    "\n",
    "    for i in range(niter):\n",
    "        f1 = f.clone()  # used to check the update error\n",
    "        # Stable update u <- eps ( log a_i - log sum exp (-c_{ij} + f_i + g_j)/eps + f_i\n",
    "        f = epsilon * (torch.log(a + 1e-6) - lse(M(f, g)).squeeze()) + f \n",
    "        # Stable update g <- eps ( log b_j - log sum exp (-c_{ij} + f_i + g_j)/eps + g_j\n",
    "        g = epsilon * (torch.log(b + 1e-6) - lse(M(f,g).transpose(-2, -1)).squeeze()) + g\n",
    "        # Error check\n",
    "        err = (f - f1).abs().sum()\n",
    "        actual_nits += 1\n",
    "        if (err < thresh).data.numpy():\n",
    "            break\n",
    "            \n",
    "    \n",
    "    # Cost computatiom\n",
    "    # ......................................................................\n",
    "    F, G = f, g\n",
    "    # Transport plan P_{ij} = a_i b_j exp (- C_{ij}+f_i+g_j )/\\epsilon\n",
    "    P = torch.exp(torch.log(a.unsqueeze(-1))+ torch.log(b.unsqueeze(-2)) + M(F, G))  \n",
    "    # Sinkhorn cost\n",
    "    cost = torch.sum(P * C)  \n",
    "\n",
    "    return cost\n",
    "\n"
   ]
  },
  {
   "cell_type": "code",
   "execution_count": 82,
   "metadata": {},
   "outputs": [],
   "source": [
    "class My_loss(_Loss):\n",
    "    def __init__(self): \n",
    "        super(My_loss, self).__init__()\n",
    "        self.epsilon = 0.001\n",
    "        self.niter = 1000\n",
    " \n",
    "    def forward(self, output, target):\n",
    "        computed_loss = sinkhorn_loss(output, target, self.epsilon, self.niter)\n",
    "        return computed_loss"
   ]
  },
  {
   "cell_type": "code",
   "execution_count": 83,
   "metadata": {},
   "outputs": [],
   "source": [
    "loss_fn = My_loss()"
   ]
  },
  {
   "cell_type": "code",
   "execution_count": 84,
   "metadata": {},
   "outputs": [
    {
     "data": {
      "text/plain": [
       "[<matplotlib.lines.Line2D at 0x7f6c16b42630>]"
      ]
     },
     "execution_count": 84,
     "metadata": {},
     "output_type": "execute_result"
    },
    {
     "data": {
      "image/png": "[encoded data removed]",
      "text/plain": [
       "<Figure size 432x288 with 1 Axes>"
      ]
     },
     "metadata": {
      "needs_background": "light"
     },
     "output_type": "display_data"
    }
   ],
   "source": [
    "tt = np.linspace(0,1,50)\n",
    "a = np.exp(-(tt-0.5)**2/0.01)\n",
    "a = a/np.linalg.norm(a)\n",
    "b = np.exp(-(tt-0.4)**2/0.01)\n",
    "b = b/np.linalg.norm(b)\n",
    "plt.plot(tt,a)\n",
    "plt.plot(tt,b)"
   ]
  },
  {
   "cell_type": "code",
   "execution_count": 85,
   "metadata": {},
   "outputs": [
    {
     "name": "stdout",
     "output_type": "stream",
     "text": [
      "tensor([[0.0000e+00, 4.1649e-04, 1.6660e-03,  ..., 9.2003e-01, 9.5960e-01,\n",
      "         1.0000e+00],\n",
      "        [4.1649e-04, 0.0000e+00, 4.1649e-04,  ..., 8.8130e-01, 9.2003e-01,\n",
      "         9.5960e-01],\n",
      "        [1.6660e-03, 4.1649e-04, 0.0000e+00,  ..., 8.4340e-01, 8.8130e-01,\n",
      "         9.2003e-01],\n",
      "        ...,\n",
      "        [9.2003e-01, 8.8130e-01, 8.4340e-01,  ..., 0.0000e+00, 4.1649e-04,\n",
      "         1.6660e-03],\n",
      "        [9.5960e-01, 9.2003e-01, 8.8130e-01,  ..., 4.1649e-04, 0.0000e+00,\n",
      "         4.1649e-04],\n",
      "        [1.0000e+00, 9.5960e-01, 9.2003e-01,  ..., 1.6660e-03, 4.1649e-04,\n",
      "         0.0000e+00]], dtype=torch.float64)\n"
     ]
    },
    {
     "data": {
      "text/plain": [
       "tensor(inf, dtype=torch.float64)"
      ]
     },
     "execution_count": 85,
     "metadata": {},
     "output_type": "execute_result"
    }
   ],
   "source": [
    "loss_fn(torch.FloatTensor(a),torch.FloatTensor(b))"
   ]
  },
  {
   "cell_type": "code",
   "execution_count": null,
   "metadata": {},
   "outputs": [],
   "source": []
  },
  {
   "cell_type": "code",
   "execution_count": null,
   "metadata": {},
   "outputs": [],
   "source": []
  }
 ],
 "metadata": {
  "kernelspec": {
   "display_name": "Python 3",
   "language": "python",
   "name": "python3"
  },
  "language_info": {
   "codemirror_mode": {
    "name": "ipython",
    "version": 3
   },
   "file_extension": ".py",
   "mimetype": "text/x-python",
   "name": "python",
   "nbconvert_exporter": "python",
   "pygments_lexer": "ipython3",
   "version": "3.6.9"
  }
 },
 "nbformat": 4,
 "nbformat_minor": 4
}
