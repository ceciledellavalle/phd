{
 "cells": [
  {
   "cell_type": "code",
   "execution_count": 2,
   "metadata": {},
   "outputs": [],
   "source": [
    "# importation\n",
    "import numpy as np\n",
    "from torch.autograd import Variable\n",
    "import torch\n",
    "import matplotlib.pyplot as plt\n",
    "%matplotlib inline\n",
    "# local\n",
    "from FBResNet.myfunc import Physics"
   ]
  },
  {
   "cell_type": "code",
   "execution_count": 5,
   "metadata": {},
   "outputs": [],
   "source": [
    "# Gaussienne \n",
    "nx    = 2000\n",
    "t     = np.linspace(0,1,nx)\n",
    "gauss = np.exp((t-0.5)**2/(0.1)**(2))\n",
    "gauss = np.sqrt(nx)*gauss/np.linalg.norm(gauss)"
   ]
  },
  {
   "cell_type": "code",
   "execution_count": null,
   "metadata": {},
   "outputs": [],
   "source": [
    "### KALMAN FILTER #################################################################################\n",
    "\n",
    "def Kalman_filter(y,nx,std_dev):\n",
    "    \"\"\" Comnpute nx steps of Kalman filter \n",
    "    to reconstruct the initial condition :\n",
    "    obs        -- real measurement (eventually noisy) (1 x nx)\n",
    "    std_dev    -- standart deviation\n",
    "    \"\"\"\n",
    "    ### INITIALISATION\n",
    "    # Construction of the observer (equal zero for the initial condition taken as parameter)\n",
    "    # Moment a = 0\n",
    "    op_1 = 1/nx*np.ones(nx)\n",
    "    # Moment a = 1/2\n",
    "    op_05 = 1/nx*np.sqrt(1-np.linspace(1,nx,nx))\n",
    "    #\n",
    "    obs_kalman = np.vstack((operator_moment_1, np.zeros(NX)).reshape(1,2*nx)\n",
    "\n",
    "    # Construction of the new dynamic (identity for the initial condition)\n",
    "    flow = np.diag(np.ones(NX-1),1)\n",
    "    flow_kalman = np.concatenate((\\\n",
    "                np.concatenate((flow,np.zeros((nx,nx))),axis=1),\\\n",
    "                np.concatenate((np.zeros((nx,nx)),np.eye(nx)),axis=1)))\n",
    "\n",
    "    # Construction of the norm of the two spaces\n",
    "    inv_norm_obs = (std_dev)**2*np.eye(1)\n",
    "\n",
    "\n",
    "    # Initialisation of the covariance matrix\n",
    "    cov_op_m = np.kron(np.ones((1,1)),np.eye(nx))\n",
    "    cov_op_p = cov_op_m.copy()\n",
    "\n",
    "    # Initialisation of the state\n",
    "    state_diam = np.zeros(nx)\n",
    "    state_m = np.kron(np.ones(1),state_diam)\n",
    "    state_p = state_m.copy()\n",
    "    state_kalman = np.zeros((2*nx,nx))\n",
    "\n",
    "    ### KALMAN FILTER\n",
    "    for k in range(0,nx):\n",
    "        # Saving the solution\n",
    "        state_kalman[:,k] = state_m.copy()\n",
    "\n",
    "        ### CORRECTION\n",
    "        # Covariance computation +\n",
    "        interim_matrix = inv_norm_obs + obs_kalman.dot(cov_op_m).dot(obs_kalman.transpose())\n",
    "        kalman_gain = cov_op_m.dot(obs_kalman.transpose()).dot(np.linalg.inv(interim_matrix))\n",
    "\n",
    "        cov_opr_p = (np.eye(2*nx) - kalman_gain.dot(obs_kalman)).dot(cov_op_m)\\\n",
    "        .dot(np.transpose((np.eye(2*nx) - kalman_gain.dot(obs_kalman)))) \\\n",
    "        + kalman_gain.dot(inv_norm_obs).dot(np.transpose(kalman_gain))\n",
    "\n",
    "        # State correction computation +\n",
    "        state_p = state_m + kalman_gain\\\n",
    "        .dot(y[:,k]- np.dot(observer_kalman,state_m))\n",
    "\n",
    "        ### PREDICTION\n",
    "        # Covariance computation -\n",
    "        cov_op_m = flow_kalman.dot(cov_op_p).dot(flow_kalman.transpose())\n",
    "\n",
    "        # State prediction computation -\n",
    "        state_m = np.dot(flow_kalman,state_p)\n",
    "\n",
    "    return state_kalman[nx:,:]"
   ]
  }
 ],
 "metadata": {
  "kernelspec": {
   "display_name": "Python 3",
   "language": "python",
   "name": "python3"
  },
  "language_info": {
   "codemirror_mode": {
    "name": "ipython",
    "version": 3
   },
   "file_extension": ".py",
   "mimetype": "text/x-python",
   "name": "python",
   "nbconvert_exporter": "python",
   "pygments_lexer": "ipython3",
   "version": "3.9.1"
  }
 },
 "nbformat": 4,
 "nbformat_minor": 4
}
