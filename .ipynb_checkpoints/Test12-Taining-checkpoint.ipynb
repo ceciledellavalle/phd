{
 "cells": [
  {
   "cell_type": "markdown",
   "metadata": {},
   "source": [
    "# Training\n",
    "on entraine le réseau de neurones pour les hyperparamètres"
   ]
  },
  {
   "cell_type": "code",
   "execution_count": 1,
   "metadata": {},
   "outputs": [],
   "source": [
    "# importation\n",
    "import numpy as np\n",
    "import matplotlib.pyplot as plt\n",
    "import torch\n",
    "import torch.nn as nn\n",
    "import torch.nn.functional as F\n",
    "from torch.autograd import Variable\n",
    "from torch.utils.data import Dataset, TensorDataset\n",
    "from torch.utils.data import DataLoader\n",
    "from torch.utils.data.dataset import random_split\n",
    "import cv2 as cv\n",
    "import matplotlib.pyplot as plt\n",
    "import pandas as pd\n",
    "%matplotlib inline\n",
    "# local\n",
    "from MyResNet.myfunc import Physics\n",
    "from MyResNet.myfunc import MyMatmul\n",
    "from MyResNet.model import MyModel"
   ]
  },
  {
   "cell_type": "markdown",
   "metadata": {},
   "source": [
    "### Paramètres physiques"
   ]
  },
  {
   "cell_type": "code",
   "execution_count": 2,
   "metadata": {},
   "outputs": [],
   "source": [
    "a = 1\n",
    "p = 1\n",
    "nx = 200\n",
    "tensor_list = Physics(a,p,nx)\n",
    "Tt          = MyMatmul(tensor_list[1].T)\n",
    "mass        = 1\n",
    "U           = torch.FloatTensor(np.ones(nx))"
   ]
  },
  {
   "cell_type": "code",
   "execution_count": 3,
   "metadata": {},
   "outputs": [],
   "source": [
    "def CreateLoader(folder):\n",
    "    \"\"\"\n",
    "    According to the mode, creates the appropriate loader \n",
    "    for the training and validation sets.\n",
    "    \"\"\"\n",
    "    dfx     = pd.read_csv(folder+'/'+'data_lisse.csv', sep=',',header=None)\n",
    "    dfy     = pd.read_csv(folder+'/'+'data_blurred.csv', sep=',',header=None)\n",
    "    _,nx    = dfx.shape\n",
    "    #\n",
    "    x_tensor= torch.FloatTensor(dfx.values[:50]).view(-1,1,nx)\n",
    "    y_tensor= torch.FloatTensor(dfy.values[:50]).view(-1,1,nx)\n",
    "    #\n",
    "    dataset = TensorDataset(x_tensor, y_tensor)\n",
    "    l = len(dataset)\n",
    "    m = 2*l//3\n",
    "    train_dataset, val_dataset = random_split(dataset, [m, l-m])\n",
    "    #\n",
    "    train_loader = DataLoader(train_dataset, batch_size=5, shuffle=True)\n",
    "    val_loader   = DataLoader(val_dataset, batch_size=1, shuffle=False)\n",
    "    return train_loader, val_loader"
   ]
  },
  {
   "cell_type": "code",
   "execution_count": 4,
   "metadata": {},
   "outputs": [],
   "source": [
    "folder = './MyResNet/Dataset'\n",
    "t, v = CreateLoader(folder)"
   ]
  },
  {
   "cell_type": "markdown",
   "metadata": {},
   "source": [
    "### Model"
   ]
  },
  {
   "cell_type": "code",
   "execution_count": 5,
   "metadata": {},
   "outputs": [],
   "source": [
    "mymodel = MyModel(tensor_list,mass,U,20)"
   ]
  },
  {
   "cell_type": "code",
   "execution_count": 6,
   "metadata": {},
   "outputs": [],
   "source": [
    "loss_fn = nn.MSELoss(reduction='mean')"
   ]
  },
  {
   "cell_type": "markdown",
   "metadata": {},
   "source": [
    "### Training"
   ]
  },
  {
   "cell_type": "code",
   "execution_count": 7,
   "metadata": {},
   "outputs": [],
   "source": [
    "def train(model,nb_epochs):\n",
    "    \"\"\"\n",
    "    Trains iRestNet.\n",
    "    \"\"\"      \n",
    "    # to store results\n",
    "    loss_epochs  =  np.zeros(nb_epochs)\n",
    "    loss_train   =  np.zeros(nb_epochs)\n",
    "    loss_val     =  np.zeros(nb_epochs)\n",
    "    loss_min_val =  float('Inf')\n",
    "    # defines the optimizer\n",
    "    lr_i        = 0.01\n",
    "    optimizer = torch.optim.Adam(filter(lambda p: p.requires_grad,model.parameters()),lr=lr_i)\n",
    "\n",
    "    #==========================================================================================================\n",
    "    # trains for several epochs\n",
    "    for epoch in range(0,self.nb_epochs[0]): \n",
    "        # sets training mode\n",
    "        model.train()\n",
    "        # modifies learning rate\n",
    "        if epoch>0:\n",
    "            lr_i      = lr_i*0.9 \n",
    "            optimizer = torch.optim.Adam(filter(lambda p: p.requires_grad,self.parameters()), lr=lr_i)\n",
    "        # goes through all minibatches\n",
    "        for i,minibatch in enumerate(t):\n",
    "            [x_true, x_blurred] = minibatch    # get the minibatch\n",
    "            x_true    = Variable(x_true.type(self.dtype),requires_grad=False)\n",
    "            x_init    = Variable(x_blurred.type(self.dtype),requires_grad=False)\n",
    "            # ATTENTION : on ne calcule pas le gradient en fonction de la deuxième sortie (à réfléchir)\n",
    "            Ttx_init  = Tt(x_init).detach()     # do not compute gradient\n",
    "            x_pred    = self.model(x_init,Ttx_init,self.mode) \n",
    "                    \n",
    "            # Computes and prints loss\n",
    "            loss                = loss_fun(x_pred, x_true)\n",
    "            loss_epochs[epoch] += torch.Tensor.item(loss)\n",
    "                    \n",
    "            # sets the gradients to zero, performs a backward pass, and updates the weights.\n",
    "            optimizer.zero_grad()\n",
    "            loss.backward()\n",
    "            optimizer.step()\n",
    "                \n",
    "            \n",
    "        #==========================================================================================================\n",
    "        # training is finished\n",
    "        print('-----------------------------------------------------------------')\n",
    "        print('Training is done.')\n",
    "        print('-----------------------------------------------------------------')\n",
    "\n",
    "    "
   ]
  },
  {
   "cell_type": "code",
   "execution_count": 8,
   "metadata": {},
   "outputs": [
    {
     "ename": "NameError",
     "evalue": "name 'self' is not defined",
     "output_type": "error",
     "traceback": [
      "\u001b[0;31m---------------------------------------------------------------------------\u001b[0m",
      "\u001b[0;31mNameError\u001b[0m                                 Traceback (most recent call last)",
      "\u001b[0;32m<ipython-input-8-0ce6dfa29d1f>\u001b[0m in \u001b[0;36m<module>\u001b[0;34m\u001b[0m\n\u001b[0;32m----> 1\u001b[0;31m \u001b[0mtrain\u001b[0m\u001b[0;34m(\u001b[0m\u001b[0mmymodel\u001b[0m\u001b[0;34m,\u001b[0m\u001b[0;36m20\u001b[0m\u001b[0;34m)\u001b[0m\u001b[0;34m\u001b[0m\u001b[0;34m\u001b[0m\u001b[0m\n\u001b[0m",
      "\u001b[0;32m<ipython-input-7-d01d569a0b4d>\u001b[0m in \u001b[0;36mtrain\u001b[0;34m(model, nb_epochs)\u001b[0m\n\u001b[1;32m     10\u001b[0m     \u001b[0;31m# defines the optimizer\u001b[0m\u001b[0;34m\u001b[0m\u001b[0;34m\u001b[0m\u001b[0;34m\u001b[0m\u001b[0m\n\u001b[1;32m     11\u001b[0m     \u001b[0mlr_i\u001b[0m        \u001b[0;34m=\u001b[0m \u001b[0;36m0.01\u001b[0m\u001b[0;34m\u001b[0m\u001b[0;34m\u001b[0m\u001b[0m\n\u001b[0;32m---> 12\u001b[0;31m     \u001b[0moptimizer\u001b[0m \u001b[0;34m=\u001b[0m \u001b[0mtorch\u001b[0m\u001b[0;34m.\u001b[0m\u001b[0moptim\u001b[0m\u001b[0;34m.\u001b[0m\u001b[0mAdam\u001b[0m\u001b[0;34m(\u001b[0m\u001b[0mfilter\u001b[0m\u001b[0;34m(\u001b[0m\u001b[0;32mlambda\u001b[0m \u001b[0mp\u001b[0m\u001b[0;34m:\u001b[0m \u001b[0mp\u001b[0m\u001b[0;34m.\u001b[0m\u001b[0mrequires_grad\u001b[0m\u001b[0;34m,\u001b[0m\u001b[0mself\u001b[0m\u001b[0;34m.\u001b[0m\u001b[0mparameters\u001b[0m\u001b[0;34m(\u001b[0m\u001b[0;34m)\u001b[0m\u001b[0;34m)\u001b[0m\u001b[0;34m,\u001b[0m\u001b[0mlr\u001b[0m\u001b[0;34m=\u001b[0m\u001b[0mlr_i\u001b[0m\u001b[0;34m)\u001b[0m\u001b[0;34m\u001b[0m\u001b[0;34m\u001b[0m\u001b[0m\n\u001b[0m\u001b[1;32m     13\u001b[0m \u001b[0;34m\u001b[0m\u001b[0m\n\u001b[1;32m     14\u001b[0m     \u001b[0;31m#==========================================================================================================\u001b[0m\u001b[0;34m\u001b[0m\u001b[0;34m\u001b[0m\u001b[0;34m\u001b[0m\u001b[0m\n",
      "\u001b[0;31mNameError\u001b[0m: name 'self' is not defined"
     ]
    }
   ],
   "source": [
    "train(mymodel,20)"
   ]
  },
  {
   "cell_type": "code",
   "execution_count": null,
   "metadata": {},
   "outputs": [],
   "source": []
  }
 ],
 "metadata": {
  "kernelspec": {
   "display_name": "Python 3",
   "language": "python",
   "name": "python3"
  },
  "language_info": {
   "codemirror_mode": {
    "name": "ipython",
    "version": 3
   },
   "file_extension": ".py",
   "mimetype": "text/x-python",
   "name": "python",
   "nbconvert_exporter": "python",
   "pygments_lexer": "ipython3",
   "version": "3.6.9"
  }
 },
 "nbformat": 4,
 "nbformat_minor": 4
}
