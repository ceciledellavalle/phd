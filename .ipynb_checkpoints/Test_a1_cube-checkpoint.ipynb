{
 "cells": [
  {
   "cell_type": "markdown",
   "metadata": {},
   "source": [
    "# Calcul de la constante de Lifschitz sans entrainement"
   ]
  },
  {
   "cell_type": "code",
   "execution_count": 8,
   "metadata": {},
   "outputs": [],
   "source": [
    "# importation\n",
    "import numpy as np\n",
    "from torch.autograd import Variable\n",
    "import torch\n",
    "import matplotlib.pyplot as plt\n",
    "%matplotlib inline\n",
    "# local\n",
    "from FBResNet.myfunc import Physics\n",
    "from FBResNet.myfunc import MyMatmul\n",
    "from FBResNet.main import FBRestNet\n",
    "from FBResNet.model import MyModel\n",
    "from FBResNet.posttreat import Export_hyper"
   ]
  },
  {
   "cell_type": "markdown",
   "metadata": {},
   "source": [
    "### Parametres"
   ]
  },
  {
   "cell_type": "code",
   "execution_count": 9,
   "metadata": {},
   "outputs": [],
   "source": [
    "exp1 = FBRestNet(experimentation=Physics(2000,500,1,1), nb_blocks=20, noise = 0.1,\\\n",
    "                 folder = './', im_set=\"Set1\",batch_size=[600,1],\\\n",
    "                 lr=1e-3, nb_epochs=[30,1])"
   ]
  },
  {
   "cell_type": "markdown",
   "metadata": {},
   "source": [
    "### Data set\n",
    "On entraine sur 300 données et on évalue sur 100."
   ]
  },
  {
   "cell_type": "code",
   "execution_count": 10,
   "metadata": {},
   "outputs": [],
   "source": [
    "train_set, val_set = exp1.CreateDataSet()"
   ]
  },
  {
   "cell_type": "markdown",
   "metadata": {},
   "source": [
    "### Trainings\n",
    "Entrainement sur 20 époques, learning rate de $10^{-3}$.\n",
    "On trace la constante de Lipschitz au cours de l' entrainement."
   ]
  },
  {
   "cell_type": "code",
   "execution_count": 7,
   "metadata": {},
   "outputs": [
    {
     "name": "stdout",
     "output_type": "stream",
     "text": [
      "epoch :  0  -----  validation :  7.943260446716604e-05\n",
      "epoch :  1  -----  validation :  8.025704053707798e-05\n",
      "epoch :  2  -----  validation :  8.103680585150667e-05\n",
      "epoch :  3  -----  validation :  8.17469043882263e-05\n",
      "epoch :  4  -----  validation :  8.23973292499797e-05\n",
      "epoch :  5  -----  validation :  8.296301874810954e-05\n",
      "epoch :  6  -----  validation :  8.352129731321299e-05\n"
     ]
    },
    {
     "ename": "KeyboardInterrupt",
     "evalue": "",
     "output_type": "error",
     "traceback": [
      "\u001b[0;31m---------------------------------------------------------------------------\u001b[0m",
      "\u001b[0;31mKeyboardInterrupt\u001b[0m                         Traceback (most recent call last)",
      "\u001b[0;32m<ipython-input-7-0566cbe2d7b7>\u001b[0m in \u001b[0;36m<module>\u001b[0;34m\u001b[0m\n\u001b[0;32m----> 1\u001b[0;31m \u001b[0mexp1\u001b[0m\u001b[0;34m.\u001b[0m\u001b[0mtrain\u001b[0m\u001b[0;34m(\u001b[0m\u001b[0mtrain_set\u001b[0m\u001b[0;34m,\u001b[0m\u001b[0mval_set\u001b[0m\u001b[0;34m,\u001b[0m\u001b[0msave_model\u001b[0m\u001b[0;34m=\u001b[0m\u001b[0;32mTrue\u001b[0m\u001b[0;34m)\u001b[0m\u001b[0;34m\u001b[0m\u001b[0;34m\u001b[0m\u001b[0m\n\u001b[0m",
      "\u001b[0;32m~/Documents/phd/FBResNet/main.py\u001b[0m in \u001b[0;36mtrain\u001b[0;34m(self, train_set, val_set, test_lipschitz, save_model)\u001b[0m\n\u001b[1;32m    263\u001b[0m                 \u001b[0;31m# Computes and prints loss\u001b[0m\u001b[0;34m\u001b[0m\u001b[0;34m\u001b[0m\u001b[0;34m\u001b[0m\u001b[0m\n\u001b[1;32m    264\u001b[0m                 \u001b[0mloss\u001b[0m               \u001b[0;34m=\u001b[0m \u001b[0mself\u001b[0m\u001b[0;34m.\u001b[0m\u001b[0mloss_fn\u001b[0m\u001b[0;34m(\u001b[0m\u001b[0mx_pred\u001b[0m\u001b[0;34m,\u001b[0m \u001b[0mx_true\u001b[0m\u001b[0;34m)\u001b[0m\u001b[0;34m\u001b[0m\u001b[0;34m\u001b[0m\u001b[0m\n\u001b[0;32m--> 265\u001b[0;31m                 \u001b[0mloss_train\u001b[0m\u001b[0;34m[\u001b[0m\u001b[0mepoch\u001b[0m\u001b[0;34m]\u001b[0m \u001b[0;34m+=\u001b[0m \u001b[0mtorch\u001b[0m\u001b[0;34m.\u001b[0m\u001b[0mTensor\u001b[0m\u001b[0;34m.\u001b[0m\u001b[0mitem\u001b[0m\u001b[0;34m(\u001b[0m\u001b[0mloss\u001b[0m\u001b[0;34m)\u001b[0m\u001b[0;34m\u001b[0m\u001b[0;34m\u001b[0m\u001b[0m\n\u001b[0m\u001b[1;32m    266\u001b[0m \u001b[0;34m\u001b[0m\u001b[0m\n\u001b[1;32m    267\u001b[0m                 \u001b[0;31m# sets the gradients to zero, performs a backward pass, and updates the weights.\u001b[0m\u001b[0;34m\u001b[0m\u001b[0;34m\u001b[0m\u001b[0;34m\u001b[0m\u001b[0m\n",
      "\u001b[0;31mKeyboardInterrupt\u001b[0m: "
     ]
    }
   ],
   "source": [
    "#exp1.train(train_set,val_set,save_model=True)"
   ]
  },
  {
   "cell_type": "markdown",
   "metadata": {},
   "source": [
    "### Affichage de résultats"
   ]
  },
  {
   "cell_type": "code",
   "execution_count": null,
   "metadata": {},
   "outputs": [],
   "source": [
    "l_i, l_t, l_p = exp1.test(val_set)"
   ]
  },
  {
   "cell_type": "markdown",
   "metadata": {},
   "source": [
    "### Affichage paramètres"
   ]
  },
  {
   "cell_type": "code",
   "execution_count": null,
   "metadata": {},
   "outputs": [],
   "source": [
    "gamma =np.zeros(20)\n",
    "reg   =np.zeros(20)\n",
    "mu    =np.zeros(20)\n",
    "for i in range(0,len(exp1.model.Layers)):\n",
    "    gamma[i] = exp1.model.Layers[i].gamma_reg[0]\n",
    "    reg[i]   = exp1.model.Layers[i].gamma_reg[1]\n",
    "    mu[i]    = exp1.model.Layers[i].mu[0]"
   ]
  },
  {
   "cell_type": "code",
   "execution_count": null,
   "metadata": {},
   "outputs": [],
   "source": [
    "k = np.linspace(1,20,20)"
   ]
  },
  {
   "cell_type": "code",
   "execution_count": null,
   "metadata": {},
   "outputs": [],
   "source": [
    "plt.plot(k,gamma)"
   ]
  },
  {
   "cell_type": "code",
   "execution_count": null,
   "metadata": {},
   "outputs": [],
   "source": [
    "plt.plot(k,reg)"
   ]
  },
  {
   "cell_type": "code",
   "execution_count": null,
   "metadata": {},
   "outputs": [],
   "source": [
    "plt.plot(k,mu)"
   ]
  },
  {
   "cell_type": "code",
   "execution_count": null,
   "metadata": {},
   "outputs": [],
   "source": [
    "# Gaussienne \n",
    "exp   = Physics(2000,50,1,1)\n",
    "t     = np.linspace(0,1,2000)\n",
    "gauss = np.exp((t-0.5)**2/(0.1)**(2))\n",
    "gauss = np.sqrt(2000)*gauss/np.linalg.norm(gauss)\n",
    "noise = 0.1*np.random.randn(2000)\n",
    "x_b   = exp.ComputeAdjoint(exp.Compute(gauss)+noise).reshape(1,1,50)\n",
    "# passage float tensor\n",
    "x_bias    = Variable(torch.FloatTensor(x_b),requires_grad=False)\n",
    "# definition of the initialisation tensor\n",
    "x_init   = torch.zeros(x_bias.size())\n",
    "tDD      = MyMatmul(exp1.physics.Operators()[0])\n",
    "x_init[:,:,:25] = tDD(x_bias)[:,:,:25]\n",
    "x_init   = Variable(x_init,requires_grad=False)"
   ]
  },
  {
   "cell_type": "code",
   "execution_count": null,
   "metadata": {},
   "outputs": [],
   "source": [
    "folder = './Redaction/data'\n",
    "Export_hyper(exp1,x_init,x_b,folder)"
   ]
  },
  {
   "cell_type": "markdown",
   "metadata": {},
   "source": [
    "### REG Parameter"
   ]
  },
  {
   "cell_type": "code",
   "execution_count": null,
   "metadata": {},
   "outputs": [],
   "source": [
    "from torch.autograd import Variable\n",
    "minibatch = iter(val_set)\n",
    "[y, x] = next(minibatch)            # gets the minibatch\n",
    "x_true = Variable(x,requires_grad=False)\n",
    "x_bias = Variable(y,requires_grad=False)"
   ]
  },
  {
   "cell_type": "code",
   "execution_count": null,
   "metadata": {},
   "outputs": [],
   "source": [
    "from FBResNet.model import Cnn_reg"
   ]
  },
  {
   "cell_type": "code",
   "execution_count": null,
   "metadata": {},
   "outputs": [],
   "source": [
    "exp=Physics(2000,50,1,1)\n",
    "mycnn = Cnn_reg(exp)"
   ]
  },
  {
   "cell_type": "code",
   "execution_count": null,
   "metadata": {},
   "outputs": [],
   "source": [
    "mycnn(x_bias)"
   ]
  },
  {
   "cell_type": "markdown",
   "metadata": {},
   "source": [
    "### Test with gaussian"
   ]
  },
  {
   "cell_type": "code",
   "execution_count": 11,
   "metadata": {},
   "outputs": [
    {
     "data": {
      "image/png": "[encoded data removed]",
      "text/plain": [
       "<Figure size 432x288 with 1 Axes>"
      ]
     },
     "metadata": {
      "needs_background": "light"
     },
     "output_type": "display_data"
    },
    {
     "data": {
      "image/png": "[encoded data removed]",
      "text/plain": [
       "<Figure size 432x288 with 1 Axes>"
      ]
     },
     "metadata": {
      "needs_background": "light"
     },
     "output_type": "display_data"
    }
   ],
   "source": [
    "exp1.test_gauss()"
   ]
  },
  {
   "cell_type": "code",
   "execution_count": 12,
   "metadata": {},
   "outputs": [
    {
     "ename": "NameError",
     "evalue": "name 'x_bias' is not defined",
     "output_type": "error",
     "traceback": [
      "\u001b[0;31m---------------------------------------------------------------------------\u001b[0m",
      "\u001b[0;31mNameError\u001b[0m                                 Traceback (most recent call last)",
      "\u001b[0;32m<ipython-input-12-d3833b1107f1>\u001b[0m in \u001b[0;36m<module>\u001b[0;34m\u001b[0m\n\u001b[0;32m----> 1\u001b[0;31m \u001b[0mx_bias\u001b[0m\u001b[0;34m.\u001b[0m\u001b[0mshape\u001b[0m\u001b[0;34m\u001b[0m\u001b[0;34m\u001b[0m\u001b[0m\n\u001b[0m",
      "\u001b[0;31mNameError\u001b[0m: name 'x_bias' is not defined"
     ]
    }
   ],
   "source": [
    "x_bias.shape"
   ]
  },
  {
   "cell_type": "code",
   "execution_count": null,
   "metadata": {},
   "outputs": [],
   "source": [
    "# Gaussienne \n",
    "nx    = exp1.physics.nx\n",
    "m     = exp1.physics.m\n",
    "t     = np.linspace(0,1,nx)\n",
    "gauss = np.exp((t-0.5)**2/(0.1)**(2))\n",
    "gauss = np.sqrt(nx)*gauss/np.linalg.norm(gauss)\n",
    "noise = 0.01*np.random.randn(nx)\n",
    "x_b   = exp1.physics.ComputeAdjoint(exp1.physics.Compute(gauss)+noise).reshape(1,1,m)\n",
    "print(\"x/xb =\",np.linalg.norm(x_b)/(1/np.sqrt(nx)*np.linalg.norm(gauss)))"
   ]
  },
  {
   "cell_type": "code",
   "execution_count": null,
   "metadata": {},
   "outputs": [],
   "source": [
    "def test_gauss(self):\n",
    "    # Gaussienne \n",
    "    nx    = self.physics.nx\n",
    "    m     = self.physics.m\n",
    "    t     = np.linspace(0,1,nx)\n",
    "    gauss = np.exp(-(t-0.5)**2/(0.1)**(2))\n",
    "    #gauss = np.sqrt(nx)*gauss/np.linalg.norm(gauss)\n",
    "    gauss = gauss/np.amax(gauss)\n",
    "    # export\n",
    "    Export_Data(t,gauss,'./Redaction/data','gauss')\n",
    "    #\n",
    "    noise = 0.01*np.random.randn(nx)\n",
    "    x_b   = self.physics.ComputeAdjoint(self.physics.Compute(gauss)+noise)\n",
    "    plt.plot(self.physics.Compute(gauss)+noise)\n",
    "    plt.show()\n",
    "    # passage float tensor\n",
    "    x_bias    = Variable(torch.FloatTensor(x_b.reshape(1,1,-1)),requires_grad=False)\n",
    "    # definition of the initialisation tensor\n",
    "    x_init   = torch.zeros(x_bias.shape)\n",
    "    tTTinv   = MyMatmul(np.diag(self.physics.eigm**(2*self.physics.a)))\n",
    "    print(x_init.shape)\n",
    "    print(x_bias.shape)\n",
    "    print(tTTinv(x_bias).shape)\n",
    "    x_init[:,:,:30] = tTTinv(x_bias)[:,:,:30] # filtration of high frequences\n",
    "    x_init   = Variable(x_init.reshape(1,1,-1),requires_grad=False)\n",
    "    # prediction\n",
    "    x_pred   = self.model(x_init,x_bias)\n",
    "    xpc      = x_pred.detach().numpy()[0,0,:]\n",
    "    xp       = self.physics.BasisChangeInv(xpc)\n",
    "    print(t.shape)\n",
    "    # export\n",
    "    Export_Data(t,xp,'./Redaction/data','gauss_pred_a{}_'.format(self.physics.a)+self.constr)\n",
    "    # plot\n",
    "    plt.plot(t,gauss)\n",
    "    plt.plot(t,xp)\n",
    "    #\n",
    "    print(\"x/xb =\",np.linalg.norm(x_b)/(1/np.sqrt(nx)*np.linalg.norm(gauss)))"
   ]
  },
  {
   "cell_type": "code",
   "execution_count": 13,
   "metadata": {},
   "outputs": [
    {
     "ename": "NameError",
     "evalue": "name 'test_gauss' is not defined",
     "output_type": "error",
     "traceback": [
      "\u001b[0;31m---------------------------------------------------------------------------\u001b[0m",
      "\u001b[0;31mNameError\u001b[0m                                 Traceback (most recent call last)",
      "\u001b[0;32m<ipython-input-13-1f0f9fbaa49e>\u001b[0m in \u001b[0;36m<module>\u001b[0;34m\u001b[0m\n\u001b[1;32m      1\u001b[0m \u001b[0;32mfrom\u001b[0m \u001b[0mFBResNet\u001b[0m\u001b[0;34m.\u001b[0m\u001b[0mposttreat\u001b[0m \u001b[0;32mimport\u001b[0m \u001b[0mExport_Data\u001b[0m\u001b[0;34m\u001b[0m\u001b[0;34m\u001b[0m\u001b[0m\n\u001b[0;32m----> 2\u001b[0;31m \u001b[0mtest_gauss\u001b[0m\u001b[0;34m(\u001b[0m\u001b[0mexp1\u001b[0m\u001b[0;34m)\u001b[0m\u001b[0;34m\u001b[0m\u001b[0;34m\u001b[0m\u001b[0m\n\u001b[0m",
      "\u001b[0;31mNameError\u001b[0m: name 'test_gauss' is not defined"
     ]
    }
   ],
   "source": [
    "from FBResNet.posttreat import Export_Data\n",
    "test_gauss(exp1)"
   ]
  },
  {
   "cell_type": "code",
   "execution_count": 14,
   "metadata": {},
   "outputs": [
    {
     "data": {
      "text/plain": [
       "0.049292317194403745"
      ]
     },
     "execution_count": 14,
     "metadata": {},
     "output_type": "execute_result"
    }
   ],
   "source": [
    "exp1.model.Lipschitz(opt1=\"semi\",opt2=\"entree11\")"
   ]
  },
  {
   "cell_type": "code",
   "execution_count": 15,
   "metadata": {},
   "outputs": [
    {
     "data": {
      "text/plain": [
       "2.824654153318768e-05"
      ]
     },
     "execution_count": 15,
     "metadata": {},
     "output_type": "execute_result"
    }
   ],
   "source": [
    "exp1.model.Lipschitz(opt1=\"semi\",opt2=\"entree01\")"
   ]
  },
  {
   "cell_type": "code",
   "execution_count": null,
   "metadata": {},
   "outputs": [],
   "source": []
  }
 ],
 "metadata": {
  "kernelspec": {
   "display_name": "Python 3",
   "language": "python",
   "name": "python3"
  },
  "language_info": {
   "codemirror_mode": {
    "name": "ipython",
    "version": 3
   },
   "file_extension": ".py",
   "mimetype": "text/x-python",
   "name": "python",
   "nbconvert_exporter": "python",
   "pygments_lexer": "ipython3",
   "version": "3.9.1"
  }
 },
 "nbformat": 4,
 "nbformat_minor": 4
}
