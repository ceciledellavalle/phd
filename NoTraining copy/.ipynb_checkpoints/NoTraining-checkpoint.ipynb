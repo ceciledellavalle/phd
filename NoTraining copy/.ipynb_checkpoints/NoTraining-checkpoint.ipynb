{
 "cells": [
  {
   "cell_type": "markdown",
   "metadata": {},
   "source": [
    "# Calcul de la constante de Lifschitz sans entrainement\n",
    "Ici on considère le modèle Forward-backward-ResNet sans entrainement.\n",
    "Dans la class du modèle, le module \"Lipschitz\" calcule la constante de Lipschitz d'un reseau selon la méthode choisie (pour l'entrée 1 ou 2, avec une erreur sur le biais, etc.).\n",
    "On vérifie d' abord que l' algorithme converge sans entrainement.\n",
    "Puis on calcule sa constante de Lipschitz théorique et on compare le resultats avec deux entrées proches à une perturbation près (pas trop irrégulière)."
   ]
  },
  {
   "cell_type": "code",
   "execution_count": 1,
   "metadata": {},
   "outputs": [
    {
     "ename": "ModuleNotFoundError",
     "evalue": "No module named 'FBResNet.pretreat'",
     "output_type": "error",
     "traceback": [
      "\u001b[0;31m---------------------------------------------------------------------------\u001b[0m",
      "\u001b[0;31mModuleNotFoundError\u001b[0m                       Traceback (most recent call last)",
      "\u001b[0;32m<ipython-input-1-d5a922ed0195>\u001b[0m in \u001b[0;36m<module>\u001b[0;34m\u001b[0m\n\u001b[1;32m      5\u001b[0m \u001b[0mget_ipython\u001b[0m\u001b[0;34m(\u001b[0m\u001b[0;34m)\u001b[0m\u001b[0;34m.\u001b[0m\u001b[0mrun_line_magic\u001b[0m\u001b[0;34m(\u001b[0m\u001b[0;34m'matplotlib'\u001b[0m\u001b[0;34m,\u001b[0m \u001b[0;34m'inline'\u001b[0m\u001b[0;34m)\u001b[0m\u001b[0;34m\u001b[0m\u001b[0;34m\u001b[0m\u001b[0m\n\u001b[1;32m      6\u001b[0m \u001b[0;31m# local\u001b[0m\u001b[0;34m\u001b[0m\u001b[0;34m\u001b[0m\u001b[0;34m\u001b[0m\u001b[0m\n\u001b[0;32m----> 7\u001b[0;31m \u001b[0;32mfrom\u001b[0m \u001b[0mFBResNet\u001b[0m\u001b[0;34m.\u001b[0m\u001b[0mpretreat\u001b[0m \u001b[0;32mimport\u001b[0m \u001b[0mLoadDataSet\u001b[0m\u001b[0;34m,\u001b[0m \u001b[0mCreateDataSet\u001b[0m\u001b[0;34m\u001b[0m\u001b[0;34m\u001b[0m\u001b[0m\n\u001b[0m\u001b[1;32m      8\u001b[0m \u001b[0;32mfrom\u001b[0m \u001b[0mFBResNet\u001b[0m\u001b[0;34m.\u001b[0m\u001b[0mmyfunc\u001b[0m \u001b[0;32mimport\u001b[0m \u001b[0mPhysics\u001b[0m\u001b[0;34m\u001b[0m\u001b[0;34m\u001b[0m\u001b[0m\n\u001b[1;32m      9\u001b[0m \u001b[0;32mfrom\u001b[0m \u001b[0mFBResNet\u001b[0m\u001b[0;34m.\u001b[0m\u001b[0mmyfunc\u001b[0m \u001b[0;32mimport\u001b[0m \u001b[0mMyMatmul\u001b[0m\u001b[0;34m\u001b[0m\u001b[0;34m\u001b[0m\u001b[0m\n",
      "\u001b[0;31mModuleNotFoundError\u001b[0m: No module named 'FBResNet.pretreat'"
     ]
    }
   ],
   "source": [
    "# importation\n",
    "import numpy as np\n",
    "import matplotlib.pyplot as plt\n",
    "import torch\n",
    "%matplotlib inline\n",
    "# local\n",
    "from FBResNet.myfunc import Physics\n",
    "from FBResNet.myfunc import MyMatmul\n",
    "from FBResNet.model import MyModel"
   ]
  },
  {
   "cell_type": "markdown",
   "metadata": {},
   "source": [
    "### Paramtères"
   ]
  },
  {
   "cell_type": "code",
   "execution_count": null,
   "metadata": {},
   "outputs": [],
   "source": [
    "a   = 1\n",
    "p   = 1\n",
    "nx  = 2000\n",
    "m   = 50\n",
    "sim = Physics(nx,m,a,p)"
   ]
  },
  {
   "cell_type": "code",
   "execution_count": null,
   "metadata": {},
   "outputs": [],
   "source": [
    "folder  = './Datasets'\n",
    "nsample = 50\n",
    "nLayers = 20"
   ]
  },
  {
   "cell_type": "markdown",
   "metadata": {},
   "source": [
    "### Fonction à reconstruire (gaussienne)"
   ]
  },
  {
   "cell_type": "code",
   "execution_count": null,
   "metadata": {},
   "outputs": [],
   "source": [
    "# Gaussian\n",
    "t   = np.linspace(0,1,nx)\n",
    "x   = np.exp(-(t-0.5)**2/0.01)\n",
    "xc  = sim.BasisChange(x)\n",
    "xi  = np.exp(-(t-0.6)**2/0.1)\n",
    "xic = sim.BasisChange(x)\n",
    "y   = sim.ComputeAdjoint(sim.Compute(x))\n",
    "y.shape"
   ]
  },
  {
   "cell_type": "code",
   "execution_count": null,
   "metadata": {},
   "outputs": [],
   "source": [
    "plt.plot(t,x,label=\"gauss\")\n",
    "plt.plot(t,xi,label=\"x_init\")\n",
    "plt.title(\"Fonction gaussienne et fonction initiale du réseau\")\n",
    "plt.legend()"
   ]
  },
  {
   "cell_type": "markdown",
   "metadata": {},
   "source": [
    "### Descente de gradient"
   ]
  },
  {
   "cell_type": "code",
   "execution_count": null,
   "metadata": {},
   "outputs": [],
   "source": [
    "gamma = 0.05\n",
    "xky = y.copy()\n",
    "xkc = xic.copy()\n",
    "tDD, tTT, Peig, Pelt = sim.Operators()\n",
    "y2  = tTT.dot(sim.BasisChange(x))\n",
    "for _ in range(nLayers):\n",
    "    xky = xky-gamma*(tTT.dot(xky)-y2)\n",
    "    xkc = xkc-gamma*(tTT.dot(xkc)-y2)"
   ]
  },
  {
   "cell_type": "markdown",
   "metadata": {},
   "source": [
    "### Modele non entrainé"
   ]
  },
  {
   "cell_type": "code",
   "execution_count": null,
   "metadata": {},
   "outputs": [],
   "source": [
    "mymodel = MyModel(sim,nL=nLayers)"
   ]
  },
  {
   "cell_type": "code",
   "execution_count": null,
   "metadata": {},
   "outputs": [],
   "source": [
    "xic= torch.FloatTensor(xic.reshape(1,1,-1)).detach() # x_init\n",
    "xb = torch.FloatTensor(y.reshape(1,1,-1)).detach()   # x_bias\n",
    "with torch.no_grad():\n",
    "    x01 = mymodel(xic,xb).detach()\n",
    "    x11 = mymodel(xb,xb).detach()"
   ]
  },
  {
   "cell_type": "markdown",
   "metadata": {},
   "source": [
    "#### Entrée différente du biais"
   ]
  },
  {
   "cell_type": "code",
   "execution_count": null,
   "metadata": {},
   "outputs": [],
   "source": [
    "plt.plot(t,sim.BasisChangeInv(sim.BasisChange(x)),label=\"gauss\")\n",
    "plt.plot(t,sim.BasisChangeInv(x01[0,0].numpy()),label=\"model\")\n",
    "plt.plot(t,sim.BasisChangeInv(xkc),label=\"cvg\")\n",
    "plt.plot(t,np.zeros(nx))\n",
    "plt.title(\"Comparaison du modèle et d'une descente de gradient\")\n",
    "plt.legend()"
   ]
  },
  {
   "cell_type": "markdown",
   "metadata": {},
   "source": [
    "#### Entrée égale au biais"
   ]
  },
  {
   "cell_type": "code",
   "execution_count": null,
   "metadata": {},
   "outputs": [],
   "source": [
    "plt.plot(t,sim.BasisChangeInv(sim.BasisChange(x)),label=\"gauss\")\n",
    "plt.plot(t,sim.BasisChangeInv(x11[0,0].numpy()),label=\"model\")\n",
    "plt.plot(t,sim.BasisChangeInv(xky),label=\"cvg\")\n",
    "plt.plot(t,np.zeros(nx))\n",
    "plt.title(\"Comparaison du modèle et d'une descente de gradient, x=x_b\")\n",
    "plt.legend()"
   ]
  },
  {
   "cell_type": "markdown",
   "metadata": {},
   "source": [
    "### Stabilité et constante de lipschitz"
   ]
  },
  {
   "cell_type": "markdown",
   "metadata": {},
   "source": [
    "#### Calcul de constante de lipschitz"
   ]
  },
  {
   "cell_type": "code",
   "execution_count": null,
   "metadata": {},
   "outputs": [],
   "source": [
    "# Semi norm, U1 = (1,1)\n",
    "mymodel.Lipschitz(opt1=\"semi\",opt2=\"entree11\")"
   ]
  },
  {
   "cell_type": "code",
   "execution_count": null,
   "metadata": {},
   "outputs": [],
   "source": [
    "# Virtual NN\n",
    "mymodel.Lipschitz(opt1=\"total\",opt2=\"entree01\")"
   ]
  },
  {
   "cell_type": "markdown",
   "metadata": {},
   "source": [
    "#### Ajout d' une perturbation"
   ]
  },
  {
   "cell_type": "code",
   "execution_count": null,
   "metadata": {},
   "outputs": [],
   "source": [
    "# Gaussian\n",
    "t      = np.linspace(0,1,nx)\n",
    "pert   = 0.1*np.exp(-(t-0.3)**2/0.7)\n",
    "x      = np.exp(-(t-0.5)**2/0.01)\n",
    "y      = sim.ComputeAdjoint(sim.Compute(x))\n",
    "y_pert = sim.ComputeAdjoint(sim.Compute(x+pert))"
   ]
  },
  {
   "cell_type": "code",
   "execution_count": null,
   "metadata": {},
   "outputs": [],
   "source": [
    "plt.plot(t,x,label=\"gauss\")\n",
    "plt.plot(t,x+pert,label=\"gauss+pert\")\n",
    "plt.title(\"Fonction gaussienne et fonction initiale du réseau\")\n",
    "plt.legend()"
   ]
  },
  {
   "cell_type": "code",
   "execution_count": null,
   "metadata": {},
   "outputs": [],
   "source": [
    "xi      = np.exp(-(t-0.6)**2/0.1)\n",
    "xic     = sim.BasisChange(x)\n",
    "xic     = torch.FloatTensor(xic.reshape(1,1,-1)).detach() # x_init\n",
    "xb      = torch.FloatTensor(y.reshape(1,1,-1)).detach()   # x_bias\n",
    "xb_pert = torch.FloatTensor(y_pert.reshape(1,1,-1)).detach()   # x_bias perturbé\n",
    "with torch.no_grad():\n",
    "    x01      = mymodel(xic,xb).detach()\n",
    "    x01_pert = mymodel(xic,xb_pert).detach()"
   ]
  },
  {
   "cell_type": "code",
   "execution_count": null,
   "metadata": {},
   "outputs": [],
   "source": [
    "Lip_est=np.linalg.norm((x01_pert-x01).numpy())/np.linalg.norm(y_pert-y)\n",
    "print(\"Constante de Lipschitz estimée =\",Lip_est)"
   ]
  }
 ],
 "metadata": {
  "kernelspec": {
   "display_name": "Python 3",
   "language": "python",
   "name": "python3"
  },
  "language_info": {
   "codemirror_mode": {
    "name": "ipython",
    "version": 3
   },
   "file_extension": ".py",
   "mimetype": "text/x-python",
   "name": "python",
   "nbconvert_exporter": "python",
   "pygments_lexer": "ipython3",
   "version": "3.9.1"
  }
 },
 "nbformat": 4,
 "nbformat_minor": 4
}
