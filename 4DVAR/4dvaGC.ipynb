{
 "cells": [
  {
   "cell_type": "code",
   "execution_count": 1,
   "metadata": {},
   "outputs": [],
   "source": [
    "# -*- coding : utf-8 -*-\n",
    "### IMPORTATION\n",
    "import numpy as np\n",
    "import matplotlib.pyplot as plt\n",
    "from scipy.optimize import minimize\n",
    "import math\n",
    "import sys"
   ]
  },
  {
   "cell_type": "markdown",
   "metadata": {},
   "source": [
    "# VARIATIONNAL APPROACH"
   ]
  },
  {
   "cell_type": "markdown",
   "metadata": {},
   "source": [
    " dynamic :\n",
    " $$\n",
    "\\begin{cases}\n",
    " \\displaystyle \\frac{\\partial y}{\\partial t}(x,t) - b \\frac{\\partial y} {\\partial x}(x,t) = 0, & (x,t) \\in (0,\\ell) \\times (0,T)  \\\\[0.1cm]\n",
    " y(x,0) = y_{0} (x)  \\\\\n",
    " y(L,t) = 0\n",
    "\\end{cases}\n",
    "$$"
   ]
  },
  {
   "cell_type": "markdown",
   "metadata": {},
   "source": [
    "observations : $$ \\mu ^k (t) = \\int_0^{\\infty} x^k y(x,t) \\mathrm{dx}$$\n",
    "\n"
   ]
  },
  {
   "cell_type": "code",
   "execution_count": 2,
   "metadata": {},
   "outputs": [],
   "source": [
    "class Foo():\n",
    "\n",
    "    def __init__(self):\n",
    "        ### PHYSICAL PARAMETERS\n",
    "        b = 0.2  # Depolymerisation speed\n",
    "        L = 1.0  # Domain size\n",
    "        T = 5.0  # Integration time\n",
    "\n",
    "        ### NUMERICAL PARAMETERS\n",
    "        self.NT = 50  # Number of time steps\n",
    "        self.NX = 50   # Initial number of grid points\n",
    "\n",
    "        ### OBSERVER - MOMENT OPERATOR\n",
    "        # First moment\n",
    "        operator_moment_1= L/self.NX*np.linspace(0, L, self.NX)\n",
    "        # Second moment\n",
    "        operator_moment_2= L/self.NX*np.square(np.linspace(0, L, self.NX))\n",
    "        # Concatenate\n",
    "        self.observer = np.vstack((operator_moment_1, operator_moment_2))\n",
    "        self.observer_transpose = np.transpose(self.observer)\n",
    "\n",
    "        ### DYNAMIC FLOW PHI\n",
    "        CFL = b*(T/self.NT)*(self.NX/L)\n",
    "        self.flow = np.eye(self.NX,self.NX) + CFL*(-np.eye(self.NX,self.NX) + np.diag(np.ones(self.NX-1),1))\n",
    "        self.flow_transpose = np.eye(self.NX,self.NX) + CFL*(-np.eye(self.NX,self.NX) + np.diag(np.ones(self.NX-1),-1))\n",
    "\n",
    "        ### INITIAL CONDITION\n",
    "        self.x = np.linspace(0.0,L,self.NX+1)\n",
    "        self.t = np.linspace(0.0,T,self.NT+1)\n",
    "        sigma = L/10\n",
    "        self.gaussienne = (sigma*np.sqrt(2*np.pi))**-1*np.exp(-(self.x-L/2)**2/(2*sigma**2)) # Gaussienne\n",
    "        self.gaussienne[self.NX] = 0\n",
    "\n",
    "        ### GRADIENT PARAMETER\n",
    "        self.iteration_max = 100\n",
    "        self.gamma = 10000000\n",
    "        self.alpha = 1\n",
    "\n",
    "        ### NORM\n",
    "        # Construction of the norm of the two spaces\n",
    "        self.norm_observation = T/self.NT*np.eye(2)\n",
    "        self.inv_norm_observation = 1/(T/self.NT)*np.eye(2)\n",
    "        self.norm_state = (L/self.NX)*np.eye(self.NX)\n",
    "        self.inv_norm_state = (self.NX/L)*np.eye(self.NX)\n"
   ]
  },
  {
   "cell_type": "markdown",
   "metadata": {},
   "source": [
    "The solution $y$ of the transport equation is discretized with the finite difference method. Therefore for each control point $(x_i)_{i \\in [0,N_X]}$, $y$ is approximated by the piecewise linear function on $[x_i,x_{i+1}]$ for all $i$ in $[0,N_X-1]$ of size $h$. \n",
    "Then, using a forward difference at time $t_n$ and $ \\delta t = t_{n+1}-t_n$ :\n",
    "\n",
    "$$ \\forall n \\in [0,N_T-1] \\quad \\forall i \\in [0,N_X-1] \\quad \\frac{y_{i}^{n+1}-y_{i}^n}{\\delta t} - b \\frac{y_{i+1}^n - y_{i}^n}{h} = 0 $$\n",
    "\n",
    "Then we defined the matrix of observation :\n",
    "\n",
    "$$ C =  \\left( \\begin{array}{cc}\n",
    "\th x_0       &  h x_0^2   \\\\\n",
    "\th x_1       &  h x_1^2   \\\\\n",
    "\t\\vdots      & \\vdots     \\\\\n",
    "\th x_{NX-1}  & h x_{NX-1}^2\n",
    "\t \\end{array} \\right). $$\n",
    "\n",
    "And starting with a gaussian initial condition we generate two moments."
   ]
  },
  {
   "cell_type": "code",
   "execution_count": 3,
   "metadata": {},
   "outputs": [],
   "source": [
    "def DataGeneration():\n",
    "\n",
    "    ### DOWNLOADING PARAMETERS\n",
    "    foo = Foo()\n",
    "\n",
    "    ### VECTOR INITIALISATION\n",
    "    state = np.zeros((foo.NX,foo.NT+1)) # Saving the solution of the transport equation\n",
    "    state[:,0] = foo.gaussienne[:-1].copy()\n",
    "    mu = np.zeros((2,foo.NT+1)) # First and second order moment\n",
    "\n",
    "    ### DIRECT COMPUTATION OF THE SOLUTION\n",
    "    for i in range(0,foo.NT):\n",
    "        # Calculation of the moment\n",
    "        mu[:,i] = np.dot(foo.observer,state[:,i])\n",
    "        # Dynamic computation\n",
    "        state[:,i+1] = np.dot(foo.flow,state[:,i]) \n",
    "\n",
    "    # Return observation vector\n",
    "    return mu\n",
    "\n"
   ]
  },
  {
   "cell_type": "code",
   "execution_count": 4,
   "metadata": {},
   "outputs": [
    {
     "name": "stderr",
     "output_type": "stream",
     "text": [
      "No handles with labels found to put in legend.\n"
     ]
    },
    {
     "data": {
      "image/png": "[encoded data removed]",
      "text/plain": [
       "<Figure size 432x288 with 2 Axes>"
      ]
     },
     "metadata": {
      "needs_background": "light"
     },
     "output_type": "display_data"
    }
   ],
   "source": [
    "### PLOTS\n",
    "foo = Foo()\n",
    "mu = DataGeneration()\n",
    "\n",
    "\n",
    "fig = plt.figure()\n",
    "mu1 = fig.add_subplot(121)\n",
    "mu2 = fig.add_subplot(122)\n",
    "\n",
    "mu1.plot(foo.t, mu[0,:])\n",
    "mu2.plot(foo.t, mu[1,:])\n",
    "\n",
    "plt.legend()\n",
    "plt.show()"
   ]
  },
  {
   "cell_type": "markdown",
   "metadata": {},
   "source": []
  },
  {
   "cell_type": "code",
   "execution_count": 5,
   "metadata": {},
   "outputs": [],
   "source": [
    "def CriterionJ(zeta):\n",
    "\n",
    "    ### DOWNLOADING PARAMETERS\n",
    "    foo = Foo()\n",
    "\n",
    "    ### DOWNLOADING OBSERVATIONS\n",
    "    mu = DataGeneration()\n",
    "\n",
    "    ### MATRIX COMPUTATION\n",
    "    # Computation of the Hessian A\n",
    "    A_quadratic = foo.alpha*foo.norm_state.copy()\n",
    "    A_inter = foo.gamma*foo.observer_transpose.dot(foo.norm_observation).dot(foo.observer)\n",
    "    A_quadratic += A_inter\n",
    "    for i in range(1,foo.NT+1):\n",
    "        A_inter = foo.flow_transpose.dot(A_inter).dot(foo.flow)\n",
    "        A_quadratic += A_inter\n",
    "\n",
    "    # Computation of b\n",
    "    # No a priori on the initial solution (equal to zero)\n",
    "    state_apriori = np.zeros((foo.NX,foo.NT+1))\n",
    "    b_linear = foo.gamma*foo.observer_transpose.dot(foo.norm_observation)\\\n",
    "    .dot(mu[:,0]- foo.observer.dot(state_apriori[:,0]))\n",
    "    for j in range(1,foo.NT+1):\n",
    "        state_apriori[:,j] = foo.flow.dot(state_apriori[:,j-1])\n",
    "        b_inter = foo.gamma*foo.observer_transpose.dot(foo.norm_observation)\\\n",
    "        .dot(mu[:,j]-foo.observer.dot(state_apriori[:,j]))\n",
    "        for k in range(1,j+1):\n",
    "            b_inter = foo.flow_transpose.dot(b_inter)\n",
    "        b_linear += b_inter\n",
    "\n",
    "    ### CRITERION COMPUTATION\n",
    "    # Computimg J = 1/2<Azeta,zeta> - <b,zeta> size 1,1\n",
    "    J = (1/2)*np.transpose(zeta).dot(A_quadratic).dot(zeta) \\\n",
    "    - np.transpose(b_linear).dot(zeta)\n",
    "\n",
    "    return J"
   ]
  },
  {
   "cell_type": "markdown",
   "metadata": {},
   "source": []
  },
  {
   "cell_type": "code",
   "execution_count": 6,
   "metadata": {},
   "outputs": [],
   "source": [
    "def CriterionGrad(zeta):\n",
    "\n",
    "    ### DOWNLOADING PARAMETERS\n",
    "    foo = Foo()\n",
    "\n",
    "    ### DOWNLOADING OBSERVATIONS\n",
    "    mu = DataGeneration()\n",
    "\n",
    "    ### MATRIX COMPUTATION\n",
    "    # Computation of the Hessian A\n",
    "    A_quadratic = foo.alpha*foo.norm_state.copy()\n",
    "    A_inter = foo.gamma*foo.observer_transpose.dot(foo.norm_observation).dot(foo.observer)\n",
    "    A_quadratic += A_inter\n",
    "    for i in range(1,foo.NT+1):\n",
    "        A_inter = foo.flow_transpose.dot(A_inter).dot(foo.flow)\n",
    "        A_quadratic += A_inter\n",
    "\n",
    "    # Computation of b\n",
    "    # No a priori on the initial solution (equal to zero)\n",
    "    state_apriori = np.zeros((foo.NX,foo.NT+1))\n",
    "    b_linear = foo.gamma*foo.observer_transpose.dot(foo.norm_observation)\\\n",
    "    .dot(mu[:,0]- foo.observer.dot(state_apriori[:,0]))\n",
    "    for j in range(1,foo.NT+1):\n",
    "        state_apriori[:,j] = foo.flow.dot(state_apriori[:,j-1])\n",
    "        b_inter = foo.gamma*foo.observer_transpose.dot(foo.norm_observation)\\\n",
    "        .dot(mu[:,j]-foo.observer.dot(state_apriori[:,j]))\n",
    "        for k in range(1,j+1):\n",
    "            b_inter = foo.flow_transpose.dot(b_inter)\n",
    "        b_linear += b_inter\n",
    "\n",
    "    ### CRITERION COMPUTATION\n",
    "    # Computimg GradJ = Azeta - b size 1,NX-1\n",
    "    GradJ = A_quadratic.dot(zeta) - b_linear\n",
    "\n",
    "    return GradJ"
   ]
  },
  {
   "cell_type": "markdown",
   "metadata": {},
   "source": []
  },
  {
   "cell_type": "code",
   "execution_count": 7,
   "metadata": {},
   "outputs": [],
   "source": [
    "def CriterionHess(zeta):\n",
    "\n",
    "    ### DOWNLOADING PARAMETERS\n",
    "    foo = Foo()\n",
    "\n",
    "    ### MATRIX COMPUTATION\n",
    "    # Computation of the Hessian A\n",
    "    A_quadratic = foo.alpha*foo.norm_state.copy()\n",
    "    A_inter = foo.gamma*foo.observer_transpose.dot(foo.norm_observation).dot(foo.observer)\n",
    "    A_quadratic += A_inter\n",
    "    for i in range(1,foo.NT+1):\n",
    "        A_inter = foo.flow_transpose.dot(A_inter).dot(foo.flow)\n",
    "        A_quadratic += A_inter\n",
    "\n",
    "    return A_quadratic"
   ]
  },
  {
   "cell_type": "markdown",
   "metadata": {},
   "source": [
    "## Newton algorithm (N-CG)"
   ]
  },
  {
   "cell_type": "code",
   "execution_count": 8,
   "metadata": {
    "scrolled": true
   },
   "outputs": [
    {
     "name": "stdout",
     "output_type": "stream",
     "text": [
      "Optimization terminated successfully.\n",
      "         Current function value: -1372222.256923\n",
      "         Iterations: 8\n",
      "         Function evaluations: 9\n",
      "         Gradient evaluations: 16\n",
      "         Hessian evaluations: 8\n"
     ]
    }
   ],
   "source": [
    "zeta0 = np.zeros(foo.NX)\n",
    "res = minimize(CriterionJ, zeta0, method='Newton-CG',\\\n",
    "               jac=CriterionGrad, hess=CriterionHess,\\\n",
    "               options = {'xtol': 0.01, 'disp': True} )\n"
   ]
  },
  {
   "cell_type": "code",
   "execution_count": 9,
   "metadata": {},
   "outputs": [
    {
     "data": {
      "image/png": "[encoded data removed]",
      "text/plain": [
       "<Figure size 432x288 with 1 Axes>"
      ]
     },
     "metadata": {
      "needs_background": "light"
     },
     "output_type": "display_data"
    }
   ],
   "source": [
    "plt.xlabel(u'$x$', fontsize=5)\n",
    "plt.ylabel(u'$y$', fontsize=5, rotation=0)\n",
    "plt.title(\"alpha/gamma = {0}, iteration = {1}\"\\\n",
    ".format(foo.alpha/foo.gamma, res.nit))\n",
    "p0 = plt.plot(foo.x, foo.gaussienne, label= \"condition initiale\")\n",
    "p1 = plt.plot(foo.x[:-1], res.x, label= \"estimateur 4dvar\")\n",
    "p2 = plt.plot(foo.x, np.zeros(foo.NX+1), label= \"a priori\")\n",
    "plt.legend()\n",
    "plt.show()"
   ]
  },
  {
   "cell_type": "markdown",
   "metadata": {},
   "source": [
    "## Broyden-Fletcher-Goldfarb-Shanno algorithm (BFGS)"
   ]
  },
  {
   "cell_type": "code",
   "execution_count": 10,
   "metadata": {},
   "outputs": [
    {
     "name": "stdout",
     "output_type": "stream",
     "text": [
      "Warning: Desired error not necessarily achieved due to precision loss.\n",
      "         Current function value: -1372222.257528\n",
      "         Iterations: 18\n",
      "         Function evaluations: 65\n",
      "         Gradient evaluations: 54\n"
     ]
    }
   ],
   "source": [
    "zeta0 = np.zeros(foo.NX)\n",
    "res = minimize(CriterionJ, zeta0, method='BFGS',\\\n",
    "               jac=CriterionGrad, options={'disp': True})"
   ]
  },
  {
   "cell_type": "code",
   "execution_count": 11,
   "metadata": {},
   "outputs": [
    {
     "data": {
      "image/png": "[encoded data removed]",
      "text/plain": [
       "<Figure size 432x288 with 1 Axes>"
      ]
     },
     "metadata": {
      "needs_background": "light"
     },
     "output_type": "display_data"
    }
   ],
   "source": [
    "plt.xlabel(u'$x$', fontsize=5)\n",
    "plt.ylabel(u'$y$', fontsize=5, rotation=0)\n",
    "plt.title(\"alpha/gamma = {0}, iteration = {1}\"\\\n",
    ".format(foo.alpha/foo.gamma, res.nit))\n",
    "p0 = plt.plot(foo.x, foo.gaussienne, label= \"condition initiale\")\n",
    "p1 = plt.plot(foo.x[:-1], res.x, label= \"estimateur 4dvar\")\n",
    "p2 = plt.plot(foo.x, np.zeros(foo.NX+1), label= \"a priori\")\n",
    "plt.legend()\n",
    "plt.show()"
   ]
  },
  {
   "cell_type": "markdown",
   "metadata": {},
   "source": [
    "## Trust-Region Newton-Conjugate-Gradient algorithm"
   ]
  },
  {
   "cell_type": "code",
   "execution_count": 12,
   "metadata": {},
   "outputs": [
    {
     "name": "stdout",
     "output_type": "stream",
     "text": [
      "Warning: A bad approximation caused failure to predict improvement.\n",
      "         Current function value: -1372222.257528\n",
      "         Iterations: 15\n",
      "         Function evaluations: 17\n",
      "         Gradient evaluations: 16\n",
      "         Hessian evaluations: 16\n"
     ]
    }
   ],
   "source": [
    "zeta0 = np.zeros(foo.NX)\n",
    "res = minimize(CriterionJ, zeta0, method='trust-ncg',\\\n",
    "                   jac=CriterionGrad, hess=CriterionHess,\\\n",
    "                   options={'gtol': 1e-8, 'disp': True})"
   ]
  },
  {
   "cell_type": "code",
   "execution_count": 13,
   "metadata": {},
   "outputs": [
    {
     "data": {
      "image/png": "[encoded data removed]",
      "text/plain": [
       "<Figure size 432x288 with 1 Axes>"
      ]
     },
     "metadata": {
      "needs_background": "light"
     },
     "output_type": "display_data"
    }
   ],
   "source": [
    "plt.xlabel(u'$x$', fontsize=5)\n",
    "plt.ylabel(u'$y$', fontsize=5, rotation=0)\n",
    "plt.title(\"alpha/gamma = {0}, iteration = {1}\"\\\n",
    ".format(foo.alpha/foo.gamma, res.nit))\n",
    "p0 = plt.plot(foo.x, foo.gaussienne, label= \"condition initiale\")\n",
    "p1 = plt.plot(foo.x[:-1], res.x, label= \"estimateur 4dvar\")\n",
    "p2 = plt.plot(foo.x, np.zeros(foo.NX+1), label= \"a priori\")\n",
    "plt.legend()\n",
    "plt.show()"
   ]
  },
  {
   "cell_type": "code",
   "execution_count": null,
   "metadata": {},
   "outputs": [],
   "source": []
  }
 ],
 "metadata": {
  "kernelspec": {
   "display_name": "Python 3",
   "language": "python",
   "name": "python3"
  },
  "language_info": {
   "codemirror_mode": {
    "name": "ipython",
    "version": 3
   },
   "file_extension": ".py",
   "mimetype": "text/x-python",
   "name": "python",
   "nbconvert_exporter": "python",
   "pygments_lexer": "ipython3",
   "version": "3.7.0"
  }
 },
 "nbformat": 4,
 "nbformat_minor": 2
}
