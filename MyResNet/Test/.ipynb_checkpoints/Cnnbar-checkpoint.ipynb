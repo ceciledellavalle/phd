{
 "cells": [
  {
   "cell_type": "markdown",
   "metadata": {},
   "source": [
    "# TEST Cnn_bar"
   ]
  },
  {
   "cell_type": "code",
   "execution_count": 3,
   "metadata": {},
   "outputs": [],
   "source": [
    "import os\n",
    "import matplotlib.pyplot as plt\n",
    "import torch\n",
    "from torch.autograd import Variable\n",
    "import torch.nn as nn\n",
    "import torch.nn.functional as F\n",
    "import numpy as np\n",
    "import scipy.io as sio\n",
    "import time"
   ]
  },
  {
   "cell_type": "markdown",
   "metadata": {},
   "source": [
    "## Cnn_bar module"
   ]
  },
  {
   "cell_type": "code",
   "execution_count": 4,
   "metadata": {},
   "outputs": [
    {
     "ename": "NameError",
     "evalue": "name 'nn' is not defined",
     "output_type": "error",
     "traceback": [
      "\u001b[0;31m---------------------------------------------------------------------------\u001b[0m",
      "\u001b[0;31mNameError\u001b[0m                                 Traceback (most recent call last)",
      "\u001b[0;32m<ipython-input-4-18e5acc6a628>\u001b[0m in \u001b[0;36m<module>\u001b[0;34m\u001b[0m\n\u001b[1;32m      1\u001b[0m \u001b[0;31m# Cnn_bar: to computing the barrier parameter\u001b[0m\u001b[0;34m\u001b[0m\u001b[0;34m\u001b[0m\u001b[0;34m\u001b[0m\u001b[0m\n\u001b[0;32m----> 2\u001b[0;31m \u001b[0;32mclass\u001b[0m \u001b[0mCnn_bar\u001b[0m\u001b[0;34m(\u001b[0m\u001b[0mnn\u001b[0m\u001b[0;34m.\u001b[0m\u001b[0mModule\u001b[0m\u001b[0;34m)\u001b[0m\u001b[0;34m:\u001b[0m\u001b[0;34m\u001b[0m\u001b[0;34m\u001b[0m\u001b[0m\n\u001b[0m\u001b[1;32m      3\u001b[0m     \"\"\"\n\u001b[1;32m      4\u001b[0m     \u001b[0mPredicts\u001b[0m \u001b[0mthe\u001b[0m \u001b[0mbarrier\u001b[0m \u001b[0mparameter\u001b[0m\u001b[0;34m.\u001b[0m\u001b[0;34m\u001b[0m\u001b[0;34m\u001b[0m\u001b[0m\n\u001b[1;32m      5\u001b[0m     \u001b[0mAttributes\u001b[0m\u001b[0;34m\u001b[0m\u001b[0;34m\u001b[0m\u001b[0m\n",
      "\u001b[0;31mNameError\u001b[0m: name 'nn' is not defined"
     ]
    }
   ],
   "source": [
    "# Cnn_bar: to computing the barrier parameter\n",
    "class Cnn_bar(nn.Module):\n",
    "    \"\"\"\n",
    "    Predicts the barrier parameter.\n",
    "    Attributes\n",
    "    ----------\n",
    "        conv2, conv3 (torch.nn.Conv1d): 1-D convolution layer\n",
    "        lin          (torch.nn.Linear): fully connected layer\n",
    "        avg       (torch.nn.AVgPool2d): average layer\n",
    "        soft       (torch.nn.Softplus): Softplus activation function\n",
    "    \"\"\"\n",
    "    def __init__(self,nx):\n",
    "        super(Cnn_bar, self).__init__()\n",
    "        # in_channels: int, out_channels: int, \n",
    "        # kernel_size: Union[T, Tuple[T]], \n",
    "        # stride: Union[T, Tuple[T]] = 1, \n",
    "        # padding: Union[T, Tuple[T]] = 0, \n",
    "        # dilation: Union[T, Tuple[T]] = 1,\n",
    "        # groups: int = 1, \n",
    "        # bias: bool = True, padding_mode: str = 'zeros\n",
    "        self.conv2  = nn.Conv1d(1, 1, 5,padding=2)\n",
    "        self.conv3  = nn.Conv1d(1, 1, 5,padding=2)\n",
    "        # What is the size of the output ?\n",
    "        self.lin    = nn.Linear(nx*1, 1)\n",
    "        self.avg    = nn.AvgPool2d(4, 4)\n",
    "        self.soft   = nn.Softplus()\n",
    "\n",
    "    def forward(self, x):\n",
    "        \"\"\"\n",
    "        Computes the barrier parameter.\n",
    "        Parameters\n",
    "        ----------\n",
    "      \t    x (torch.FloatTensor): images, size n*c*h*w \n",
    "        Returns\n",
    "        -------\n",
    "       \t    (torch.FloatTensor): barrier parameter, size n*1*1*1\n",
    "        \"\"\"\n",
    "        x = self.soft(self.avg(self.conv2(x)))\n",
    "        x = self.soft(self.avg(self.conv3(x)))\n",
    "        x = x.view(x.size(0), -1)\n",
    "        x = self.soft(self.lin(x))\n",
    "        x = x.view(x.size(0),-1,1,1)\n",
    "        return x\n"
   ]
  },
  {
   "cell_type": "code",
   "execution_count": null,
   "metadata": {},
   "outputs": [],
   "source": []
  }
 ],
 "metadata": {
  "kernelspec": {
   "display_name": "Python 3",
   "language": "python",
   "name": "python3"
  },
  "language_info": {
   "codemirror_mode": {
    "name": "ipython",
    "version": 3
   },
   "file_extension": ".py",
   "mimetype": "text/x-python",
   "name": "python",
   "nbconvert_exporter": "python",
   "pygments_lexer": "ipython3",
   "version": "3.6.9"
  }
 },
 "nbformat": 4,
 "nbformat_minor": 4
}
