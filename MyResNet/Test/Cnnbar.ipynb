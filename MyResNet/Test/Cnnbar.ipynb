{
 "cells": [
  {
   "cell_type": "markdown",
   "metadata": {},
   "source": [
    "# TEST Cnn_bar"
   ]
  },
  {
   "cell_type": "code",
   "execution_count": 1,
   "metadata": {},
   "outputs": [],
   "source": [
    "import os\n",
    "import matplotlib.pyplot as plt\n",
    "import torch\n",
    "from torch.autograd import Variable\n",
    "import torch.nn as nn\n",
    "import torch.nn.functional as F\n",
    "import numpy as np\n",
    "import scipy.io as sio\n",
    "import time"
   ]
  },
  {
   "cell_type": "markdown",
   "metadata": {},
   "source": [
    "## Cnn_bar module"
   ]
  },
  {
   "cell_type": "code",
   "execution_count": 17,
   "metadata": {},
   "outputs": [],
   "source": [
    "# Cnn_bar: to computing the barrier parameter\n",
    "class Cnn_bar(nn.Module):\n",
    "    \"\"\"\n",
    "    Predicts the barrier parameter.\n",
    "    Attributes\n",
    "    ----------\n",
    "        conv2, conv3 (torch.nn.Conv1d): 1-D convolution layer\n",
    "        lin          (torch.nn.Linear): fully connected layer\n",
    "        avg       (torch.nn.AVgPool2d): average layer\n",
    "        soft       (torch.nn.Softplus): Softplus activation function\n",
    "    \"\"\"\n",
    "    def __init__(self):\n",
    "        super(Cnn_bar, self).__init__()\n",
    "        # in_channels: int,\n",
    "        # out_channels: int, \n",
    "        # kernel_size: Union[T, Tuple[T]], \n",
    "        # stride: Union[T, Tuple[T]] = 1, \n",
    "        # padding: Union[T, Tuple[T]] = 0, \n",
    "        # dilation: Union[T, Tuple[T]] = 1,\n",
    "        # groups: int = 1, \n",
    "        # bias: bool = True, padding_mode: str = 'zeros\n",
    "        self.conv2  = nn.Conv1d(1, 1, 5,padding=2)\n",
    "        self.conv3  = nn.Conv1d(1, 1, 5,padding=2)\n",
    "        # What is the size of the output ?\n",
    "        self.lin    = nn.Linear(16*1, 1)\n",
    "        self.avg    = nn.AvgPool1d(4, 4)\n",
    "        self.soft   = nn.Softplus()\n",
    "\n",
    "    def forward(self, x):\n",
    "        \"\"\"\n",
    "        Computes the barrier parameter.\n",
    "        Parameters\n",
    "        ----------\n",
    "      \t    x (torch.FloatTensor): images, size n*c*h*w \n",
    "        Returns\n",
    "        -------\n",
    "       \t    (torch.FloatTensor): barrier parameter, size n*1*1*1\n",
    "        \"\"\"\n",
    "        x = self.soft(self.avg(self.conv2(x)))\n",
    "        x = self.soft(self.avg(self.conv3(x)))\n",
    "        x = x.view(x.size(1), -1)\n",
    "        x = self.soft(self.lin(x))\n",
    "        x = x.view(x.size(0),-1,1,1)\n",
    "        return x\n"
   ]
  },
  {
   "cell_type": "markdown",
   "metadata": {},
   "source": [
    "## Tensor and test"
   ]
  },
  {
   "cell_type": "code",
   "execution_count": 18,
   "metadata": {},
   "outputs": [
    {
     "data": {
      "text/plain": [
       "torch.Size([1, 1, 256])"
      ]
     },
     "execution_count": 18,
     "metadata": {},
     "output_type": "execute_result"
    }
   ],
   "source": [
    "batch_size = 1\n",
    "# [ batch_size , nb_channel =1, signal]\n",
    "x = np.arange(256).reshape(1,-1,256)\n",
    "xt = torch.FloatTensor(x)\n",
    "xt.shape"
   ]
  },
  {
   "cell_type": "code",
   "execution_count": 20,
   "metadata": {},
   "outputs": [],
   "source": [
    "cnn = Cnn_bar()"
   ]
  },
  {
   "cell_type": "code",
   "execution_count": 21,
   "metadata": {},
   "outputs": [
    {
     "data": {
      "text/plain": [
       "Cnn_bar(\n",
       "  (conv2): Conv1d(1, 1, kernel_size=(5,), stride=(1,), padding=(2,))\n",
       "  (conv3): Conv1d(1, 1, kernel_size=(5,), stride=(1,), padding=(2,))\n",
       "  (lin): Linear(in_features=16, out_features=1, bias=True)\n",
       "  (avg): AvgPool1d(kernel_size=(4,), stride=(4,), padding=(0,))\n",
       "  (soft): Softplus(beta=1, threshold=20)\n",
       ")"
      ]
     },
     "execution_count": 21,
     "metadata": {},
     "output_type": "execute_result"
    }
   ],
   "source": [
    "cnn"
   ]
  },
  {
   "cell_type": "code",
   "execution_count": 22,
   "metadata": {},
   "outputs": [
    {
     "data": {
      "text/plain": [
       "tensor([[[[0.6085]]]], grad_fn=<ViewBackward>)"
      ]
     },
     "execution_count": 22,
     "metadata": {},
     "output_type": "execute_result"
    }
   ],
   "source": [
    "cnn(xt)"
   ]
  },
  {
   "cell_type": "code",
   "execution_count": null,
   "metadata": {},
   "outputs": [],
   "source": []
  },
  {
   "cell_type": "code",
   "execution_count": null,
   "metadata": {},
   "outputs": [],
   "source": []
  }
 ],
 "metadata": {
  "kernelspec": {
   "display_name": "Python 3",
   "language": "python",
   "name": "python3"
  },
  "language_info": {
   "codemirror_mode": {
    "name": "ipython",
    "version": 3
   },
   "file_extension": ".py",
   "mimetype": "text/x-python",
   "name": "python",
   "nbconvert_exporter": "python",
   "pygments_lexer": "ipython3",
   "version": "3.6.9"
  }
 },
 "nbformat": 4,
 "nbformat_minor": 4
}
